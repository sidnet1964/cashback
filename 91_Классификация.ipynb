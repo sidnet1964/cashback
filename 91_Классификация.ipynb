{
  "cells": [
    {
      "cell_type": "markdown",
      "metadata": {
        "id": "view-in-github",
        "colab_type": "text"
      },
      "source": [
        "<a href=\"https://colab.research.google.com/github/sidnet1964/cashback/blob/master/91_%D0%9A%D0%BB%D0%B0%D1%81%D1%81%D0%B8%D1%84%D0%B8%D0%BA%D0%B0%D1%86%D0%B8%D1%8F.ipynb\" target=\"_parent\"><img src=\"https://colab.research.google.com/assets/colab-badge.svg\" alt=\"Open In Colab\"/></a>"
      ]
    },
    {
      "cell_type": "markdown",
      "metadata": {
        "id": "Q2jG3J54qb_o"
      },
      "source": [
        "# Телеком — задача проекта\n",
        "\n",
        "Оператор связи **«Ниединогоразрыва.ком»** хочет научиться прогнозировать отток клиентов. Если выяснится, что пользователь планирует уйти, ему будут предложены промокоды и специальные условия. Команда оператора собрала персональные данные о некоторых клиентах, информацию об их тарифах и договорах."
      ]
    },
    {
      "cell_type": "markdown",
      "metadata": {
        "id": "QRhG0NCsVPrj"
      },
      "source": [
        "## Описание данных\n",
        "Данные состоят из файлов, полученных из разных источников:\n",
        "> * contract.csv — информация о договоре;\n",
        "> * personal.csv — персональные данные клиента;\n",
        "> * internet.csv — информация об интернет-услугах;\n",
        "> * phone.csv — информация об услугах телефонии.\n",
        "\n",
        "Во всех файлах столбец customerID содержит код клиента.\n",
        "\n",
        "Информация о договорах актуальна на 1 февраля 2020.\n"
      ]
    },
    {
      "cell_type": "markdown",
      "metadata": {
        "id": "jRy-G3usUkKh"
      },
      "source": [
        "## Описание полей данных: \n",
        "\n",
        "* BeginDate – дата начала пользования услугами, \n",
        "* EndDate – дата окончания пользования услугами, \n",
        "* Type – тип договора: ежемесячный, годовой и т.д, \n",
        "* PaperlessBilling – факт выставления счёта на электронную почту, \n",
        "* PaymentMethod – способ оплаты, \n",
        "* MonthlyCharges – ежемесячные траты на услуги, \n",
        "* TotalCharges – всего потрачено денег на услуги, \n",
        "* Dependents – наличие иждивенцев, \n",
        "* Senior Citizen – наличие пенсионного статуса по возрасту, \n",
        "* Partner – наличие супруга(и), \n",
        "* MultipleLines – наличие возможности ведения параллельных линий во время звонка. "
      ]
    },
    {
      "cell_type": "markdown",
      "metadata": {
        "id": "LrnqiDd_ZbZy"
      },
      "source": [
        "<div class=\"alert alert-success\">\n",
        "<h2> Комментарий тимлида <a class=\"tocSkip\"> </h2>\n",
        "\n",
        "<b>Все отлично!👍:</b>\n",
        " Молодец, что не забываешь про заголовок и описание, это важно, так и самому удобнее работать, когда они всегда на виду, так и другим будет проще понять, что происходит в твоей тетради :)\n",
        "</div>"
      ]
    },
    {
      "cell_type": "markdown",
      "metadata": {
        "id": "y9IL4k0zWBGF"
      },
      "source": [
        "# Подготовка к работе "
      ]
    },
    {
      "cell_type": "code",
      "execution_count": null,
      "metadata": {
        "id": "kQUPHurLcyCR"
      },
      "outputs": [],
      "source": [
        "# звгрузка необходимых компонент\n",
        "!pip install catboost -q\n",
        "!pip install phik -q"
      ]
    },
    {
      "cell_type": "markdown",
      "metadata": {
        "id": "OCQiA5I-NpJg"
      },
      "source": [
        "<div class=\"alert alert-warning\">\n",
        "<h2> Комментарий тимлида 3<a class=\"tocSkip\"> </h2>\n",
        "    \n",
        "<b>Некоторые замечания и рекомендации💡:</b> \n",
        "    \n",
        "* Чтобы вся эта информация не выводилась при установке, можно добавить в конце строки `-q`.\n"
      ]
    },
    {
      "cell_type": "markdown",
      "metadata": {
        "id": "GjvVWk-32oNl"
      },
      "source": [
        "<div class=\"alert alert-block alert-info\">\n",
        "<b>Комментарий студента:</b> \n",
        "Замечание принято во внимание. Спасибо за подсказку.\n",
        "</div>"
      ]
    },
    {
      "cell_type": "code",
      "execution_count": null,
      "metadata": {
        "id": "K_hiO5LqaMaq"
      },
      "outputs": [],
      "source": [
        "# импорт необходимых библиотек\n",
        "import pandas as pd\n",
        "import numpy as np\n",
        "import seaborn as sns\n",
        "import matplotlib.pyplot as plt\n",
        "import warnings\n",
        "from time import time\n",
        "import phik\n",
        "from phik.report import plot_correlation_matrix\n",
        "from phik import report\n",
        "\n",
        "from sklearn.compose import ColumnTransformer\n",
        "from sklearn.dummy import DummyClassifier\n",
        "from sklearn.inspection import permutation_importance\n",
        "from sklearn.metrics import accuracy_score\n",
        "from sklearn.metrics import log_loss\n",
        "from sklearn.metrics import f1_score\n",
        "from sklearn.metrics import roc_auc_score\n",
        "from sklearn.metrics import roc_curve\n",
        "from sklearn.metrics import confusion_matrix, ConfusionMatrixDisplay\n",
        "from sklearn.model_selection import GridSearchCV\n",
        "from sklearn.model_selection import train_test_split\n",
        "from sklearn.pipeline import Pipeline\n",
        "from sklearn.preprocessing import StandardScaler\n",
        "from sklearn.preprocessing import OrdinalEncoder\n",
        "from sklearn.preprocessing import OneHotEncoder\n",
        "\n",
        "from catboost import CatBoostClassifier, Pool\n",
        "import lightgbm as lgb"
      ]
    },
    {
      "cell_type": "code",
      "execution_count": null,
      "metadata": {
        "id": "mML8ZEmJsgN7"
      },
      "outputs": [],
      "source": [
        "# определение констант\n",
        "RANDOM_STATE = 270323\n",
        "TEST_SIZE = 0.25\n",
        "# подавление вывода предупреждений\n",
        "warnings.filterwarnings('ignore')"
      ]
    },
    {
      "cell_type": "markdown",
      "metadata": {
        "id": "TAdDJbnMys2Q"
      },
      "source": [
        "## Загрузка данных"
      ]
    },
    {
      "cell_type": "code",
      "execution_count": null,
      "metadata": {
        "id": "AwiuPSPeZbZz"
      },
      "outputs": [],
      "source": [
        "try:\n",
        "    # чтение файлов с данными\n",
        "    contract = pd.read_csv('/datasets/final_provider/contract.csv')\n",
        "    internet = pd.read_csv('/datasets/final_provider/internet.csv')\n",
        "    personal = pd.read_csv('/datasets/final_provider/personal.csv')\n",
        "    phone = pd.read_csv('/datasets/final_provider/phone.csv')\n",
        "except:\n",
        "    # загрузка данных, размещенных на Google Диске\n",
        "    ! gdown 1sxl_lM7EXGiTGc2K-ep1gD5GWGBALxnn -q # contract\n",
        "    ! gdown 1typTVyYXO2LuDJOc6dqc7x9rpsow1o4A -q  # internet\n",
        "    ! gdown 1TssIuKTwSwf_pVxPA2drY24IKe6-CivN -q  # personal\n",
        "    ! gdown 17bvSFhS1RfNJ-eDyQjL8O7rgCwqnAekF -q  # phone\n",
        "    # чтение файлов с данными\n",
        "    contract = pd.read_csv('contract.csv')  #  — информация о договоре\n",
        "    internet = pd.read_csv('internet.csv')  #  — информация об интернет-услугах;\n",
        "    personal = pd.read_csv('personal.csv')  #  — персональные данные клиента\n",
        "    phone = pd.read_csv('phone.csv')        #  — информация об услугах телефонии"
      ]
    },
    {
      "cell_type": "code",
      "execution_count": null,
      "metadata": {
        "id": "jAj_LN8S_xje",
        "colab": {
          "base_uri": "https://localhost:8080/"
        },
        "outputId": "87083316-2b8e-400e-a836-732fb3b01011"
      },
      "outputs": [
        {
          "output_type": "stream",
          "name": "stdout",
          "text": [
            "contract (7043, 8)\n",
            "internet (5517, 8)\n",
            "personal (7043, 5)\n",
            "phone (6361, 2)\n"
          ]
        }
      ],
      "source": [
        "# анализ размеров таблиц\n",
        "print('contract', contract.shape)\n",
        "print('internet', internet.shape)\n",
        "print('personal', personal.shape)\n",
        "print('phone', phone.shape)"
      ]
    },
    {
      "cell_type": "code",
      "execution_count": null,
      "metadata": {
        "id": "9mv43UstoYTz"
      },
      "outputs": [],
      "source": [
        "def duplicated_check(table):\n",
        "    '''\n",
        "    Проверка таблицы на наличие дубликатов строк\n",
        "    Входной параметр:\n",
        "    - table - дата-фрейм\n",
        "    Возвращает:\n",
        "    - в теле функции выводится сообщение\n",
        "    '''\n",
        "    duplicated_sum = table.duplicated().sum()\n",
        "    print('Размер дата-фрейма -', table.shape, end=' ')\n",
        "    if  duplicated_sum > 0:\n",
        "        print('Обнаружено дубликатов', duplicated_sum )\n",
        "    else:\n",
        "        print('Дубликатов не обнаружено')"
      ]
    },
    {
      "cell_type": "markdown",
      "metadata": {
        "id": "JoNo32UyZbZ0"
      },
      "source": [
        "<div class=\"alert alert-success\">\n",
        "<h2> Комментарий тимлида <a class=\"tocSkip\"> </h2>\n",
        "\n",
        "<b>Все отлично!👍:</b> плюс за функцию, избегаем диблирования кода"
      ]
    },
    {
      "cell_type": "markdown",
      "metadata": {
        "id": "4mBdHukSy19g"
      },
      "source": [
        "### Анализ таблицы `personal` — персональные данные клиента"
      ]
    },
    {
      "cell_type": "code",
      "execution_count": null,
      "metadata": {
        "id": "nmwU-dEBzoP5",
        "colab": {
          "base_uri": "https://localhost:8080/"
        },
        "outputId": "edc6c367-4291-46d4-dc53-79ab8f8b8542"
      },
      "outputs": [
        {
          "output_type": "stream",
          "name": "stdout",
          "text": [
            "<class 'pandas.core.frame.DataFrame'>\n",
            "RangeIndex: 7043 entries, 0 to 7042\n",
            "Data columns (total 5 columns):\n",
            " #   Column         Non-Null Count  Dtype \n",
            "---  ------         --------------  ----- \n",
            " 0   customerID     7043 non-null   object\n",
            " 1   gender         7043 non-null   object\n",
            " 2   SeniorCitizen  7043 non-null   int64 \n",
            " 3   Partner        7043 non-null   object\n",
            " 4   Dependents     7043 non-null   object\n",
            "dtypes: int64(1), object(4)\n",
            "memory usage: 275.2+ KB\n"
          ]
        }
      ],
      "source": [
        "personal.info()"
      ]
    },
    {
      "cell_type": "code",
      "execution_count": null,
      "metadata": {
        "id": "ulpxLJ75B4c3",
        "colab": {
          "base_uri": "https://localhost:8080/",
          "height": 206
        },
        "outputId": "cc2ff808-17be-4e88-e586-1c37b67494ba"
      },
      "outputs": [
        {
          "output_type": "execute_result",
          "data": {
            "text/plain": [
              "   customerID  gender  SeniorCitizen Partner Dependents\n",
              "0  7590-VHVEG  Female              0     Yes         No\n",
              "1  5575-GNVDE    Male              0      No         No\n",
              "2  3668-QPYBK    Male              0      No         No\n",
              "3  7795-CFOCW    Male              0      No         No\n",
              "4  9237-HQITU  Female              0      No         No"
            ],
            "text/html": [
              "\n",
              "  <div id=\"df-c3ef0364-3a4b-43ab-8759-9d6922b0f8e8\">\n",
              "    <div class=\"colab-df-container\">\n",
              "      <div>\n",
              "<style scoped>\n",
              "    .dataframe tbody tr th:only-of-type {\n",
              "        vertical-align: middle;\n",
              "    }\n",
              "\n",
              "    .dataframe tbody tr th {\n",
              "        vertical-align: top;\n",
              "    }\n",
              "\n",
              "    .dataframe thead th {\n",
              "        text-align: right;\n",
              "    }\n",
              "</style>\n",
              "<table border=\"1\" class=\"dataframe\">\n",
              "  <thead>\n",
              "    <tr style=\"text-align: right;\">\n",
              "      <th></th>\n",
              "      <th>customerID</th>\n",
              "      <th>gender</th>\n",
              "      <th>SeniorCitizen</th>\n",
              "      <th>Partner</th>\n",
              "      <th>Dependents</th>\n",
              "    </tr>\n",
              "  </thead>\n",
              "  <tbody>\n",
              "    <tr>\n",
              "      <th>0</th>\n",
              "      <td>7590-VHVEG</td>\n",
              "      <td>Female</td>\n",
              "      <td>0</td>\n",
              "      <td>Yes</td>\n",
              "      <td>No</td>\n",
              "    </tr>\n",
              "    <tr>\n",
              "      <th>1</th>\n",
              "      <td>5575-GNVDE</td>\n",
              "      <td>Male</td>\n",
              "      <td>0</td>\n",
              "      <td>No</td>\n",
              "      <td>No</td>\n",
              "    </tr>\n",
              "    <tr>\n",
              "      <th>2</th>\n",
              "      <td>3668-QPYBK</td>\n",
              "      <td>Male</td>\n",
              "      <td>0</td>\n",
              "      <td>No</td>\n",
              "      <td>No</td>\n",
              "    </tr>\n",
              "    <tr>\n",
              "      <th>3</th>\n",
              "      <td>7795-CFOCW</td>\n",
              "      <td>Male</td>\n",
              "      <td>0</td>\n",
              "      <td>No</td>\n",
              "      <td>No</td>\n",
              "    </tr>\n",
              "    <tr>\n",
              "      <th>4</th>\n",
              "      <td>9237-HQITU</td>\n",
              "      <td>Female</td>\n",
              "      <td>0</td>\n",
              "      <td>No</td>\n",
              "      <td>No</td>\n",
              "    </tr>\n",
              "  </tbody>\n",
              "</table>\n",
              "</div>\n",
              "      <button class=\"colab-df-convert\" onclick=\"convertToInteractive('df-c3ef0364-3a4b-43ab-8759-9d6922b0f8e8')\"\n",
              "              title=\"Convert this dataframe to an interactive table.\"\n",
              "              style=\"display:none;\">\n",
              "        \n",
              "  <svg xmlns=\"http://www.w3.org/2000/svg\" height=\"24px\"viewBox=\"0 0 24 24\"\n",
              "       width=\"24px\">\n",
              "    <path d=\"M0 0h24v24H0V0z\" fill=\"none\"/>\n",
              "    <path d=\"M18.56 5.44l.94 2.06.94-2.06 2.06-.94-2.06-.94-.94-2.06-.94 2.06-2.06.94zm-11 1L8.5 8.5l.94-2.06 2.06-.94-2.06-.94L8.5 2.5l-.94 2.06-2.06.94zm10 10l.94 2.06.94-2.06 2.06-.94-2.06-.94-.94-2.06-.94 2.06-2.06.94z\"/><path d=\"M17.41 7.96l-1.37-1.37c-.4-.4-.92-.59-1.43-.59-.52 0-1.04.2-1.43.59L10.3 9.45l-7.72 7.72c-.78.78-.78 2.05 0 2.83L4 21.41c.39.39.9.59 1.41.59.51 0 1.02-.2 1.41-.59l7.78-7.78 2.81-2.81c.8-.78.8-2.07 0-2.86zM5.41 20L4 18.59l7.72-7.72 1.47 1.35L5.41 20z\"/>\n",
              "  </svg>\n",
              "      </button>\n",
              "      \n",
              "  <style>\n",
              "    .colab-df-container {\n",
              "      display:flex;\n",
              "      flex-wrap:wrap;\n",
              "      gap: 12px;\n",
              "    }\n",
              "\n",
              "    .colab-df-convert {\n",
              "      background-color: #E8F0FE;\n",
              "      border: none;\n",
              "      border-radius: 50%;\n",
              "      cursor: pointer;\n",
              "      display: none;\n",
              "      fill: #1967D2;\n",
              "      height: 32px;\n",
              "      padding: 0 0 0 0;\n",
              "      width: 32px;\n",
              "    }\n",
              "\n",
              "    .colab-df-convert:hover {\n",
              "      background-color: #E2EBFA;\n",
              "      box-shadow: 0px 1px 2px rgba(60, 64, 67, 0.3), 0px 1px 3px 1px rgba(60, 64, 67, 0.15);\n",
              "      fill: #174EA6;\n",
              "    }\n",
              "\n",
              "    [theme=dark] .colab-df-convert {\n",
              "      background-color: #3B4455;\n",
              "      fill: #D2E3FC;\n",
              "    }\n",
              "\n",
              "    [theme=dark] .colab-df-convert:hover {\n",
              "      background-color: #434B5C;\n",
              "      box-shadow: 0px 1px 3px 1px rgba(0, 0, 0, 0.15);\n",
              "      filter: drop-shadow(0px 1px 2px rgba(0, 0, 0, 0.3));\n",
              "      fill: #FFFFFF;\n",
              "    }\n",
              "  </style>\n",
              "\n",
              "      <script>\n",
              "        const buttonEl =\n",
              "          document.querySelector('#df-c3ef0364-3a4b-43ab-8759-9d6922b0f8e8 button.colab-df-convert');\n",
              "        buttonEl.style.display =\n",
              "          google.colab.kernel.accessAllowed ? 'block' : 'none';\n",
              "\n",
              "        async function convertToInteractive(key) {\n",
              "          const element = document.querySelector('#df-c3ef0364-3a4b-43ab-8759-9d6922b0f8e8');\n",
              "          const dataTable =\n",
              "            await google.colab.kernel.invokeFunction('convertToInteractive',\n",
              "                                                     [key], {});\n",
              "          if (!dataTable) return;\n",
              "\n",
              "          const docLinkHtml = 'Like what you see? Visit the ' +\n",
              "            '<a target=\"_blank\" href=https://colab.research.google.com/notebooks/data_table.ipynb>data table notebook</a>'\n",
              "            + ' to learn more about interactive tables.';\n",
              "          element.innerHTML = '';\n",
              "          dataTable['output_type'] = 'display_data';\n",
              "          await google.colab.output.renderOutput(dataTable, element);\n",
              "          const docLink = document.createElement('div');\n",
              "          docLink.innerHTML = docLinkHtml;\n",
              "          element.appendChild(docLink);\n",
              "        }\n",
              "      </script>\n",
              "    </div>\n",
              "  </div>\n",
              "  "
            ]
          },
          "metadata": {},
          "execution_count": 1086
        }
      ],
      "source": [
        "personal.head()"
      ]
    },
    {
      "cell_type": "code",
      "execution_count": null,
      "metadata": {
        "id": "JUfYJz2_5xwL",
        "colab": {
          "base_uri": "https://localhost:8080/"
        },
        "outputId": "9bf7b5d2-1b14-40ae-b767-f1286ee89017"
      },
      "outputs": [
        {
          "output_type": "stream",
          "name": "stdout",
          "text": [
            "Размер дата-фрейма - (7043, 5) Дубликатов не обнаружено\n"
          ]
        }
      ],
      "source": [
        "# произвести переименование столбцов\n",
        "personal.columns = ['customer_id', 'gender', 'senior_citizen', 'partner', 'dependents']\n",
        "# проверка таблицы на дубликаты\n",
        "duplicated_check(personal)"
      ]
    },
    {
      "cell_type": "code",
      "execution_count": null,
      "metadata": {
        "id": "Q5xH0N_sHegw",
        "colab": {
          "base_uri": "https://localhost:8080/"
        },
        "outputId": "c8bda600-08e8-4729-8b93-4ca915986a55"
      },
      "outputs": [
        {
          "output_type": "stream",
          "name": "stdout",
          "text": [
            "Male      0.504756\n",
            "Female    0.495244\n",
            "Name: gender, dtype: float64\n"
          ]
        }
      ],
      "source": [
        "# анализ баланса классов gender\n",
        "class_frequency = personal['gender'].value_counts(normalize=True, dropna=False)\n",
        "print(class_frequency.head())"
      ]
    },
    {
      "cell_type": "markdown",
      "metadata": {
        "id": "NA6xtXtMrrHx"
      },
      "source": [
        "**Вывод**: Распределение клиентов по признаку пола носит естественный характер."
      ]
    },
    {
      "cell_type": "code",
      "execution_count": null,
      "metadata": {
        "id": "8LOep5G57og4",
        "colab": {
          "base_uri": "https://localhost:8080/"
        },
        "outputId": "6723962f-5795-4fdd-f31b-8c37d557ec22"
      },
      "outputs": [
        {
          "output_type": "stream",
          "name": "stdout",
          "text": [
            "0    0.837853\n",
            "1    0.162147\n",
            "Name: senior_citizen, dtype: float64\n"
          ]
        }
      ],
      "source": [
        "# анализ баланса классов senior_citizen\n",
        "class_frequency = personal['senior_citizen'].value_counts(normalize=True, dropna=False)\n",
        "print(class_frequency.head())"
      ]
    },
    {
      "cell_type": "markdown",
      "metadata": {
        "id": "y1Jyy0qKsIxr"
      },
      "source": [
        "**Вывод**: Распределение клиентов по пенсионному статусу соответствует демографической ситуации."
      ]
    },
    {
      "cell_type": "code",
      "execution_count": null,
      "metadata": {
        "id": "RQcTTSdE8Vpi",
        "colab": {
          "base_uri": "https://localhost:8080/"
        },
        "outputId": "4b66dceb-3599-45c3-dd7f-811b3a96083f"
      },
      "outputs": [
        {
          "output_type": "stream",
          "name": "stdout",
          "text": [
            "No     0.516967\n",
            "Yes    0.483033\n",
            "Name: partner, dtype: float64\n"
          ]
        }
      ],
      "source": [
        "# анализ баланса классов partner\n",
        "class_frequency = personal['partner'].value_counts(normalize=True, dropna=False)\n",
        "print(class_frequency.head())"
      ]
    },
    {
      "cell_type": "code",
      "execution_count": null,
      "metadata": {
        "id": "qFD4uJ-N8Vpn"
      },
      "outputs": [],
      "source": [
        "# произвести кодирование признака partner для бустинговых моделей\n",
        "personal['partner'] = personal.apply(lambda x: 0 if x.partner == 'No' else 1, axis=1)\n",
        "personal['partner'] = personal['partner'].astype('int')"
      ]
    },
    {
      "cell_type": "markdown",
      "metadata": {
        "id": "gXxdAkees4zj"
      },
      "source": [
        "**Вывод**: Распределение клиентов по семейному статусу соответствует демографической ситуации."
      ]
    },
    {
      "cell_type": "code",
      "execution_count": null,
      "metadata": {
        "id": "vvjWSh3p9JSJ",
        "colab": {
          "base_uri": "https://localhost:8080/"
        },
        "outputId": "98d7c6fe-76c2-40b8-93c8-658e6f3b1f0f"
      },
      "outputs": [
        {
          "output_type": "stream",
          "name": "stdout",
          "text": [
            "No     0.700412\n",
            "Yes    0.299588\n",
            "Name: dependents, dtype: float64\n"
          ]
        }
      ],
      "source": [
        "# анализ баланса классов dependents\n",
        "class_frequency = personal['dependents'].value_counts(normalize=True, dropna=False)\n",
        "print(class_frequency.head())"
      ]
    },
    {
      "cell_type": "code",
      "execution_count": null,
      "metadata": {
        "id": "C1pHDJeO9JSJ"
      },
      "outputs": [],
      "source": [
        "# произвести кодирование признака dependents для бустинговых моделей\n",
        "personal['dependents'] = personal.apply(lambda x: 0 if x.dependents == 'No' else 1, axis=1)\n",
        "personal['dependents'] = personal['partner'].astype('int')"
      ]
    },
    {
      "cell_type": "markdown",
      "metadata": {
        "id": "7LVE3RZZtNSK"
      },
      "source": [
        "**Вывод**: Распределение клиентов по наличию иждивенцев соответствует демографической ситуации."
      ]
    },
    {
      "cell_type": "code",
      "execution_count": null,
      "metadata": {
        "id": "R0Dn3NIrgEZP",
        "colab": {
          "base_uri": "https://localhost:8080/"
        },
        "outputId": "d3f5213f-44fe-4a05-f502-3670582925a3"
      },
      "outputs": [
        {
          "output_type": "stream",
          "name": "stdout",
          "text": [
            "<class 'pandas.core.frame.DataFrame'>\n",
            "RangeIndex: 7043 entries, 0 to 7042\n",
            "Data columns (total 5 columns):\n",
            " #   Column          Non-Null Count  Dtype \n",
            "---  ------          --------------  ----- \n",
            " 0   customer_id     7043 non-null   object\n",
            " 1   gender          7043 non-null   object\n",
            " 2   senior_citizen  7043 non-null   int64 \n",
            " 3   partner         7043 non-null   int64 \n",
            " 4   dependents      7043 non-null   int64 \n",
            "dtypes: int64(3), object(2)\n",
            "memory usage: 275.2+ KB\n"
          ]
        }
      ],
      "source": [
        "personal.info()"
      ]
    },
    {
      "cell_type": "markdown",
      "metadata": {
        "id": "ClMlusar-DMO"
      },
      "source": [
        "**Выводы по таблице `personal`**\n",
        "\n",
        "* Пропуски и дубликаты отсутствуют.\n",
        "* Имена переменных переведены к стилю snake_case\n",
        "* Для полей 'partner', 'dependents' проведено ординарное кодирование и установлен тип `int`"
      ]
    },
    {
      "cell_type": "markdown",
      "metadata": {
        "id": "SsPfpsQuZbZ2"
      },
      "source": [
        "<div class=\"alert alert-success\">\n",
        "<h2> Комментарий тимлида <a class=\"tocSkip\"> </h2>\n",
        "\n",
        "<b>Все отлично!👍:</b> хорошо, плюс за промежуточные выводы"
      ]
    },
    {
      "cell_type": "markdown",
      "metadata": {
        "id": "UbS9hKYGzEC7"
      },
      "source": [
        "### Анализ таблицы `contract` — информация о договоре\n"
      ]
    },
    {
      "cell_type": "code",
      "execution_count": null,
      "metadata": {
        "id": "AB2uCJANCELe",
        "colab": {
          "base_uri": "https://localhost:8080/",
          "height": 409
        },
        "outputId": "b33c50c0-4cd3-4d60-fe4c-d704abfdcdcc"
      },
      "outputs": [
        {
          "output_type": "execute_result",
          "data": {
            "text/plain": [
              "   customerID   BeginDate              EndDate            Type  \\\n",
              "0  7590-VHVEG  2020-01-01                   No  Month-to-month   \n",
              "1  5575-GNVDE  2017-04-01                   No        One year   \n",
              "2  3668-QPYBK  2019-10-01  2019-12-01 00:00:00  Month-to-month   \n",
              "3  7795-CFOCW  2016-05-01                   No        One year   \n",
              "4  9237-HQITU  2019-09-01  2019-11-01 00:00:00  Month-to-month   \n",
              "\n",
              "  PaperlessBilling              PaymentMethod  MonthlyCharges TotalCharges  \n",
              "0              Yes           Electronic check           29.85        29.85  \n",
              "1               No               Mailed check           56.95       1889.5  \n",
              "2              Yes               Mailed check           53.85       108.15  \n",
              "3               No  Bank transfer (automatic)           42.30      1840.75  \n",
              "4              Yes           Electronic check           70.70       151.65  "
            ],
            "text/html": [
              "\n",
              "  <div id=\"df-fecb732f-cb73-4739-9af9-bf30901c8d45\">\n",
              "    <div class=\"colab-df-container\">\n",
              "      <div>\n",
              "<style scoped>\n",
              "    .dataframe tbody tr th:only-of-type {\n",
              "        vertical-align: middle;\n",
              "    }\n",
              "\n",
              "    .dataframe tbody tr th {\n",
              "        vertical-align: top;\n",
              "    }\n",
              "\n",
              "    .dataframe thead th {\n",
              "        text-align: right;\n",
              "    }\n",
              "</style>\n",
              "<table border=\"1\" class=\"dataframe\">\n",
              "  <thead>\n",
              "    <tr style=\"text-align: right;\">\n",
              "      <th></th>\n",
              "      <th>customerID</th>\n",
              "      <th>BeginDate</th>\n",
              "      <th>EndDate</th>\n",
              "      <th>Type</th>\n",
              "      <th>PaperlessBilling</th>\n",
              "      <th>PaymentMethod</th>\n",
              "      <th>MonthlyCharges</th>\n",
              "      <th>TotalCharges</th>\n",
              "    </tr>\n",
              "  </thead>\n",
              "  <tbody>\n",
              "    <tr>\n",
              "      <th>0</th>\n",
              "      <td>7590-VHVEG</td>\n",
              "      <td>2020-01-01</td>\n",
              "      <td>No</td>\n",
              "      <td>Month-to-month</td>\n",
              "      <td>Yes</td>\n",
              "      <td>Electronic check</td>\n",
              "      <td>29.85</td>\n",
              "      <td>29.85</td>\n",
              "    </tr>\n",
              "    <tr>\n",
              "      <th>1</th>\n",
              "      <td>5575-GNVDE</td>\n",
              "      <td>2017-04-01</td>\n",
              "      <td>No</td>\n",
              "      <td>One year</td>\n",
              "      <td>No</td>\n",
              "      <td>Mailed check</td>\n",
              "      <td>56.95</td>\n",
              "      <td>1889.5</td>\n",
              "    </tr>\n",
              "    <tr>\n",
              "      <th>2</th>\n",
              "      <td>3668-QPYBK</td>\n",
              "      <td>2019-10-01</td>\n",
              "      <td>2019-12-01 00:00:00</td>\n",
              "      <td>Month-to-month</td>\n",
              "      <td>Yes</td>\n",
              "      <td>Mailed check</td>\n",
              "      <td>53.85</td>\n",
              "      <td>108.15</td>\n",
              "    </tr>\n",
              "    <tr>\n",
              "      <th>3</th>\n",
              "      <td>7795-CFOCW</td>\n",
              "      <td>2016-05-01</td>\n",
              "      <td>No</td>\n",
              "      <td>One year</td>\n",
              "      <td>No</td>\n",
              "      <td>Bank transfer (automatic)</td>\n",
              "      <td>42.30</td>\n",
              "      <td>1840.75</td>\n",
              "    </tr>\n",
              "    <tr>\n",
              "      <th>4</th>\n",
              "      <td>9237-HQITU</td>\n",
              "      <td>2019-09-01</td>\n",
              "      <td>2019-11-01 00:00:00</td>\n",
              "      <td>Month-to-month</td>\n",
              "      <td>Yes</td>\n",
              "      <td>Electronic check</td>\n",
              "      <td>70.70</td>\n",
              "      <td>151.65</td>\n",
              "    </tr>\n",
              "  </tbody>\n",
              "</table>\n",
              "</div>\n",
              "      <button class=\"colab-df-convert\" onclick=\"convertToInteractive('df-fecb732f-cb73-4739-9af9-bf30901c8d45')\"\n",
              "              title=\"Convert this dataframe to an interactive table.\"\n",
              "              style=\"display:none;\">\n",
              "        \n",
              "  <svg xmlns=\"http://www.w3.org/2000/svg\" height=\"24px\"viewBox=\"0 0 24 24\"\n",
              "       width=\"24px\">\n",
              "    <path d=\"M0 0h24v24H0V0z\" fill=\"none\"/>\n",
              "    <path d=\"M18.56 5.44l.94 2.06.94-2.06 2.06-.94-2.06-.94-.94-2.06-.94 2.06-2.06.94zm-11 1L8.5 8.5l.94-2.06 2.06-.94-2.06-.94L8.5 2.5l-.94 2.06-2.06.94zm10 10l.94 2.06.94-2.06 2.06-.94-2.06-.94-.94-2.06-.94 2.06-2.06.94z\"/><path d=\"M17.41 7.96l-1.37-1.37c-.4-.4-.92-.59-1.43-.59-.52 0-1.04.2-1.43.59L10.3 9.45l-7.72 7.72c-.78.78-.78 2.05 0 2.83L4 21.41c.39.39.9.59 1.41.59.51 0 1.02-.2 1.41-.59l7.78-7.78 2.81-2.81c.8-.78.8-2.07 0-2.86zM5.41 20L4 18.59l7.72-7.72 1.47 1.35L5.41 20z\"/>\n",
              "  </svg>\n",
              "      </button>\n",
              "      \n",
              "  <style>\n",
              "    .colab-df-container {\n",
              "      display:flex;\n",
              "      flex-wrap:wrap;\n",
              "      gap: 12px;\n",
              "    }\n",
              "\n",
              "    .colab-df-convert {\n",
              "      background-color: #E8F0FE;\n",
              "      border: none;\n",
              "      border-radius: 50%;\n",
              "      cursor: pointer;\n",
              "      display: none;\n",
              "      fill: #1967D2;\n",
              "      height: 32px;\n",
              "      padding: 0 0 0 0;\n",
              "      width: 32px;\n",
              "    }\n",
              "\n",
              "    .colab-df-convert:hover {\n",
              "      background-color: #E2EBFA;\n",
              "      box-shadow: 0px 1px 2px rgba(60, 64, 67, 0.3), 0px 1px 3px 1px rgba(60, 64, 67, 0.15);\n",
              "      fill: #174EA6;\n",
              "    }\n",
              "\n",
              "    [theme=dark] .colab-df-convert {\n",
              "      background-color: #3B4455;\n",
              "      fill: #D2E3FC;\n",
              "    }\n",
              "\n",
              "    [theme=dark] .colab-df-convert:hover {\n",
              "      background-color: #434B5C;\n",
              "      box-shadow: 0px 1px 3px 1px rgba(0, 0, 0, 0.15);\n",
              "      filter: drop-shadow(0px 1px 2px rgba(0, 0, 0, 0.3));\n",
              "      fill: #FFFFFF;\n",
              "    }\n",
              "  </style>\n",
              "\n",
              "      <script>\n",
              "        const buttonEl =\n",
              "          document.querySelector('#df-fecb732f-cb73-4739-9af9-bf30901c8d45 button.colab-df-convert');\n",
              "        buttonEl.style.display =\n",
              "          google.colab.kernel.accessAllowed ? 'block' : 'none';\n",
              "\n",
              "        async function convertToInteractive(key) {\n",
              "          const element = document.querySelector('#df-fecb732f-cb73-4739-9af9-bf30901c8d45');\n",
              "          const dataTable =\n",
              "            await google.colab.kernel.invokeFunction('convertToInteractive',\n",
              "                                                     [key], {});\n",
              "          if (!dataTable) return;\n",
              "\n",
              "          const docLinkHtml = 'Like what you see? Visit the ' +\n",
              "            '<a target=\"_blank\" href=https://colab.research.google.com/notebooks/data_table.ipynb>data table notebook</a>'\n",
              "            + ' to learn more about interactive tables.';\n",
              "          element.innerHTML = '';\n",
              "          dataTable['output_type'] = 'display_data';\n",
              "          await google.colab.output.renderOutput(dataTable, element);\n",
              "          const docLink = document.createElement('div');\n",
              "          docLink.innerHTML = docLinkHtml;\n",
              "          element.appendChild(docLink);\n",
              "        }\n",
              "      </script>\n",
              "    </div>\n",
              "  </div>\n",
              "  "
            ]
          },
          "metadata": {},
          "execution_count": 1095
        }
      ],
      "source": [
        "contract.head()"
      ]
    },
    {
      "cell_type": "code",
      "execution_count": null,
      "metadata": {
        "id": "Z0zQ3dWX_5R8",
        "colab": {
          "base_uri": "https://localhost:8080/"
        },
        "outputId": "0cf89b5b-2bdb-4136-c986-add93a6fd525"
      },
      "outputs": [
        {
          "output_type": "stream",
          "name": "stdout",
          "text": [
            "<class 'pandas.core.frame.DataFrame'>\n",
            "RangeIndex: 7043 entries, 0 to 7042\n",
            "Data columns (total 8 columns):\n",
            " #   Column            Non-Null Count  Dtype  \n",
            "---  ------            --------------  -----  \n",
            " 0   customerID        7043 non-null   object \n",
            " 1   BeginDate         7043 non-null   object \n",
            " 2   EndDate           7043 non-null   object \n",
            " 3   Type              7043 non-null   object \n",
            " 4   PaperlessBilling  7043 non-null   object \n",
            " 5   PaymentMethod     7043 non-null   object \n",
            " 6   MonthlyCharges    7043 non-null   float64\n",
            " 7   TotalCharges      7043 non-null   object \n",
            "dtypes: float64(1), object(7)\n",
            "memory usage: 440.3+ KB\n"
          ]
        }
      ],
      "source": [
        "contract.info()"
      ]
    },
    {
      "cell_type": "code",
      "execution_count": null,
      "metadata": {
        "id": "fulesomr_4Kd",
        "colab": {
          "base_uri": "https://localhost:8080/"
        },
        "outputId": "c1513e46-a248-4d80-d73c-93e5a4c58fde"
      },
      "outputs": [
        {
          "output_type": "stream",
          "name": "stdout",
          "text": [
            "Размер дата-фрейма - (7043, 8) Дубликатов не обнаружено\n"
          ]
        }
      ],
      "source": [
        "# произвести переименование столбцов\n",
        "contract.columns = ['customer_id', 'begin_date', 'end_date', 'type',\n",
        "                    'paperless_billing', 'payment_method', 'monthly_charges', 'total_charges']\n",
        "# проверка таблицы на дубликаты\n",
        "duplicated_check(contract)"
      ]
    },
    {
      "cell_type": "markdown",
      "metadata": {
        "id": "N1W65ZxrbuZx"
      },
      "source": [
        "**Создание целевого признака**"
      ]
    },
    {
      "cell_type": "code",
      "execution_count": null,
      "metadata": {
        "id": "IMSUdzaPbuZx"
      },
      "outputs": [],
      "source": [
        "# создать целевой признак на основе end_date\n",
        "contract['exit'] = contract.apply(lambda x: 0 if x.end_date == 'No' else 1, axis=1)"
      ]
    },
    {
      "cell_type": "markdown",
      "metadata": {
        "id": "d5plWgLpcDsf"
      },
      "source": [
        "<div class=\"alert alert-success\">\n",
        "<h2> Комментарий тимлида <a class=\"tocSkip\"> </h2>\n",
        "\n",
        "<b>Все отлично!👍:</b> таргет выделен верно"
      ]
    },
    {
      "cell_type": "code",
      "execution_count": null,
      "metadata": {
        "id": "F5kIOfqTbuZx",
        "colab": {
          "base_uri": "https://localhost:8080/"
        },
        "outputId": "7e3dc61e-58c2-428c-c297-19ef4a748e7f"
      },
      "outputs": [
        {
          "output_type": "stream",
          "name": "stdout",
          "text": [
            "0    0.73463\n",
            "1    0.26537\n",
            "Name: exit, dtype: float64\n"
          ]
        }
      ],
      "source": [
        "# анализ баланса классов\n",
        "class_frequency = contract['exit'].value_counts(normalize=True, dropna=False)\n",
        "print(class_frequency.head())"
      ]
    },
    {
      "cell_type": "code",
      "execution_count": null,
      "metadata": {
        "id": "OUZJ3G4sbuZy",
        "colab": {
          "base_uri": "https://localhost:8080/",
          "height": 368
        },
        "outputId": "8fddc44c-10a0-4734-cf39-9e4c91e596cc"
      },
      "outputs": [
        {
          "output_type": "display_data",
          "data": {
            "text/plain": [
              "<Figure size 400x400 with 1 Axes>"
            ],
            "image/png": "[encoded data removed]"
          },
          "metadata": {}
        }
      ],
      "source": [
        "plt.subplots(figsize=(4, 4))\n",
        "plt.rcParams['font.size'] = 14\n",
        "plt.pie(class_frequency, explode=(0, 0.1), labels=['Остались', 'Ушли'], \n",
        "        autopct='%1.1f%%', colors=['c','y'])\n",
        "plt.title(\"Распределение целевого признака\", size = 14)\n",
        "plt.show()"
      ]
    },
    {
      "cell_type": "markdown",
      "metadata": {
        "id": "JBFMViWhbuZy"
      },
      "source": [
        "**Вывод**: Отток клиентов составляет 26.5%. \n",
        "\n",
        "Необходимо проанализировать факторы, влияющие на решение отказаться от услуг и стимулировать лояльность клиентов."
      ]
    },
    {
      "cell_type": "markdown",
      "metadata": {
        "id": "ek8TFyaMZbZ4"
      },
      "source": [
        "<div class=\"alert alert-success\">\n",
        "<h2> Комментарий тимлида <a class=\"tocSkip\"> </h2>\n",
        "\n",
        "<b>Все отлично!👍:</b> отлично, что сразу анализируешь дисбланс классов"
      ]
    },
    {
      "cell_type": "markdown",
      "metadata": {
        "id": "7Es9MNyIqtkk"
      },
      "source": [
        "**Обработка временнЫх признаков**"
      ]
    },
    {
      "cell_type": "code",
      "execution_count": null,
      "metadata": {
        "id": "X9IUt3Jc8PRz",
        "colab": {
          "base_uri": "https://localhost:8080/"
        },
        "outputId": "495f940f-428f-44ff-aa83-219c5fd836d0"
      },
      "outputs": [
        {
          "output_type": "execute_result",
          "data": {
            "text/plain": [
              "(Timestamp('2013-10-01 00:00:00'), Timestamp('2020-02-01 00:00:00'))"
            ]
          },
          "metadata": {},
          "execution_count": 1101
        }
      ],
      "source": [
        "# приведение колонки к типу'date'\n",
        "contract['begin_date'] = pd.to_datetime(contract['begin_date'])\n",
        "# запомнить границы интервала begin_date\n",
        "begin_date_min = contract['begin_date'].describe(datetime_is_numeric=True)[2]\n",
        "begin_date_max = contract['begin_date'].describe(datetime_is_numeric=True)[6]\n",
        "begin_date_min, begin_date_max"
      ]
    },
    {
      "cell_type": "code",
      "execution_count": null,
      "metadata": {
        "id": "j7bz38puHNPF",
        "colab": {
          "base_uri": "https://localhost:8080/"
        },
        "outputId": "aa59a649-cc41-43bd-eb23-7dd8d4737a5f"
      },
      "outputs": [
        {
          "output_type": "stream",
          "name": "stdout",
          "text": [
            "2019-09-01    0.089888\n",
            "2019-10-01    0.077047\n",
            "2019-11-01    0.070091\n",
            "2019-12-01    0.056180\n",
            "2019-08-01    0.040663\n",
            "Name: begin_date, dtype: float64\n"
          ]
        }
      ],
      "source": [
        "# анализ распределения begin_date для тех клиентов, кто реально расторг контракт\n",
        "class_frequency = contract.loc[contract['exit'] == 1, 'begin_date'].value_counts(normalize=True, dropna=False)\n",
        "print(class_frequency.head())"
      ]
    },
    {
      "cell_type": "code",
      "execution_count": null,
      "metadata": {
        "id": "NveF-MK9GCYn",
        "colab": {
          "base_uri": "https://localhost:8080/"
        },
        "outputId": "b9b2523b-da6d-4783-ed3a-7ec830e24ac9"
      },
      "outputs": [
        {
          "output_type": "stream",
          "name": "stdout",
          "text": [
            "2019-11-01 00:00:00    0.259497\n",
            "2019-12-01 00:00:00    0.249331\n",
            "2020-01-01 00:00:00    0.246121\n",
            "2019-10-01 00:00:00    0.245051\n",
            "Name: end_date, dtype: float64\n"
          ]
        }
      ],
      "source": [
        "# анализ распределения end_date для тех клиентов, кто реально расторг контракт\n",
        "class_frequency = contract.loc[contract['exit'] == 1, 'end_date'].value_counts(normalize=True, dropna=False)\n",
        "print(class_frequency.head())"
      ]
    },
    {
      "cell_type": "code",
      "execution_count": null,
      "metadata": {
        "id": "wEgwSVvwWfLm"
      },
      "outputs": [],
      "source": [
        "# заменить 'пропущенные' значения в поле end_date максимальным значением\n",
        "contract['end_date'] = contract['end_date'].replace('No', begin_date_max)\n",
        "# приведение колонки к типу'to_datetime'\n",
        "contract['end_date'] = pd.to_datetime(contract['end_date'])"
      ]
    },
    {
      "cell_type": "markdown",
      "metadata": {
        "id": "4nhKlDr3ZbZ4"
      },
      "source": [
        "<div class=\"alert alert-success\">\n",
        "<h2> Комментарий тимлида <a class=\"tocSkip\"> </h2>\n",
        "\n",
        "<b>Все отлично!👍:</b>  отлично"
      ]
    },
    {
      "cell_type": "code",
      "execution_count": null,
      "metadata": {
        "id": "Urn_AjpxYQXM"
      },
      "outputs": [],
      "source": [
        "def count_months(row):\n",
        "    '''\n",
        "    Функция вычисляет количество месяцев между двумя датами\n",
        "    Входной параметр:\n",
        "    - row - строка с данными одного клиента/контракта\n",
        "    Возращает:\n",
        "    - количество месяцев в интервале\n",
        "    '''\n",
        "    year = row['end_date'].year - row['begin_date'].year\n",
        "    month = row['end_date'].month - row['begin_date'].month\n",
        "    data = (year * 12 + month + 1) * 30\n",
        "    return data"
      ]
    },
    {
      "cell_type": "code",
      "execution_count": null,
      "metadata": {
        "id": "XpsC6bJ3L_rz"
      },
      "outputs": [],
      "source": [
        "# расчет данных по всем клиентам\n",
        "contract['count_months'] = contract.apply(count_months, axis = 1)"
      ]
    },
    {
      "cell_type": "markdown",
      "metadata": {
        "id": "SaOH-kimUIpd"
      },
      "source": [
        "**Обработка категориальных признаков**"
      ]
    },
    {
      "cell_type": "code",
      "execution_count": null,
      "metadata": {
        "id": "VT95eqk8Rtpe",
        "colab": {
          "base_uri": "https://localhost:8080/"
        },
        "outputId": "482627a6-ad59-47aa-dec6-ffbe01ebc0b4"
      },
      "outputs": [
        {
          "output_type": "execute_result",
          "data": {
            "text/plain": [
              "         11\n",
              "20.2     11\n",
              "19.75     9\n",
              "20.05     8\n",
              "19.9      8\n",
              "Name: total_charges, dtype: int64"
            ]
          },
          "metadata": {},
          "execution_count": 1107
        }
      ],
      "source": [
        "# найти проблему в поле total_charges, из-за которой тип определен как object\n",
        "contract['total_charges'].value_counts().head()"
      ]
    },
    {
      "cell_type": "code",
      "execution_count": null,
      "metadata": {
        "id": "T9Jf7GjPPbJ2",
        "colab": {
          "base_uri": "https://localhost:8080/",
          "height": 357
        },
        "outputId": "bf217f98-761c-4cfd-d9d5-14636d265189"
      },
      "outputs": [
        {
          "output_type": "execute_result",
          "data": {
            "text/plain": [
              "     customer_id begin_date   end_date      type paperless_billing  \\\n",
              "488   4472-LVYGI 2020-02-01 2020-02-01  Two year               Yes   \n",
              "753   3115-CZMZD 2020-02-01 2020-02-01  Two year                No   \n",
              "936   5709-LVOEQ 2020-02-01 2020-02-01  Two year                No   \n",
              "1082  4367-NUYAO 2020-02-01 2020-02-01  Two year                No   \n",
              "1340  1371-DWPAZ 2020-02-01 2020-02-01  Two year                No   \n",
              "\n",
              "                 payment_method  monthly_charges total_charges  exit  \\\n",
              "488   Bank transfer (automatic)            52.55                   0   \n",
              "753                Mailed check            20.25                   0   \n",
              "936                Mailed check            80.85                   0   \n",
              "1082               Mailed check            25.75                   0   \n",
              "1340    Credit card (automatic)            56.05                   0   \n",
              "\n",
              "      count_months  \n",
              "488             30  \n",
              "753             30  \n",
              "936             30  \n",
              "1082            30  \n",
              "1340            30  "
            ],
            "text/html": [
              "\n",
              "  <div id=\"df-da0389b9-454a-43df-8e61-11e6fd397734\">\n",
              "    <div class=\"colab-df-container\">\n",
              "      <div>\n",
              "<style scoped>\n",
              "    .dataframe tbody tr th:only-of-type {\n",
              "        vertical-align: middle;\n",
              "    }\n",
              "\n",
              "    .dataframe tbody tr th {\n",
              "        vertical-align: top;\n",
              "    }\n",
              "\n",
              "    .dataframe thead th {\n",
              "        text-align: right;\n",
              "    }\n",
              "</style>\n",
              "<table border=\"1\" class=\"dataframe\">\n",
              "  <thead>\n",
              "    <tr style=\"text-align: right;\">\n",
              "      <th></th>\n",
              "      <th>customer_id</th>\n",
              "      <th>begin_date</th>\n",
              "      <th>end_date</th>\n",
              "      <th>type</th>\n",
              "      <th>paperless_billing</th>\n",
              "      <th>payment_method</th>\n",
              "      <th>monthly_charges</th>\n",
              "      <th>total_charges</th>\n",
              "      <th>exit</th>\n",
              "      <th>count_months</th>\n",
              "    </tr>\n",
              "  </thead>\n",
              "  <tbody>\n",
              "    <tr>\n",
              "      <th>488</th>\n",
              "      <td>4472-LVYGI</td>\n",
              "      <td>2020-02-01</td>\n",
              "      <td>2020-02-01</td>\n",
              "      <td>Two year</td>\n",
              "      <td>Yes</td>\n",
              "      <td>Bank transfer (automatic)</td>\n",
              "      <td>52.55</td>\n",
              "      <td></td>\n",
              "      <td>0</td>\n",
              "      <td>30</td>\n",
              "    </tr>\n",
              "    <tr>\n",
              "      <th>753</th>\n",
              "      <td>3115-CZMZD</td>\n",
              "      <td>2020-02-01</td>\n",
              "      <td>2020-02-01</td>\n",
              "      <td>Two year</td>\n",
              "      <td>No</td>\n",
              "      <td>Mailed check</td>\n",
              "      <td>20.25</td>\n",
              "      <td></td>\n",
              "      <td>0</td>\n",
              "      <td>30</td>\n",
              "    </tr>\n",
              "    <tr>\n",
              "      <th>936</th>\n",
              "      <td>5709-LVOEQ</td>\n",
              "      <td>2020-02-01</td>\n",
              "      <td>2020-02-01</td>\n",
              "      <td>Two year</td>\n",
              "      <td>No</td>\n",
              "      <td>Mailed check</td>\n",
              "      <td>80.85</td>\n",
              "      <td></td>\n",
              "      <td>0</td>\n",
              "      <td>30</td>\n",
              "    </tr>\n",
              "    <tr>\n",
              "      <th>1082</th>\n",
              "      <td>4367-NUYAO</td>\n",
              "      <td>2020-02-01</td>\n",
              "      <td>2020-02-01</td>\n",
              "      <td>Two year</td>\n",
              "      <td>No</td>\n",
              "      <td>Mailed check</td>\n",
              "      <td>25.75</td>\n",
              "      <td></td>\n",
              "      <td>0</td>\n",
              "      <td>30</td>\n",
              "    </tr>\n",
              "    <tr>\n",
              "      <th>1340</th>\n",
              "      <td>1371-DWPAZ</td>\n",
              "      <td>2020-02-01</td>\n",
              "      <td>2020-02-01</td>\n",
              "      <td>Two year</td>\n",
              "      <td>No</td>\n",
              "      <td>Credit card (automatic)</td>\n",
              "      <td>56.05</td>\n",
              "      <td></td>\n",
              "      <td>0</td>\n",
              "      <td>30</td>\n",
              "    </tr>\n",
              "  </tbody>\n",
              "</table>\n",
              "</div>\n",
              "      <button class=\"colab-df-convert\" onclick=\"convertToInteractive('df-da0389b9-454a-43df-8e61-11e6fd397734')\"\n",
              "              title=\"Convert this dataframe to an interactive table.\"\n",
              "              style=\"display:none;\">\n",
              "        \n",
              "  <svg xmlns=\"http://www.w3.org/2000/svg\" height=\"24px\"viewBox=\"0 0 24 24\"\n",
              "       width=\"24px\">\n",
              "    <path d=\"M0 0h24v24H0V0z\" fill=\"none\"/>\n",
              "    <path d=\"M18.56 5.44l.94 2.06.94-2.06 2.06-.94-2.06-.94-.94-2.06-.94 2.06-2.06.94zm-11 1L8.5 8.5l.94-2.06 2.06-.94-2.06-.94L8.5 2.5l-.94 2.06-2.06.94zm10 10l.94 2.06.94-2.06 2.06-.94-2.06-.94-.94-2.06-.94 2.06-2.06.94z\"/><path d=\"M17.41 7.96l-1.37-1.37c-.4-.4-.92-.59-1.43-.59-.52 0-1.04.2-1.43.59L10.3 9.45l-7.72 7.72c-.78.78-.78 2.05 0 2.83L4 21.41c.39.39.9.59 1.41.59.51 0 1.02-.2 1.41-.59l7.78-7.78 2.81-2.81c.8-.78.8-2.07 0-2.86zM5.41 20L4 18.59l7.72-7.72 1.47 1.35L5.41 20z\"/>\n",
              "  </svg>\n",
              "      </button>\n",
              "      \n",
              "  <style>\n",
              "    .colab-df-container {\n",
              "      display:flex;\n",
              "      flex-wrap:wrap;\n",
              "      gap: 12px;\n",
              "    }\n",
              "\n",
              "    .colab-df-convert {\n",
              "      background-color: #E8F0FE;\n",
              "      border: none;\n",
              "      border-radius: 50%;\n",
              "      cursor: pointer;\n",
              "      display: none;\n",
              "      fill: #1967D2;\n",
              "      height: 32px;\n",
              "      padding: 0 0 0 0;\n",
              "      width: 32px;\n",
              "    }\n",
              "\n",
              "    .colab-df-convert:hover {\n",
              "      background-color: #E2EBFA;\n",
              "      box-shadow: 0px 1px 2px rgba(60, 64, 67, 0.3), 0px 1px 3px 1px rgba(60, 64, 67, 0.15);\n",
              "      fill: #174EA6;\n",
              "    }\n",
              "\n",
              "    [theme=dark] .colab-df-convert {\n",
              "      background-color: #3B4455;\n",
              "      fill: #D2E3FC;\n",
              "    }\n",
              "\n",
              "    [theme=dark] .colab-df-convert:hover {\n",
              "      background-color: #434B5C;\n",
              "      box-shadow: 0px 1px 3px 1px rgba(0, 0, 0, 0.15);\n",
              "      filter: drop-shadow(0px 1px 2px rgba(0, 0, 0, 0.3));\n",
              "      fill: #FFFFFF;\n",
              "    }\n",
              "  </style>\n",
              "\n",
              "      <script>\n",
              "        const buttonEl =\n",
              "          document.querySelector('#df-da0389b9-454a-43df-8e61-11e6fd397734 button.colab-df-convert');\n",
              "        buttonEl.style.display =\n",
              "          google.colab.kernel.accessAllowed ? 'block' : 'none';\n",
              "\n",
              "        async function convertToInteractive(key) {\n",
              "          const element = document.querySelector('#df-da0389b9-454a-43df-8e61-11e6fd397734');\n",
              "          const dataTable =\n",
              "            await google.colab.kernel.invokeFunction('convertToInteractive',\n",
              "                                                     [key], {});\n",
              "          if (!dataTable) return;\n",
              "\n",
              "          const docLinkHtml = 'Like what you see? Visit the ' +\n",
              "            '<a target=\"_blank\" href=https://colab.research.google.com/notebooks/data_table.ipynb>data table notebook</a>'\n",
              "            + ' to learn more about interactive tables.';\n",
              "          element.innerHTML = '';\n",
              "          dataTable['output_type'] = 'display_data';\n",
              "          await google.colab.output.renderOutput(dataTable, element);\n",
              "          const docLink = document.createElement('div');\n",
              "          docLink.innerHTML = docLinkHtml;\n",
              "          element.appendChild(docLink);\n",
              "        }\n",
              "      </script>\n",
              "    </div>\n",
              "  </div>\n",
              "  "
            ]
          },
          "metadata": {},
          "execution_count": 1108
        }
      ],
      "source": [
        "# вывести пробелы в поле total_charges\n",
        "contract.loc[contract.loc[:, 'total_charges'] == ' '].head()"
      ]
    },
    {
      "cell_type": "markdown",
      "metadata": {
        "id": "opyS9OKQjQ5Q"
      },
      "source": [
        "**Замечание**\n",
        "\n",
        "В поле total_charges стоят пробелы у тех клиентов, кто подключился 2020-02-01 (последный меcяц доступного интервала).\n",
        "\n",
        "Пробел нужно заменить на число 0 и привести тип признака к `float`"
      ]
    },
    {
      "cell_type": "code",
      "execution_count": null,
      "metadata": {
        "id": "fce06f21"
      },
      "outputs": [],
      "source": [
        "# в поле total_charges стоят пробелы у тех, кто подключился 2020-02-01\n",
        "# заменить пропущенные значения в поле total_charges\n",
        "contract['total_charges'] = contract['total_charges'].replace(' ', 0)\n",
        "# преобразовать тип колонки total_charges\n",
        "contract['total_charges'] = contract['total_charges'].astype('float')"
      ]
    },
    {
      "cell_type": "markdown",
      "metadata": {
        "id": "kO77SWRyZbZ5"
      },
      "source": [
        "<div class=\"alert alert-success\">\n",
        "<h2> Комментарий тимлида <a class=\"tocSkip\"> </h2>\n",
        "\n",
        "<b>Все отлично!👍:</b> хорошо, согласна"
      ]
    },
    {
      "cell_type": "code",
      "execution_count": null,
      "metadata": {
        "id": "WOwbJJfkWcdC",
        "colab": {
          "base_uri": "https://localhost:8080/"
        },
        "outputId": "daba73da-3a7d-4ee8-9ea8-836103dccf0b"
      },
      "outputs": [
        {
          "output_type": "stream",
          "name": "stdout",
          "text": [
            "Month-to-month    0.550192\n",
            "Two year          0.240664\n",
            "One year          0.209144\n",
            "Name: type, dtype: float64\n"
          ]
        }
      ],
      "source": [
        "# анализ баланса классов dependents\n",
        "class_frequency = contract['type'].value_counts(normalize=True, dropna=False)\n",
        "print(class_frequency.head())"
      ]
    },
    {
      "cell_type": "markdown",
      "metadata": {
        "id": "FN1mcHbPtxij"
      },
      "source": [
        "**Вывод**: Больше половины клиентов предпочитают ежемесячную оплату услуг. Остальные выбрали годовой или двухгодичный контракт."
      ]
    },
    {
      "cell_type": "code",
      "execution_count": null,
      "metadata": {
        "id": "sBKNRuy6WssD",
        "colab": {
          "base_uri": "https://localhost:8080/"
        },
        "outputId": "05343958-0986-4583-ba8a-4d04efdd9d0d"
      },
      "outputs": [
        {
          "output_type": "stream",
          "name": "stdout",
          "text": [
            "Yes    0.592219\n",
            "No     0.407781\n",
            "Name: paperless_billing, dtype: float64\n"
          ]
        }
      ],
      "source": [
        "# анализ баланса классов paperless_billing\n",
        "class_frequency = contract['paperless_billing'].value_counts(normalize=True, dropna=False)\n",
        "print(class_frequency.head())"
      ]
    },
    {
      "cell_type": "code",
      "execution_count": null,
      "metadata": {
        "id": "y8cFmvfTtWgV"
      },
      "outputs": [],
      "source": [
        "# произвести кодирование признака paperless_billing для бустинговых моделей\n",
        "contract['paperless_billing'] = contract.apply(lambda x: 0 if x.paperless_billing == 'No' else 1, axis=1)\n",
        "contract['paperless_billing'] = contract['paperless_billing'].astype('int')"
      ]
    },
    {
      "cell_type": "code",
      "execution_count": null,
      "metadata": {
        "id": "jueB1WaAW4f2",
        "colab": {
          "base_uri": "https://localhost:8080/"
        },
        "outputId": "7f231948-c46a-461a-cf15-3cabc54c7f4e"
      },
      "outputs": [
        {
          "output_type": "stream",
          "name": "stdout",
          "text": [
            "Electronic check             0.335794\n",
            "Mailed check                 0.228880\n",
            "Bank transfer (automatic)    0.219225\n",
            "Credit card (automatic)      0.216101\n",
            "Name: payment_method, dtype: float64\n"
          ]
        }
      ],
      "source": [
        "# анализ баланса классов payment_method\n",
        "class_frequency = contract['payment_method'].value_counts(normalize=True, dropna=False)\n",
        "print(class_frequency.head())"
      ]
    },
    {
      "cell_type": "markdown",
      "metadata": {
        "id": "HA4Y5TL1ulu6"
      },
      "source": [
        "**Вывод**: Треть клиентов предпочитают электронный способ оплаты. Остальные равномерно распределились среди других вариантов."
      ]
    },
    {
      "cell_type": "code",
      "execution_count": null,
      "metadata": {
        "id": "4JObGHM_kXlW",
        "colab": {
          "base_uri": "https://localhost:8080/",
          "height": 300
        },
        "outputId": "bdb8deb6-04c8-47f3-e632-6e494a20f4d0"
      },
      "outputs": [
        {
          "output_type": "execute_result",
          "data": {
            "text/plain": [
              "       paperless_billing  monthly_charges  total_charges         exit  \\\n",
              "count        7043.000000      7043.000000    7043.000000  7043.000000   \n",
              "mean            0.592219        64.761692    2279.734304     0.265370   \n",
              "std             0.491457        30.090047    2266.794470     0.441561   \n",
              "min             0.000000        18.250000       0.000000     0.000000   \n",
              "25%             0.000000        35.500000     398.550000     0.000000   \n",
              "50%             1.000000        70.350000    1394.550000     0.000000   \n",
              "75%             1.000000        89.850000    3786.600000     1.000000   \n",
              "max             1.000000       118.750000    8684.800000     1.000000   \n",
              "\n",
              "       count_months  \n",
              "count   7043.000000  \n",
              "mean    1001.134460  \n",
              "std      736.784431  \n",
              "min       30.000000  \n",
              "25%      300.000000  \n",
              "50%      900.000000  \n",
              "75%     1680.000000  \n",
              "max     2190.000000  "
            ],
            "text/html": [
              "\n",
              "  <div id=\"df-5b1a6d1a-01ca-4702-90eb-c893fd048df5\">\n",
              "    <div class=\"colab-df-container\">\n",
              "      <div>\n",
              "<style scoped>\n",
              "    .dataframe tbody tr th:only-of-type {\n",
              "        vertical-align: middle;\n",
              "    }\n",
              "\n",
              "    .dataframe tbody tr th {\n",
              "        vertical-align: top;\n",
              "    }\n",
              "\n",
              "    .dataframe thead th {\n",
              "        text-align: right;\n",
              "    }\n",
              "</style>\n",
              "<table border=\"1\" class=\"dataframe\">\n",
              "  <thead>\n",
              "    <tr style=\"text-align: right;\">\n",
              "      <th></th>\n",
              "      <th>paperless_billing</th>\n",
              "      <th>monthly_charges</th>\n",
              "      <th>total_charges</th>\n",
              "      <th>exit</th>\n",
              "      <th>count_months</th>\n",
              "    </tr>\n",
              "  </thead>\n",
              "  <tbody>\n",
              "    <tr>\n",
              "      <th>count</th>\n",
              "      <td>7043.000000</td>\n",
              "      <td>7043.000000</td>\n",
              "      <td>7043.000000</td>\n",
              "      <td>7043.000000</td>\n",
              "      <td>7043.000000</td>\n",
              "    </tr>\n",
              "    <tr>\n",
              "      <th>mean</th>\n",
              "      <td>0.592219</td>\n",
              "      <td>64.761692</td>\n",
              "      <td>2279.734304</td>\n",
              "      <td>0.265370</td>\n",
              "      <td>1001.134460</td>\n",
              "    </tr>\n",
              "    <tr>\n",
              "      <th>std</th>\n",
              "      <td>0.491457</td>\n",
              "      <td>30.090047</td>\n",
              "      <td>2266.794470</td>\n",
              "      <td>0.441561</td>\n",
              "      <td>736.784431</td>\n",
              "    </tr>\n",
              "    <tr>\n",
              "      <th>min</th>\n",
              "      <td>0.000000</td>\n",
              "      <td>18.250000</td>\n",
              "      <td>0.000000</td>\n",
              "      <td>0.000000</td>\n",
              "      <td>30.000000</td>\n",
              "    </tr>\n",
              "    <tr>\n",
              "      <th>25%</th>\n",
              "      <td>0.000000</td>\n",
              "      <td>35.500000</td>\n",
              "      <td>398.550000</td>\n",
              "      <td>0.000000</td>\n",
              "      <td>300.000000</td>\n",
              "    </tr>\n",
              "    <tr>\n",
              "      <th>50%</th>\n",
              "      <td>1.000000</td>\n",
              "      <td>70.350000</td>\n",
              "      <td>1394.550000</td>\n",
              "      <td>0.000000</td>\n",
              "      <td>900.000000</td>\n",
              "    </tr>\n",
              "    <tr>\n",
              "      <th>75%</th>\n",
              "      <td>1.000000</td>\n",
              "      <td>89.850000</td>\n",
              "      <td>3786.600000</td>\n",
              "      <td>1.000000</td>\n",
              "      <td>1680.000000</td>\n",
              "    </tr>\n",
              "    <tr>\n",
              "      <th>max</th>\n",
              "      <td>1.000000</td>\n",
              "      <td>118.750000</td>\n",
              "      <td>8684.800000</td>\n",
              "      <td>1.000000</td>\n",
              "      <td>2190.000000</td>\n",
              "    </tr>\n",
              "  </tbody>\n",
              "</table>\n",
              "</div>\n",
              "      <button class=\"colab-df-convert\" onclick=\"convertToInteractive('df-5b1a6d1a-01ca-4702-90eb-c893fd048df5')\"\n",
              "              title=\"Convert this dataframe to an interactive table.\"\n",
              "              style=\"display:none;\">\n",
              "        \n",
              "  <svg xmlns=\"http://www.w3.org/2000/svg\" height=\"24px\"viewBox=\"0 0 24 24\"\n",
              "       width=\"24px\">\n",
              "    <path d=\"M0 0h24v24H0V0z\" fill=\"none\"/>\n",
              "    <path d=\"M18.56 5.44l.94 2.06.94-2.06 2.06-.94-2.06-.94-.94-2.06-.94 2.06-2.06.94zm-11 1L8.5 8.5l.94-2.06 2.06-.94-2.06-.94L8.5 2.5l-.94 2.06-2.06.94zm10 10l.94 2.06.94-2.06 2.06-.94-2.06-.94-.94-2.06-.94 2.06-2.06.94z\"/><path d=\"M17.41 7.96l-1.37-1.37c-.4-.4-.92-.59-1.43-.59-.52 0-1.04.2-1.43.59L10.3 9.45l-7.72 7.72c-.78.78-.78 2.05 0 2.83L4 21.41c.39.39.9.59 1.41.59.51 0 1.02-.2 1.41-.59l7.78-7.78 2.81-2.81c.8-.78.8-2.07 0-2.86zM5.41 20L4 18.59l7.72-7.72 1.47 1.35L5.41 20z\"/>\n",
              "  </svg>\n",
              "      </button>\n",
              "      \n",
              "  <style>\n",
              "    .colab-df-container {\n",
              "      display:flex;\n",
              "      flex-wrap:wrap;\n",
              "      gap: 12px;\n",
              "    }\n",
              "\n",
              "    .colab-df-convert {\n",
              "      background-color: #E8F0FE;\n",
              "      border: none;\n",
              "      border-radius: 50%;\n",
              "      cursor: pointer;\n",
              "      display: none;\n",
              "      fill: #1967D2;\n",
              "      height: 32px;\n",
              "      padding: 0 0 0 0;\n",
              "      width: 32px;\n",
              "    }\n",
              "\n",
              "    .colab-df-convert:hover {\n",
              "      background-color: #E2EBFA;\n",
              "      box-shadow: 0px 1px 2px rgba(60, 64, 67, 0.3), 0px 1px 3px 1px rgba(60, 64, 67, 0.15);\n",
              "      fill: #174EA6;\n",
              "    }\n",
              "\n",
              "    [theme=dark] .colab-df-convert {\n",
              "      background-color: #3B4455;\n",
              "      fill: #D2E3FC;\n",
              "    }\n",
              "\n",
              "    [theme=dark] .colab-df-convert:hover {\n",
              "      background-color: #434B5C;\n",
              "      box-shadow: 0px 1px 3px 1px rgba(0, 0, 0, 0.15);\n",
              "      filter: drop-shadow(0px 1px 2px rgba(0, 0, 0, 0.3));\n",
              "      fill: #FFFFFF;\n",
              "    }\n",
              "  </style>\n",
              "\n",
              "      <script>\n",
              "        const buttonEl =\n",
              "          document.querySelector('#df-5b1a6d1a-01ca-4702-90eb-c893fd048df5 button.colab-df-convert');\n",
              "        buttonEl.style.display =\n",
              "          google.colab.kernel.accessAllowed ? 'block' : 'none';\n",
              "\n",
              "        async function convertToInteractive(key) {\n",
              "          const element = document.querySelector('#df-5b1a6d1a-01ca-4702-90eb-c893fd048df5');\n",
              "          const dataTable =\n",
              "            await google.colab.kernel.invokeFunction('convertToInteractive',\n",
              "                                                     [key], {});\n",
              "          if (!dataTable) return;\n",
              "\n",
              "          const docLinkHtml = 'Like what you see? Visit the ' +\n",
              "            '<a target=\"_blank\" href=https://colab.research.google.com/notebooks/data_table.ipynb>data table notebook</a>'\n",
              "            + ' to learn more about interactive tables.';\n",
              "          element.innerHTML = '';\n",
              "          dataTable['output_type'] = 'display_data';\n",
              "          await google.colab.output.renderOutput(dataTable, element);\n",
              "          const docLink = document.createElement('div');\n",
              "          docLink.innerHTML = docLinkHtml;\n",
              "          element.appendChild(docLink);\n",
              "        }\n",
              "      </script>\n",
              "    </div>\n",
              "  </div>\n",
              "  "
            ]
          },
          "metadata": {},
          "execution_count": 1114
        }
      ],
      "source": [
        "# распределение числовых переменных\n",
        "contract.describe()"
      ]
    },
    {
      "cell_type": "code",
      "execution_count": null,
      "metadata": {
        "id": "HFmn14iYZzX2",
        "colab": {
          "base_uri": "https://localhost:8080/",
          "height": 241
        },
        "outputId": "0d6c5da0-b103-4476-b784-0422a75e79d2"
      },
      "outputs": [
        {
          "output_type": "display_data",
          "data": {
            "text/plain": [
              "<Figure size 600x200 with 1 Axes>"
            ],
            "image/png": "[encoded data removed]"
          },
          "metadata": {}
        }
      ],
      "source": [
        "# вывод диаграмм размаха\n",
        "plt.figure(figsize=(6, 2))\n",
        "plt.title('Диаграмма размаха признака monthly_charges') # заголовок\n",
        "contract.boxplot(['monthly_charges'], \n",
        "                  vert=False,\n",
        "                  showcaps=True,  # Покажите черточки на концах усов.\n",
        "                  showbox=True,   # Покажите центральную рамку.\n",
        "                  showfliers=True, # Покажите выбросы за заглавными буквами. \n",
        "                  showmeans=True,  # Покажите средние арифметические.\n",
        "                  capprops={\"color\": \"C0\", \"linewidth\": 3},  # Фасон кепок.\n",
        "                  );"
      ]
    },
    {
      "cell_type": "markdown",
      "metadata": {
        "id": "czf2mW83o6WR"
      },
      "source": [
        "**Вывод**: выбросы отсутствуют, распределение соответствует действующим тарифам. "
      ]
    },
    {
      "cell_type": "code",
      "execution_count": null,
      "metadata": {
        "id": "oXMDkBNfnrCs",
        "colab": {
          "base_uri": "https://localhost:8080/",
          "height": 241
        },
        "outputId": "2d13088a-c419-4403-9d6c-5a069e61f949"
      },
      "outputs": [
        {
          "output_type": "display_data",
          "data": {
            "text/plain": [
              "<Figure size 600x200 with 1 Axes>"
            ],
            "image/png": "[encoded data removed]"
          },
          "metadata": {}
        }
      ],
      "source": [
        "# вывод диаграмм размаха\n",
        "plt.figure(figsize=(6, 2))\n",
        "plt.title('Диаграмма размаха признака count_months') # заголовок\n",
        "contract.boxplot(['count_months'], \n",
        "                  vert=False,\n",
        "                  showcaps=True,  # Покажите черточки на концах усов.\n",
        "                  showbox=True,   # Покажите центральную рамку.\n",
        "                  showfliers=True, # Покажите выбросы за заглавными буквами. \n",
        "                  showmeans=True,  # Покажите средние арифметические.\n",
        "                  capprops={\"color\": \"C0\", \"linewidth\": 3},  # Фасон кепок.\n",
        "                  );"
      ]
    },
    {
      "cell_type": "markdown",
      "metadata": {
        "id": "xJJO6iVMob1H"
      },
      "source": [
        "**Вывод**: выбросы отсутствуют, распределение соответствует анализируемому интервалу. "
      ]
    },
    {
      "cell_type": "code",
      "execution_count": null,
      "metadata": {
        "id": "lzc9XxFHT47Q",
        "colab": {
          "base_uri": "https://localhost:8080/"
        },
        "outputId": "873f8b85-5473-422d-dfc5-9f1b3a07362c"
      },
      "outputs": [
        {
          "output_type": "stream",
          "name": "stdout",
          "text": [
            "<class 'pandas.core.frame.DataFrame'>\n",
            "RangeIndex: 7043 entries, 0 to 7042\n",
            "Data columns (total 10 columns):\n",
            " #   Column             Non-Null Count  Dtype         \n",
            "---  ------             --------------  -----         \n",
            " 0   customer_id        7043 non-null   object        \n",
            " 1   begin_date         7043 non-null   datetime64[ns]\n",
            " 2   end_date           7043 non-null   datetime64[ns]\n",
            " 3   type               7043 non-null   object        \n",
            " 4   paperless_billing  7043 non-null   int64         \n",
            " 5   payment_method     7043 non-null   object        \n",
            " 6   monthly_charges    7043 non-null   float64       \n",
            " 7   total_charges      7043 non-null   float64       \n",
            " 8   exit               7043 non-null   int64         \n",
            " 9   count_months       7043 non-null   int64         \n",
            "dtypes: datetime64[ns](2), float64(2), int64(3), object(3)\n",
            "memory usage: 550.4+ KB\n"
          ]
        }
      ],
      "source": [
        "contract.info()"
      ]
    },
    {
      "cell_type": "markdown",
      "metadata": {
        "id": "wIHmFtsWXw4i"
      },
      "source": [
        "**Выводы по таблице `contract`**\n",
        "\n",
        "* Пропуски и дубликаты отсутствуют.\n",
        "* Имена переменных переведены к стилю snake_case\n",
        "* В полях end_date и total_charges обнаружены и устранены смешения типов\n",
        "* Для поля begin_date и end_date проведено преобразование к типу `datetime64`\n",
        "* Добавлен новый признак `count_months` - продолжительность контракта в месяцах\n",
        "* Установлен и заполнен целевой признак `exit`"
      ]
    },
    {
      "cell_type": "markdown",
      "metadata": {
        "id": "QODG-5UvZbZ6"
      },
      "source": [
        "<div class=\"alert alert-success\">\n",
        "<h2> Комментарий тимлида <a class=\"tocSkip\"> </h2>\n",
        "\n",
        "<b>Все отлично!👍:</b> супер! отличный пердварительный анализ"
      ]
    },
    {
      "cell_type": "markdown",
      "metadata": {
        "id": "GkykLWNrzI5x"
      },
      "source": [
        "### Анализ таблицы `internet` — информация об интернет-услугах"
      ]
    },
    {
      "cell_type": "code",
      "execution_count": null,
      "metadata": {
        "id": "ViTryV5fbRhE",
        "colab": {
          "base_uri": "https://localhost:8080/"
        },
        "outputId": "a5032da6-6362-461d-dee3-cb4b9fb12172"
      },
      "outputs": [
        {
          "output_type": "stream",
          "name": "stdout",
          "text": [
            "<class 'pandas.core.frame.DataFrame'>\n",
            "RangeIndex: 5517 entries, 0 to 5516\n",
            "Data columns (total 8 columns):\n",
            " #   Column            Non-Null Count  Dtype \n",
            "---  ------            --------------  ----- \n",
            " 0   customerID        5517 non-null   object\n",
            " 1   InternetService   5517 non-null   object\n",
            " 2   OnlineSecurity    5517 non-null   object\n",
            " 3   OnlineBackup      5517 non-null   object\n",
            " 4   DeviceProtection  5517 non-null   object\n",
            " 5   TechSupport       5517 non-null   object\n",
            " 6   StreamingTV       5517 non-null   object\n",
            " 7   StreamingMovies   5517 non-null   object\n",
            "dtypes: object(8)\n",
            "memory usage: 344.9+ KB\n"
          ]
        }
      ],
      "source": [
        "internet.info()"
      ]
    },
    {
      "cell_type": "code",
      "execution_count": null,
      "metadata": {
        "id": "cU_eqgixCdkO",
        "colab": {
          "base_uri": "https://localhost:8080/",
          "height": 357
        },
        "outputId": "c57fe2a0-a6d5-4405-ac6c-1bb832e31753"
      },
      "outputs": [
        {
          "output_type": "execute_result",
          "data": {
            "text/plain": [
              "   customerID InternetService OnlineSecurity OnlineBackup DeviceProtection  \\\n",
              "0  7590-VHVEG             DSL             No          Yes               No   \n",
              "1  5575-GNVDE             DSL            Yes           No              Yes   \n",
              "2  3668-QPYBK             DSL            Yes          Yes               No   \n",
              "3  7795-CFOCW             DSL            Yes           No              Yes   \n",
              "4  9237-HQITU     Fiber optic             No           No               No   \n",
              "\n",
              "  TechSupport StreamingTV StreamingMovies  \n",
              "0          No          No              No  \n",
              "1          No          No              No  \n",
              "2          No          No              No  \n",
              "3         Yes          No              No  \n",
              "4          No          No              No  "
            ],
            "text/html": [
              "\n",
              "  <div id=\"df-1d2a04c1-31c8-4baf-a267-72eade72c7e6\">\n",
              "    <div class=\"colab-df-container\">\n",
              "      <div>\n",
              "<style scoped>\n",
              "    .dataframe tbody tr th:only-of-type {\n",
              "        vertical-align: middle;\n",
              "    }\n",
              "\n",
              "    .dataframe tbody tr th {\n",
              "        vertical-align: top;\n",
              "    }\n",
              "\n",
              "    .dataframe thead th {\n",
              "        text-align: right;\n",
              "    }\n",
              "</style>\n",
              "<table border=\"1\" class=\"dataframe\">\n",
              "  <thead>\n",
              "    <tr style=\"text-align: right;\">\n",
              "      <th></th>\n",
              "      <th>customerID</th>\n",
              "      <th>InternetService</th>\n",
              "      <th>OnlineSecurity</th>\n",
              "      <th>OnlineBackup</th>\n",
              "      <th>DeviceProtection</th>\n",
              "      <th>TechSupport</th>\n",
              "      <th>StreamingTV</th>\n",
              "      <th>StreamingMovies</th>\n",
              "    </tr>\n",
              "  </thead>\n",
              "  <tbody>\n",
              "    <tr>\n",
              "      <th>0</th>\n",
              "      <td>7590-VHVEG</td>\n",
              "      <td>DSL</td>\n",
              "      <td>No</td>\n",
              "      <td>Yes</td>\n",
              "      <td>No</td>\n",
              "      <td>No</td>\n",
              "      <td>No</td>\n",
              "      <td>No</td>\n",
              "    </tr>\n",
              "    <tr>\n",
              "      <th>1</th>\n",
              "      <td>5575-GNVDE</td>\n",
              "      <td>DSL</td>\n",
              "      <td>Yes</td>\n",
              "      <td>No</td>\n",
              "      <td>Yes</td>\n",
              "      <td>No</td>\n",
              "      <td>No</td>\n",
              "      <td>No</td>\n",
              "    </tr>\n",
              "    <tr>\n",
              "      <th>2</th>\n",
              "      <td>3668-QPYBK</td>\n",
              "      <td>DSL</td>\n",
              "      <td>Yes</td>\n",
              "      <td>Yes</td>\n",
              "      <td>No</td>\n",
              "      <td>No</td>\n",
              "      <td>No</td>\n",
              "      <td>No</td>\n",
              "    </tr>\n",
              "    <tr>\n",
              "      <th>3</th>\n",
              "      <td>7795-CFOCW</td>\n",
              "      <td>DSL</td>\n",
              "      <td>Yes</td>\n",
              "      <td>No</td>\n",
              "      <td>Yes</td>\n",
              "      <td>Yes</td>\n",
              "      <td>No</td>\n",
              "      <td>No</td>\n",
              "    </tr>\n",
              "    <tr>\n",
              "      <th>4</th>\n",
              "      <td>9237-HQITU</td>\n",
              "      <td>Fiber optic</td>\n",
              "      <td>No</td>\n",
              "      <td>No</td>\n",
              "      <td>No</td>\n",
              "      <td>No</td>\n",
              "      <td>No</td>\n",
              "      <td>No</td>\n",
              "    </tr>\n",
              "  </tbody>\n",
              "</table>\n",
              "</div>\n",
              "      <button class=\"colab-df-convert\" onclick=\"convertToInteractive('df-1d2a04c1-31c8-4baf-a267-72eade72c7e6')\"\n",
              "              title=\"Convert this dataframe to an interactive table.\"\n",
              "              style=\"display:none;\">\n",
              "        \n",
              "  <svg xmlns=\"http://www.w3.org/2000/svg\" height=\"24px\"viewBox=\"0 0 24 24\"\n",
              "       width=\"24px\">\n",
              "    <path d=\"M0 0h24v24H0V0z\" fill=\"none\"/>\n",
              "    <path d=\"M18.56 5.44l.94 2.06.94-2.06 2.06-.94-2.06-.94-.94-2.06-.94 2.06-2.06.94zm-11 1L8.5 8.5l.94-2.06 2.06-.94-2.06-.94L8.5 2.5l-.94 2.06-2.06.94zm10 10l.94 2.06.94-2.06 2.06-.94-2.06-.94-.94-2.06-.94 2.06-2.06.94z\"/><path d=\"M17.41 7.96l-1.37-1.37c-.4-.4-.92-.59-1.43-.59-.52 0-1.04.2-1.43.59L10.3 9.45l-7.72 7.72c-.78.78-.78 2.05 0 2.83L4 21.41c.39.39.9.59 1.41.59.51 0 1.02-.2 1.41-.59l7.78-7.78 2.81-2.81c.8-.78.8-2.07 0-2.86zM5.41 20L4 18.59l7.72-7.72 1.47 1.35L5.41 20z\"/>\n",
              "  </svg>\n",
              "      </button>\n",
              "      \n",
              "  <style>\n",
              "    .colab-df-container {\n",
              "      display:flex;\n",
              "      flex-wrap:wrap;\n",
              "      gap: 12px;\n",
              "    }\n",
              "\n",
              "    .colab-df-convert {\n",
              "      background-color: #E8F0FE;\n",
              "      border: none;\n",
              "      border-radius: 50%;\n",
              "      cursor: pointer;\n",
              "      display: none;\n",
              "      fill: #1967D2;\n",
              "      height: 32px;\n",
              "      padding: 0 0 0 0;\n",
              "      width: 32px;\n",
              "    }\n",
              "\n",
              "    .colab-df-convert:hover {\n",
              "      background-color: #E2EBFA;\n",
              "      box-shadow: 0px 1px 2px rgba(60, 64, 67, 0.3), 0px 1px 3px 1px rgba(60, 64, 67, 0.15);\n",
              "      fill: #174EA6;\n",
              "    }\n",
              "\n",
              "    [theme=dark] .colab-df-convert {\n",
              "      background-color: #3B4455;\n",
              "      fill: #D2E3FC;\n",
              "    }\n",
              "\n",
              "    [theme=dark] .colab-df-convert:hover {\n",
              "      background-color: #434B5C;\n",
              "      box-shadow: 0px 1px 3px 1px rgba(0, 0, 0, 0.15);\n",
              "      filter: drop-shadow(0px 1px 2px rgba(0, 0, 0, 0.3));\n",
              "      fill: #FFFFFF;\n",
              "    }\n",
              "  </style>\n",
              "\n",
              "      <script>\n",
              "        const buttonEl =\n",
              "          document.querySelector('#df-1d2a04c1-31c8-4baf-a267-72eade72c7e6 button.colab-df-convert');\n",
              "        buttonEl.style.display =\n",
              "          google.colab.kernel.accessAllowed ? 'block' : 'none';\n",
              "\n",
              "        async function convertToInteractive(key) {\n",
              "          const element = document.querySelector('#df-1d2a04c1-31c8-4baf-a267-72eade72c7e6');\n",
              "          const dataTable =\n",
              "            await google.colab.kernel.invokeFunction('convertToInteractive',\n",
              "                                                     [key], {});\n",
              "          if (!dataTable) return;\n",
              "\n",
              "          const docLinkHtml = 'Like what you see? Visit the ' +\n",
              "            '<a target=\"_blank\" href=https://colab.research.google.com/notebooks/data_table.ipynb>data table notebook</a>'\n",
              "            + ' to learn more about interactive tables.';\n",
              "          element.innerHTML = '';\n",
              "          dataTable['output_type'] = 'display_data';\n",
              "          await google.colab.output.renderOutput(dataTable, element);\n",
              "          const docLink = document.createElement('div');\n",
              "          docLink.innerHTML = docLinkHtml;\n",
              "          element.appendChild(docLink);\n",
              "        }\n",
              "      </script>\n",
              "    </div>\n",
              "  </div>\n",
              "  "
            ]
          },
          "metadata": {},
          "execution_count": 1119
        }
      ],
      "source": [
        "internet.head()"
      ]
    },
    {
      "cell_type": "code",
      "execution_count": null,
      "metadata": {
        "id": "vw8IE3GTbyuU",
        "colab": {
          "base_uri": "https://localhost:8080/"
        },
        "outputId": "74e93835-610a-4538-8abb-bf6efb3c5edf"
      },
      "outputs": [
        {
          "output_type": "stream",
          "name": "stdout",
          "text": [
            "Размер дата-фрейма - (5517, 8) Дубликатов не обнаружено\n"
          ]
        }
      ],
      "source": [
        "# произвести переименование столбцов\n",
        "internet.columns = ['customer_id', 'internet_service', 'online_security', 'online_backup',\n",
        "       'device_protection', 'tech_support', 'streaming_tv', 'streaming_movies']\n",
        "# проверка таблицы на дубликаты\n",
        "duplicated_check(internet)"
      ]
    },
    {
      "cell_type": "code",
      "execution_count": null,
      "metadata": {
        "id": "lAJKJZBEdIlT"
      },
      "outputs": [],
      "source": [
        "# добавить признак - включен пакет \"Интернет\"\n",
        "internet['internet_inc'] = 1"
      ]
    },
    {
      "cell_type": "markdown",
      "metadata": {
        "id": "yPYYGEirZbZ7"
      },
      "source": [
        "<div class=\"alert alert-success\">\n",
        "<h2> Комментарий тимлида <a class=\"tocSkip\"> </h2>\n",
        "\n",
        "<b>Все отлично!👍:</b> хорошо"
      ]
    },
    {
      "cell_type": "code",
      "execution_count": null,
      "metadata": {
        "id": "P4TyRteKd-AV",
        "colab": {
          "base_uri": "https://localhost:8080/"
        },
        "outputId": "af971d19-a5b4-491b-ef91-e8ab50e57bcc"
      },
      "outputs": [
        {
          "output_type": "stream",
          "name": "stdout",
          "text": [
            "Fiber optic    0.561175\n",
            "DSL            0.438825\n",
            "Name: internet_service, dtype: float64\n"
          ]
        }
      ],
      "source": [
        "# анализ баланса классов internet_service\n",
        "class_frequency = internet['internet_service'].value_counts(normalize=True, dropna=False)\n",
        "print(class_frequency.head())"
      ]
    },
    {
      "cell_type": "markdown",
      "metadata": {
        "id": "AneObBGYvNLr"
      },
      "source": [
        "**Вывод**: Больше половины клиентов выбрали способ подключения к сети Интернет с помощью оптического кабеля. 44% используют для этого телефонную линию."
      ]
    },
    {
      "cell_type": "code",
      "execution_count": null,
      "metadata": {
        "id": "JKcR4hzAY6z6"
      },
      "outputs": [],
      "source": [
        "# остальные признаки обработаем списком, варианты кодировки\n",
        "# 1)  0=NaN, 0=No, 1=Yes - пользуется или нет - текущий вариант\n",
        "# список услуг в пакете 'internet_inc'\n",
        "internet_list = [\n",
        "    'online_security',\n",
        "    'online_backup',\n",
        "    'device_protection',\n",
        "    'tech_support',\n",
        "    'streaming_tv',\n",
        "    'streaming_movies']\n",
        "\n",
        "for item in internet_list:\n",
        "    # проверить бинарный характер признака\n",
        "    internet[item] = internet.apply(lambda x: 1 if x[item] == 'Yes' else 0, axis=1)\n",
        "    internet[item] = internet[item].astype('int')"
      ]
    },
    {
      "cell_type": "markdown",
      "metadata": {
        "id": "S_HV2oxhwHwD"
      },
      "source": [
        "**Замечание** : Набор услуг, которые выбирает клиент целесообразно проанализировать после объединения таблиц, так как это связано со стоимостью пакета. "
      ]
    },
    {
      "cell_type": "markdown",
      "metadata": {
        "id": "K3y_BywsZbZ7"
      },
      "source": [
        "<div class=\"alert alert-success\">\n",
        "<h2> Комментарий тимлида <a class=\"tocSkip\"> </h2>\n",
        "\n",
        "<b>Все отлично!👍:</b> согласна"
      ]
    },
    {
      "cell_type": "code",
      "execution_count": null,
      "metadata": {
        "id": "Z8XnNfucc9AZ",
        "colab": {
          "base_uri": "https://localhost:8080/"
        },
        "outputId": "f4ff8dae-6657-46a2-c053-77474b8cb8da"
      },
      "outputs": [
        {
          "output_type": "stream",
          "name": "stdout",
          "text": [
            "<class 'pandas.core.frame.DataFrame'>\n",
            "RangeIndex: 5517 entries, 0 to 5516\n",
            "Data columns (total 9 columns):\n",
            " #   Column             Non-Null Count  Dtype \n",
            "---  ------             --------------  ----- \n",
            " 0   customer_id        5517 non-null   object\n",
            " 1   internet_service   5517 non-null   object\n",
            " 2   online_security    5517 non-null   int64 \n",
            " 3   online_backup      5517 non-null   int64 \n",
            " 4   device_protection  5517 non-null   int64 \n",
            " 5   tech_support       5517 non-null   int64 \n",
            " 6   streaming_tv       5517 non-null   int64 \n",
            " 7   streaming_movies   5517 non-null   int64 \n",
            " 8   internet_inc       5517 non-null   int64 \n",
            "dtypes: int64(7), object(2)\n",
            "memory usage: 388.0+ KB\n"
          ]
        }
      ],
      "source": [
        "internet.info()"
      ]
    },
    {
      "cell_type": "markdown",
      "metadata": {
        "id": "kNL57EgNcwlv"
      },
      "source": [
        "**Выводы по таблице `internet`**\n",
        "\n",
        "* Пропуски и дубликаты отсутствуют.\n",
        "* Имена переменных переведены к стилю snake_case\n",
        "* Для полей, определяющих набор опций, проведено преобразование к типу `int`\n",
        "* Добавлен новый признак `internet_inc` - подписка на услугу"
      ]
    },
    {
      "cell_type": "markdown",
      "metadata": {
        "id": "EpyFtw4bZbZ8"
      },
      "source": [
        "<div class=\"alert alert-success\">\n",
        "<h2> Комментарий тимлида <a class=\"tocSkip\"> </h2>\n",
        "\n",
        "<b>Все отлично!👍:</b> идем дальше"
      ]
    },
    {
      "cell_type": "markdown",
      "metadata": {
        "id": "gxiMZJlKzKfQ"
      },
      "source": [
        "### Анализ таблицы `phone` — информация об услугах телефонии"
      ]
    },
    {
      "cell_type": "code",
      "execution_count": null,
      "metadata": {
        "id": "l0VS4PR9kbLV",
        "colab": {
          "base_uri": "https://localhost:8080/"
        },
        "outputId": "d8846935-5351-4e10-8a75-6b436b96c96c"
      },
      "outputs": [
        {
          "output_type": "stream",
          "name": "stdout",
          "text": [
            "<class 'pandas.core.frame.DataFrame'>\n",
            "RangeIndex: 6361 entries, 0 to 6360\n",
            "Data columns (total 2 columns):\n",
            " #   Column         Non-Null Count  Dtype \n",
            "---  ------         --------------  ----- \n",
            " 0   customerID     6361 non-null   object\n",
            " 1   MultipleLines  6361 non-null   object\n",
            "dtypes: object(2)\n",
            "memory usage: 99.5+ KB\n"
          ]
        }
      ],
      "source": [
        "phone.info()"
      ]
    },
    {
      "cell_type": "code",
      "execution_count": null,
      "metadata": {
        "id": "sd-aOV7KDv-H",
        "colab": {
          "base_uri": "https://localhost:8080/",
          "height": 206
        },
        "outputId": "8491d2d4-7870-4370-dd9e-4c2e023686fe"
      },
      "outputs": [
        {
          "output_type": "execute_result",
          "data": {
            "text/plain": [
              "   customerID MultipleLines\n",
              "0  5575-GNVDE            No\n",
              "1  3668-QPYBK            No\n",
              "2  9237-HQITU            No\n",
              "3  9305-CDSKC           Yes\n",
              "4  1452-KIOVK           Yes"
            ],
            "text/html": [
              "\n",
              "  <div id=\"df-493b2233-6c12-4114-82b4-0a9ca23fe55d\">\n",
              "    <div class=\"colab-df-container\">\n",
              "      <div>\n",
              "<style scoped>\n",
              "    .dataframe tbody tr th:only-of-type {\n",
              "        vertical-align: middle;\n",
              "    }\n",
              "\n",
              "    .dataframe tbody tr th {\n",
              "        vertical-align: top;\n",
              "    }\n",
              "\n",
              "    .dataframe thead th {\n",
              "        text-align: right;\n",
              "    }\n",
              "</style>\n",
              "<table border=\"1\" class=\"dataframe\">\n",
              "  <thead>\n",
              "    <tr style=\"text-align: right;\">\n",
              "      <th></th>\n",
              "      <th>customerID</th>\n",
              "      <th>MultipleLines</th>\n",
              "    </tr>\n",
              "  </thead>\n",
              "  <tbody>\n",
              "    <tr>\n",
              "      <th>0</th>\n",
              "      <td>5575-GNVDE</td>\n",
              "      <td>No</td>\n",
              "    </tr>\n",
              "    <tr>\n",
              "      <th>1</th>\n",
              "      <td>3668-QPYBK</td>\n",
              "      <td>No</td>\n",
              "    </tr>\n",
              "    <tr>\n",
              "      <th>2</th>\n",
              "      <td>9237-HQITU</td>\n",
              "      <td>No</td>\n",
              "    </tr>\n",
              "    <tr>\n",
              "      <th>3</th>\n",
              "      <td>9305-CDSKC</td>\n",
              "      <td>Yes</td>\n",
              "    </tr>\n",
              "    <tr>\n",
              "      <th>4</th>\n",
              "      <td>1452-KIOVK</td>\n",
              "      <td>Yes</td>\n",
              "    </tr>\n",
              "  </tbody>\n",
              "</table>\n",
              "</div>\n",
              "      <button class=\"colab-df-convert\" onclick=\"convertToInteractive('df-493b2233-6c12-4114-82b4-0a9ca23fe55d')\"\n",
              "              title=\"Convert this dataframe to an interactive table.\"\n",
              "              style=\"display:none;\">\n",
              "        \n",
              "  <svg xmlns=\"http://www.w3.org/2000/svg\" height=\"24px\"viewBox=\"0 0 24 24\"\n",
              "       width=\"24px\">\n",
              "    <path d=\"M0 0h24v24H0V0z\" fill=\"none\"/>\n",
              "    <path d=\"M18.56 5.44l.94 2.06.94-2.06 2.06-.94-2.06-.94-.94-2.06-.94 2.06-2.06.94zm-11 1L8.5 8.5l.94-2.06 2.06-.94-2.06-.94L8.5 2.5l-.94 2.06-2.06.94zm10 10l.94 2.06.94-2.06 2.06-.94-2.06-.94-.94-2.06-.94 2.06-2.06.94z\"/><path d=\"M17.41 7.96l-1.37-1.37c-.4-.4-.92-.59-1.43-.59-.52 0-1.04.2-1.43.59L10.3 9.45l-7.72 7.72c-.78.78-.78 2.05 0 2.83L4 21.41c.39.39.9.59 1.41.59.51 0 1.02-.2 1.41-.59l7.78-7.78 2.81-2.81c.8-.78.8-2.07 0-2.86zM5.41 20L4 18.59l7.72-7.72 1.47 1.35L5.41 20z\"/>\n",
              "  </svg>\n",
              "      </button>\n",
              "      \n",
              "  <style>\n",
              "    .colab-df-container {\n",
              "      display:flex;\n",
              "      flex-wrap:wrap;\n",
              "      gap: 12px;\n",
              "    }\n",
              "\n",
              "    .colab-df-convert {\n",
              "      background-color: #E8F0FE;\n",
              "      border: none;\n",
              "      border-radius: 50%;\n",
              "      cursor: pointer;\n",
              "      display: none;\n",
              "      fill: #1967D2;\n",
              "      height: 32px;\n",
              "      padding: 0 0 0 0;\n",
              "      width: 32px;\n",
              "    }\n",
              "\n",
              "    .colab-df-convert:hover {\n",
              "      background-color: #E2EBFA;\n",
              "      box-shadow: 0px 1px 2px rgba(60, 64, 67, 0.3), 0px 1px 3px 1px rgba(60, 64, 67, 0.15);\n",
              "      fill: #174EA6;\n",
              "    }\n",
              "\n",
              "    [theme=dark] .colab-df-convert {\n",
              "      background-color: #3B4455;\n",
              "      fill: #D2E3FC;\n",
              "    }\n",
              "\n",
              "    [theme=dark] .colab-df-convert:hover {\n",
              "      background-color: #434B5C;\n",
              "      box-shadow: 0px 1px 3px 1px rgba(0, 0, 0, 0.15);\n",
              "      filter: drop-shadow(0px 1px 2px rgba(0, 0, 0, 0.3));\n",
              "      fill: #FFFFFF;\n",
              "    }\n",
              "  </style>\n",
              "\n",
              "      <script>\n",
              "        const buttonEl =\n",
              "          document.querySelector('#df-493b2233-6c12-4114-82b4-0a9ca23fe55d button.colab-df-convert');\n",
              "        buttonEl.style.display =\n",
              "          google.colab.kernel.accessAllowed ? 'block' : 'none';\n",
              "\n",
              "        async function convertToInteractive(key) {\n",
              "          const element = document.querySelector('#df-493b2233-6c12-4114-82b4-0a9ca23fe55d');\n",
              "          const dataTable =\n",
              "            await google.colab.kernel.invokeFunction('convertToInteractive',\n",
              "                                                     [key], {});\n",
              "          if (!dataTable) return;\n",
              "\n",
              "          const docLinkHtml = 'Like what you see? Visit the ' +\n",
              "            '<a target=\"_blank\" href=https://colab.research.google.com/notebooks/data_table.ipynb>data table notebook</a>'\n",
              "            + ' to learn more about interactive tables.';\n",
              "          element.innerHTML = '';\n",
              "          dataTable['output_type'] = 'display_data';\n",
              "          await google.colab.output.renderOutput(dataTable, element);\n",
              "          const docLink = document.createElement('div');\n",
              "          docLink.innerHTML = docLinkHtml;\n",
              "          element.appendChild(docLink);\n",
              "        }\n",
              "      </script>\n",
              "    </div>\n",
              "  </div>\n",
              "  "
            ]
          },
          "metadata": {},
          "execution_count": 1126
        }
      ],
      "source": [
        "phone.head()"
      ]
    },
    {
      "cell_type": "code",
      "execution_count": null,
      "metadata": {
        "id": "TqrledhdlBu_",
        "colab": {
          "base_uri": "https://localhost:8080/"
        },
        "outputId": "6e8d2de9-22b0-44c8-b96c-fc42b637c305"
      },
      "outputs": [
        {
          "output_type": "stream",
          "name": "stdout",
          "text": [
            "Размер дата-фрейма - (6361, 2) Дубликатов не обнаружено\n"
          ]
        }
      ],
      "source": [
        "# произвести переименование столбцов\n",
        "phone.columns = ['customer_id', 'multiple_lines']\n",
        "# проверка таблицы на дубликаты\n",
        "duplicated_check(phone)"
      ]
    },
    {
      "cell_type": "code",
      "execution_count": null,
      "metadata": {
        "id": "C80R7alylBu_"
      },
      "outputs": [],
      "source": [
        "# включен пакет \"Стационарная телефонная связь\"\n",
        "phone['phone_inc'] = 1"
      ]
    },
    {
      "cell_type": "code",
      "execution_count": null,
      "metadata": {
        "id": "5J0-ThmRmY4_",
        "colab": {
          "base_uri": "https://localhost:8080/"
        },
        "outputId": "f0952bf9-68fa-455c-94d0-47b536925caa"
      },
      "outputs": [
        {
          "output_type": "stream",
          "name": "stdout",
          "text": [
            "No     0.532935\n",
            "Yes    0.467065\n",
            "Name: multiple_lines, dtype: float64\n"
          ]
        }
      ],
      "source": [
        "# анализ баланса классов partner\n",
        "class_frequency = phone['multiple_lines'].value_counts(normalize=True, dropna=False)\n",
        "print(class_frequency.head())"
      ]
    },
    {
      "cell_type": "code",
      "execution_count": null,
      "metadata": {
        "id": "IbcIxtRpmY5E"
      },
      "outputs": [],
      "source": [
        "# варианты кодировки\n",
        "# 1)  0=NaN, 0=No, 1=Yes - пользуется или нет - текущий вариант\n",
        "# список услуг в пакете 'phone_inc'\n",
        "# произвести кодирование признака multiple_lines для бустинговых моделей\n",
        "phone['multiple_lines'] = phone.apply(lambda x: 0 if x.multiple_lines == 'No' else 1, axis=1)\n",
        "phone['multiple_lines'] = phone['multiple_lines'].astype('int')"
      ]
    },
    {
      "cell_type": "markdown",
      "metadata": {
        "id": "2dYUgaBOw_F7"
      },
      "source": [
        "**Замечание** : Набор услуг, которые выбирает клиент целесообразно проанализировать после объединения таблиц, так как это связано со стоимостью пакета. "
      ]
    },
    {
      "cell_type": "code",
      "execution_count": null,
      "metadata": {
        "id": "yRDv305tnTYy",
        "colab": {
          "base_uri": "https://localhost:8080/"
        },
        "outputId": "0c1a1457-63a6-404f-a727-45b2706521b5"
      },
      "outputs": [
        {
          "output_type": "stream",
          "name": "stdout",
          "text": [
            "<class 'pandas.core.frame.DataFrame'>\n",
            "RangeIndex: 6361 entries, 0 to 6360\n",
            "Data columns (total 3 columns):\n",
            " #   Column          Non-Null Count  Dtype \n",
            "---  ------          --------------  ----- \n",
            " 0   customer_id     6361 non-null   object\n",
            " 1   multiple_lines  6361 non-null   int64 \n",
            " 2   phone_inc       6361 non-null   int64 \n",
            "dtypes: int64(2), object(1)\n",
            "memory usage: 149.2+ KB\n"
          ]
        }
      ],
      "source": [
        "phone.info()"
      ]
    },
    {
      "cell_type": "markdown",
      "metadata": {
        "id": "z77Cl_PwkYTd"
      },
      "source": [
        "**Выводы по таблице `phone`**\n",
        "\n",
        "* Пропуски и дубликаты отсутствуют.\n",
        "* Имена переменных переведены к стилю snake_case\n",
        "* Для поля multiple_lines проведено преобразование к типу `int`\n",
        "* Добавлен новый признак `phone_inc` - подписка на услугу"
      ]
    },
    {
      "cell_type": "markdown",
      "metadata": {
        "id": "J6px_0TiWOBF"
      },
      "source": [
        "## Предварительные выводы\n",
        "\n",
        "* Пропуски и дубликаты во всех таблицах отсутствуют.\n",
        "* Имена всех признаков переведены к стилю snake_case\n",
        "* Все признаки, содержащие \"Yes\"/\"No\" преобразованы к типу int\n",
        "* Добавлены новые признаки для дальнейшего объединения таблиц"
      ]
    },
    {
      "cell_type": "markdown",
      "metadata": {
        "id": "RItvHs5NWTdE"
      },
      "source": [
        "\n",
        "\n",
        "---\n",
        "\n",
        "\n",
        "\n",
        "---\n",
        "\n",
        "\n",
        "\n",
        "---\n",
        "\n"
      ]
    },
    {
      "cell_type": "markdown",
      "metadata": {
        "id": "zZWXhl2HoHcS"
      },
      "source": [
        "# Объединение всех таблиц в одну - `df`"
      ]
    },
    {
      "cell_type": "markdown",
      "metadata": {
        "id": "FhEp7Tqxdj1f"
      },
      "source": [
        "## Выявление и заполнение пропусков"
      ]
    },
    {
      "cell_type": "code",
      "execution_count": null,
      "metadata": {
        "id": "96f7b463"
      },
      "outputs": [],
      "source": [
        "# объединить все таблицы в одну, за основу взять personal\n",
        "df = personal.merge(contract, on=['customer_id'], how='outer').\\\n",
        "              merge(internet, on=['customer_id'], how='outer').\\\n",
        "              merge(phone, on=['customer_id'], how='outer')\n",
        "# установить индекс таблицы равным столбцу datetime\n",
        "df = df.set_index('customer_id')"
      ]
    },
    {
      "cell_type": "markdown",
      "metadata": {
        "id": "bCznteQ-NpJt"
      },
      "source": [
        "<div class=\"alert alert-success\">\n",
        "<h2> Комментарий тимлида <a class=\"tocSkip\"> </h2>\n",
        "\n",
        "<b>Все отлично!👍:</b> датасет собран верно"
      ]
    },
    {
      "cell_type": "code",
      "execution_count": null,
      "metadata": {
        "id": "uyl0-Mz5sU8U"
      },
      "outputs": [],
      "source": [
        "# удалить пропуски в признаках, отвечающих за категории услуг\n",
        "df['internet_inc'] = df['internet_inc'].fillna(0)\n",
        "df['internet_inc'] = df['internet_inc'].astype('int')\n",
        "\n",
        "df['phone_inc'] = df['phone_inc'].fillna(0)\n",
        "df['phone_inc'] = df['phone_inc'].astype('int')\n",
        "\n",
        "# значение для NaN в поле internet_service при отсутствии услуги \"Интернет\"\n",
        "df['internet_service'] = df['internet_service'].fillna('None')\n",
        "df['multiple_lines'] = df['multiple_lines'].fillna(0).astype('int')\n",
        "\n",
        "# заполним пропуски числом 0, что фактически означает отсуствие услуги\n",
        "for item in internet_list:\n",
        "    df[item] = df[item].fillna(0).astype('int')"
      ]
    },
    {
      "cell_type": "markdown",
      "metadata": {
        "id": "wYWqCIfpNpJt"
      },
      "source": [
        "<div class=\"alert alert-success\">\n",
        "<h2> Комментарий тимлида <a class=\"tocSkip\"> </h2>\n",
        "\n",
        "<b>Все отлично!👍:</b> хорошо"
      ]
    },
    {
      "cell_type": "code",
      "execution_count": null,
      "metadata": {
        "id": "PVMe4gO8XCSN",
        "colab": {
          "base_uri": "https://localhost:8080/"
        },
        "outputId": "e6d4d875-f386-4a1f-f34e-5292124d8abb"
      },
      "outputs": [
        {
          "output_type": "stream",
          "name": "stdout",
          "text": [
            "<class 'pandas.core.frame.DataFrame'>\n",
            "Index: 7043 entries, 7590-VHVEG to 3186-AJIEK\n",
            "Data columns (total 23 columns):\n",
            " #   Column             Non-Null Count  Dtype         \n",
            "---  ------             --------------  -----         \n",
            " 0   gender             7043 non-null   object        \n",
            " 1   senior_citizen     7043 non-null   int64         \n",
            " 2   partner            7043 non-null   int64         \n",
            " 3   dependents         7043 non-null   int64         \n",
            " 4   begin_date         7043 non-null   datetime64[ns]\n",
            " 5   end_date           7043 non-null   datetime64[ns]\n",
            " 6   type               7043 non-null   object        \n",
            " 7   paperless_billing  7043 non-null   int64         \n",
            " 8   payment_method     7043 non-null   object        \n",
            " 9   monthly_charges    7043 non-null   float64       \n",
            " 10  total_charges      7043 non-null   float64       \n",
            " 11  exit               7043 non-null   int64         \n",
            " 12  count_months       7043 non-null   int64         \n",
            " 13  internet_service   7043 non-null   object        \n",
            " 14  online_security    7043 non-null   int64         \n",
            " 15  online_backup      7043 non-null   int64         \n",
            " 16  device_protection  7043 non-null   int64         \n",
            " 17  tech_support       7043 non-null   int64         \n",
            " 18  streaming_tv       7043 non-null   int64         \n",
            " 19  streaming_movies   7043 non-null   int64         \n",
            " 20  internet_inc       7043 non-null   int64         \n",
            " 21  multiple_lines     7043 non-null   int64         \n",
            " 22  phone_inc          7043 non-null   int64         \n",
            "dtypes: datetime64[ns](2), float64(2), int64(15), object(4)\n",
            "memory usage: 1.3+ MB\n"
          ]
        }
      ],
      "source": [
        "df.info()"
      ]
    },
    {
      "cell_type": "code",
      "execution_count": null,
      "metadata": {
        "id": "o_B2YwX_e9tQ",
        "colab": {
          "base_uri": "https://localhost:8080/",
          "height": 470
        },
        "outputId": "6401f8c2-349a-4c21-f300-4511932c90a4"
      },
      "outputs": [
        {
          "output_type": "execute_result",
          "data": {
            "text/plain": [
              "             gender  senior_citizen  partner  dependents begin_date  \\\n",
              "customer_id                                                           \n",
              "7590-VHVEG   Female               0        1           1 2020-01-01   \n",
              "5575-GNVDE     Male               0        0           0 2017-04-01   \n",
              "3668-QPYBK     Male               0        0           0 2019-10-01   \n",
              "7795-CFOCW     Male               0        0           0 2016-05-01   \n",
              "9237-HQITU   Female               0        0           0 2019-09-01   \n",
              "\n",
              "              end_date            type  paperless_billing  \\\n",
              "customer_id                                                 \n",
              "7590-VHVEG  2020-02-01  Month-to-month                  1   \n",
              "5575-GNVDE  2020-02-01        One year                  0   \n",
              "3668-QPYBK  2019-12-01  Month-to-month                  1   \n",
              "7795-CFOCW  2020-02-01        One year                  0   \n",
              "9237-HQITU  2019-11-01  Month-to-month                  1   \n",
              "\n",
              "                        payment_method  monthly_charges  ...  \\\n",
              "customer_id                                              ...   \n",
              "7590-VHVEG            Electronic check            29.85  ...   \n",
              "5575-GNVDE                Mailed check            56.95  ...   \n",
              "3668-QPYBK                Mailed check            53.85  ...   \n",
              "7795-CFOCW   Bank transfer (automatic)            42.30  ...   \n",
              "9237-HQITU            Electronic check            70.70  ...   \n",
              "\n",
              "             internet_service  online_security  online_backup  \\\n",
              "customer_id                                                     \n",
              "7590-VHVEG                DSL                0              1   \n",
              "5575-GNVDE                DSL                1              0   \n",
              "3668-QPYBK                DSL                1              1   \n",
              "7795-CFOCW                DSL                1              0   \n",
              "9237-HQITU        Fiber optic                0              0   \n",
              "\n",
              "            device_protection  tech_support  streaming_tv  streaming_movies  \\\n",
              "customer_id                                                                   \n",
              "7590-VHVEG                  0             0             0                 0   \n",
              "5575-GNVDE                  1             0             0                 0   \n",
              "3668-QPYBK                  0             0             0                 0   \n",
              "7795-CFOCW                  1             1             0                 0   \n",
              "9237-HQITU                  0             0             0                 0   \n",
              "\n",
              "             internet_inc  multiple_lines  phone_inc  \n",
              "customer_id                                           \n",
              "7590-VHVEG              1               0          0  \n",
              "5575-GNVDE              1               0          1  \n",
              "3668-QPYBK              1               0          1  \n",
              "7795-CFOCW              1               0          0  \n",
              "9237-HQITU              1               0          1  \n",
              "\n",
              "[5 rows x 23 columns]"
            ],
            "text/html": [
              "\n",
              "  <div id=\"df-cfaeb959-16cc-422f-8779-40b4750af72f\">\n",
              "    <div class=\"colab-df-container\">\n",
              "      <div>\n",
              "<style scoped>\n",
              "    .dataframe tbody tr th:only-of-type {\n",
              "        vertical-align: middle;\n",
              "    }\n",
              "\n",
              "    .dataframe tbody tr th {\n",
              "        vertical-align: top;\n",
              "    }\n",
              "\n",
              "    .dataframe thead th {\n",
              "        text-align: right;\n",
              "    }\n",
              "</style>\n",
              "<table border=\"1\" class=\"dataframe\">\n",
              "  <thead>\n",
              "    <tr style=\"text-align: right;\">\n",
              "      <th></th>\n",
              "      <th>gender</th>\n",
              "      <th>senior_citizen</th>\n",
              "      <th>partner</th>\n",
              "      <th>dependents</th>\n",
              "      <th>begin_date</th>\n",
              "      <th>end_date</th>\n",
              "      <th>type</th>\n",
              "      <th>paperless_billing</th>\n",
              "      <th>payment_method</th>\n",
              "      <th>monthly_charges</th>\n",
              "      <th>...</th>\n",
              "      <th>internet_service</th>\n",
              "      <th>online_security</th>\n",
              "      <th>online_backup</th>\n",
              "      <th>device_protection</th>\n",
              "      <th>tech_support</th>\n",
              "      <th>streaming_tv</th>\n",
              "      <th>streaming_movies</th>\n",
              "      <th>internet_inc</th>\n",
              "      <th>multiple_lines</th>\n",
              "      <th>phone_inc</th>\n",
              "    </tr>\n",
              "    <tr>\n",
              "      <th>customer_id</th>\n",
              "      <th></th>\n",
              "      <th></th>\n",
              "      <th></th>\n",
              "      <th></th>\n",
              "      <th></th>\n",
              "      <th></th>\n",
              "      <th></th>\n",
              "      <th></th>\n",
              "      <th></th>\n",
              "      <th></th>\n",
              "      <th></th>\n",
              "      <th></th>\n",
              "      <th></th>\n",
              "      <th></th>\n",
              "      <th></th>\n",
              "      <th></th>\n",
              "      <th></th>\n",
              "      <th></th>\n",
              "      <th></th>\n",
              "      <th></th>\n",
              "      <th></th>\n",
              "    </tr>\n",
              "  </thead>\n",
              "  <tbody>\n",
              "    <tr>\n",
              "      <th>7590-VHVEG</th>\n",
              "      <td>Female</td>\n",
              "      <td>0</td>\n",
              "      <td>1</td>\n",
              "      <td>1</td>\n",
              "      <td>2020-01-01</td>\n",
              "      <td>2020-02-01</td>\n",
              "      <td>Month-to-month</td>\n",
              "      <td>1</td>\n",
              "      <td>Electronic check</td>\n",
              "      <td>29.85</td>\n",
              "      <td>...</td>\n",
              "      <td>DSL</td>\n",
              "      <td>0</td>\n",
              "      <td>1</td>\n",
              "      <td>0</td>\n",
              "      <td>0</td>\n",
              "      <td>0</td>\n",
              "      <td>0</td>\n",
              "      <td>1</td>\n",
              "      <td>0</td>\n",
              "      <td>0</td>\n",
              "    </tr>\n",
              "    <tr>\n",
              "      <th>5575-GNVDE</th>\n",
              "      <td>Male</td>\n",
              "      <td>0</td>\n",
              "      <td>0</td>\n",
              "      <td>0</td>\n",
              "      <td>2017-04-01</td>\n",
              "      <td>2020-02-01</td>\n",
              "      <td>One year</td>\n",
              "      <td>0</td>\n",
              "      <td>Mailed check</td>\n",
              "      <td>56.95</td>\n",
              "      <td>...</td>\n",
              "      <td>DSL</td>\n",
              "      <td>1</td>\n",
              "      <td>0</td>\n",
              "      <td>1</td>\n",
              "      <td>0</td>\n",
              "      <td>0</td>\n",
              "      <td>0</td>\n",
              "      <td>1</td>\n",
              "      <td>0</td>\n",
              "      <td>1</td>\n",
              "    </tr>\n",
              "    <tr>\n",
              "      <th>3668-QPYBK</th>\n",
              "      <td>Male</td>\n",
              "      <td>0</td>\n",
              "      <td>0</td>\n",
              "      <td>0</td>\n",
              "      <td>2019-10-01</td>\n",
              "      <td>2019-12-01</td>\n",
              "      <td>Month-to-month</td>\n",
              "      <td>1</td>\n",
              "      <td>Mailed check</td>\n",
              "      <td>53.85</td>\n",
              "      <td>...</td>\n",
              "      <td>DSL</td>\n",
              "      <td>1</td>\n",
              "      <td>1</td>\n",
              "      <td>0</td>\n",
              "      <td>0</td>\n",
              "      <td>0</td>\n",
              "      <td>0</td>\n",
              "      <td>1</td>\n",
              "      <td>0</td>\n",
              "      <td>1</td>\n",
              "    </tr>\n",
              "    <tr>\n",
              "      <th>7795-CFOCW</th>\n",
              "      <td>Male</td>\n",
              "      <td>0</td>\n",
              "      <td>0</td>\n",
              "      <td>0</td>\n",
              "      <td>2016-05-01</td>\n",
              "      <td>2020-02-01</td>\n",
              "      <td>One year</td>\n",
              "      <td>0</td>\n",
              "      <td>Bank transfer (automatic)</td>\n",
              "      <td>42.30</td>\n",
              "      <td>...</td>\n",
              "      <td>DSL</td>\n",
              "      <td>1</td>\n",
              "      <td>0</td>\n",
              "      <td>1</td>\n",
              "      <td>1</td>\n",
              "      <td>0</td>\n",
              "      <td>0</td>\n",
              "      <td>1</td>\n",
              "      <td>0</td>\n",
              "      <td>0</td>\n",
              "    </tr>\n",
              "    <tr>\n",
              "      <th>9237-HQITU</th>\n",
              "      <td>Female</td>\n",
              "      <td>0</td>\n",
              "      <td>0</td>\n",
              "      <td>0</td>\n",
              "      <td>2019-09-01</td>\n",
              "      <td>2019-11-01</td>\n",
              "      <td>Month-to-month</td>\n",
              "      <td>1</td>\n",
              "      <td>Electronic check</td>\n",
              "      <td>70.70</td>\n",
              "      <td>...</td>\n",
              "      <td>Fiber optic</td>\n",
              "      <td>0</td>\n",
              "      <td>0</td>\n",
              "      <td>0</td>\n",
              "      <td>0</td>\n",
              "      <td>0</td>\n",
              "      <td>0</td>\n",
              "      <td>1</td>\n",
              "      <td>0</td>\n",
              "      <td>1</td>\n",
              "    </tr>\n",
              "  </tbody>\n",
              "</table>\n",
              "<p>5 rows × 23 columns</p>\n",
              "</div>\n",
              "      <button class=\"colab-df-convert\" onclick=\"convertToInteractive('df-cfaeb959-16cc-422f-8779-40b4750af72f')\"\n",
              "              title=\"Convert this dataframe to an interactive table.\"\n",
              "              style=\"display:none;\">\n",
              "        \n",
              "  <svg xmlns=\"http://www.w3.org/2000/svg\" height=\"24px\"viewBox=\"0 0 24 24\"\n",
              "       width=\"24px\">\n",
              "    <path d=\"M0 0h24v24H0V0z\" fill=\"none\"/>\n",
              "    <path d=\"M18.56 5.44l.94 2.06.94-2.06 2.06-.94-2.06-.94-.94-2.06-.94 2.06-2.06.94zm-11 1L8.5 8.5l.94-2.06 2.06-.94-2.06-.94L8.5 2.5l-.94 2.06-2.06.94zm10 10l.94 2.06.94-2.06 2.06-.94-2.06-.94-.94-2.06-.94 2.06-2.06.94z\"/><path d=\"M17.41 7.96l-1.37-1.37c-.4-.4-.92-.59-1.43-.59-.52 0-1.04.2-1.43.59L10.3 9.45l-7.72 7.72c-.78.78-.78 2.05 0 2.83L4 21.41c.39.39.9.59 1.41.59.51 0 1.02-.2 1.41-.59l7.78-7.78 2.81-2.81c.8-.78.8-2.07 0-2.86zM5.41 20L4 18.59l7.72-7.72 1.47 1.35L5.41 20z\"/>\n",
              "  </svg>\n",
              "      </button>\n",
              "      \n",
              "  <style>\n",
              "    .colab-df-container {\n",
              "      display:flex;\n",
              "      flex-wrap:wrap;\n",
              "      gap: 12px;\n",
              "    }\n",
              "\n",
              "    .colab-df-convert {\n",
              "      background-color: #E8F0FE;\n",
              "      border: none;\n",
              "      border-radius: 50%;\n",
              "      cursor: pointer;\n",
              "      display: none;\n",
              "      fill: #1967D2;\n",
              "      height: 32px;\n",
              "      padding: 0 0 0 0;\n",
              "      width: 32px;\n",
              "    }\n",
              "\n",
              "    .colab-df-convert:hover {\n",
              "      background-color: #E2EBFA;\n",
              "      box-shadow: 0px 1px 2px rgba(60, 64, 67, 0.3), 0px 1px 3px 1px rgba(60, 64, 67, 0.15);\n",
              "      fill: #174EA6;\n",
              "    }\n",
              "\n",
              "    [theme=dark] .colab-df-convert {\n",
              "      background-color: #3B4455;\n",
              "      fill: #D2E3FC;\n",
              "    }\n",
              "\n",
              "    [theme=dark] .colab-df-convert:hover {\n",
              "      background-color: #434B5C;\n",
              "      box-shadow: 0px 1px 3px 1px rgba(0, 0, 0, 0.15);\n",
              "      filter: drop-shadow(0px 1px 2px rgba(0, 0, 0, 0.3));\n",
              "      fill: #FFFFFF;\n",
              "    }\n",
              "  </style>\n",
              "\n",
              "      <script>\n",
              "        const buttonEl =\n",
              "          document.querySelector('#df-cfaeb959-16cc-422f-8779-40b4750af72f button.colab-df-convert');\n",
              "        buttonEl.style.display =\n",
              "          google.colab.kernel.accessAllowed ? 'block' : 'none';\n",
              "\n",
              "        async function convertToInteractive(key) {\n",
              "          const element = document.querySelector('#df-cfaeb959-16cc-422f-8779-40b4750af72f');\n",
              "          const dataTable =\n",
              "            await google.colab.kernel.invokeFunction('convertToInteractive',\n",
              "                                                     [key], {});\n",
              "          if (!dataTable) return;\n",
              "\n",
              "          const docLinkHtml = 'Like what you see? Visit the ' +\n",
              "            '<a target=\"_blank\" href=https://colab.research.google.com/notebooks/data_table.ipynb>data table notebook</a>'\n",
              "            + ' to learn more about interactive tables.';\n",
              "          element.innerHTML = '';\n",
              "          dataTable['output_type'] = 'display_data';\n",
              "          await google.colab.output.renderOutput(dataTable, element);\n",
              "          const docLink = document.createElement('div');\n",
              "          docLink.innerHTML = docLinkHtml;\n",
              "          element.appendChild(docLink);\n",
              "        }\n",
              "      </script>\n",
              "    </div>\n",
              "  </div>\n",
              "  "
            ]
          },
          "metadata": {},
          "execution_count": 1135
        }
      ],
      "source": [
        "df.head()"
      ]
    },
    {
      "cell_type": "markdown",
      "metadata": {
        "id": "drdtRC-tVx1r"
      },
      "source": [
        "**Выводы по объединенной таблице `df`**\n",
        "\n",
        "* Дубликаты в таблице отсутствуют\n",
        "* Пропуски выявлены и заполнены\n",
        "* Имена переменных переведены к стилю snake_case\n",
        "* Для признаков `begin_date` и `end_date` проведено преобразование к типу `datetime64`\n",
        "* Все признаки, содержащие \"Yes\"/\"No\" преобразованы к типу `int`\n",
        "* Добавлены новые признаки:\n",
        "* - `internet_inc` - наличие услуги \"Интернет\"\n",
        "* - `phone_inc` - наличие услуги \"Телефон\"\n",
        "* - `count_months` - продолжительность контракта в месяцах\n",
        "* Установлен и заполнен целевой признак `exit`"
      ]
    },
    {
      "cell_type": "markdown",
      "metadata": {
        "id": "9bGEAkInNpJu"
      },
      "source": [
        "<div class=\"alert alert-success\">\n",
        "<h2> Комментарий тимлида <a class=\"tocSkip\"> </h2>\n",
        "\n",
        "<b>Все отлично!👍:</b> хорошо, идем дальше"
      ]
    },
    {
      "cell_type": "markdown",
      "metadata": {
        "id": "lpeYF7Dzepk_"
      },
      "source": [
        "### Выявление и устранение проблем в данных"
      ]
    },
    {
      "cell_type": "code",
      "execution_count": null,
      "metadata": {
        "id": "K0JPo78LWhBZ",
        "colab": {
          "base_uri": "https://localhost:8080/",
          "height": 331
        },
        "outputId": "3b55c6d2-dbaa-4e8f-aa83-234a34f7a990"
      },
      "outputs": [
        {
          "output_type": "execute_result",
          "data": {
            "text/plain": [
              "            sum  count      mean\n",
              "begin_year                      \n",
              "2013          8      8  1.000000\n",
              "2014         98   1344  0.072917\n",
              "2015        123    852  0.144366\n",
              "2016        145    763  0.190039\n",
              "2017        199    845  0.235503\n",
              "2018        315   1030  0.305825\n",
              "2019        981   1957  0.501277\n",
              "2020          0    244  0.000000"
            ],
            "text/html": [
              "\n",
              "  <div id=\"df-55d3e4d7-2e9c-4bc0-9d12-8e03868824b6\">\n",
              "    <div class=\"colab-df-container\">\n",
              "      <div>\n",
              "<style scoped>\n",
              "    .dataframe tbody tr th:only-of-type {\n",
              "        vertical-align: middle;\n",
              "    }\n",
              "\n",
              "    .dataframe tbody tr th {\n",
              "        vertical-align: top;\n",
              "    }\n",
              "\n",
              "    .dataframe thead th {\n",
              "        text-align: right;\n",
              "    }\n",
              "</style>\n",
              "<table border=\"1\" class=\"dataframe\">\n",
              "  <thead>\n",
              "    <tr style=\"text-align: right;\">\n",
              "      <th></th>\n",
              "      <th>sum</th>\n",
              "      <th>count</th>\n",
              "      <th>mean</th>\n",
              "    </tr>\n",
              "    <tr>\n",
              "      <th>begin_year</th>\n",
              "      <th></th>\n",
              "      <th></th>\n",
              "      <th></th>\n",
              "    </tr>\n",
              "  </thead>\n",
              "  <tbody>\n",
              "    <tr>\n",
              "      <th>2013</th>\n",
              "      <td>8</td>\n",
              "      <td>8</td>\n",
              "      <td>1.000000</td>\n",
              "    </tr>\n",
              "    <tr>\n",
              "      <th>2014</th>\n",
              "      <td>98</td>\n",
              "      <td>1344</td>\n",
              "      <td>0.072917</td>\n",
              "    </tr>\n",
              "    <tr>\n",
              "      <th>2015</th>\n",
              "      <td>123</td>\n",
              "      <td>852</td>\n",
              "      <td>0.144366</td>\n",
              "    </tr>\n",
              "    <tr>\n",
              "      <th>2016</th>\n",
              "      <td>145</td>\n",
              "      <td>763</td>\n",
              "      <td>0.190039</td>\n",
              "    </tr>\n",
              "    <tr>\n",
              "      <th>2017</th>\n",
              "      <td>199</td>\n",
              "      <td>845</td>\n",
              "      <td>0.235503</td>\n",
              "    </tr>\n",
              "    <tr>\n",
              "      <th>2018</th>\n",
              "      <td>315</td>\n",
              "      <td>1030</td>\n",
              "      <td>0.305825</td>\n",
              "    </tr>\n",
              "    <tr>\n",
              "      <th>2019</th>\n",
              "      <td>981</td>\n",
              "      <td>1957</td>\n",
              "      <td>0.501277</td>\n",
              "    </tr>\n",
              "    <tr>\n",
              "      <th>2020</th>\n",
              "      <td>0</td>\n",
              "      <td>244</td>\n",
              "      <td>0.000000</td>\n",
              "    </tr>\n",
              "  </tbody>\n",
              "</table>\n",
              "</div>\n",
              "      <button class=\"colab-df-convert\" onclick=\"convertToInteractive('df-55d3e4d7-2e9c-4bc0-9d12-8e03868824b6')\"\n",
              "              title=\"Convert this dataframe to an interactive table.\"\n",
              "              style=\"display:none;\">\n",
              "        \n",
              "  <svg xmlns=\"http://www.w3.org/2000/svg\" height=\"24px\"viewBox=\"0 0 24 24\"\n",
              "       width=\"24px\">\n",
              "    <path d=\"M0 0h24v24H0V0z\" fill=\"none\"/>\n",
              "    <path d=\"M18.56 5.44l.94 2.06.94-2.06 2.06-.94-2.06-.94-.94-2.06-.94 2.06-2.06.94zm-11 1L8.5 8.5l.94-2.06 2.06-.94-2.06-.94L8.5 2.5l-.94 2.06-2.06.94zm10 10l.94 2.06.94-2.06 2.06-.94-2.06-.94-.94-2.06-.94 2.06-2.06.94z\"/><path d=\"M17.41 7.96l-1.37-1.37c-.4-.4-.92-.59-1.43-.59-.52 0-1.04.2-1.43.59L10.3 9.45l-7.72 7.72c-.78.78-.78 2.05 0 2.83L4 21.41c.39.39.9.59 1.41.59.51 0 1.02-.2 1.41-.59l7.78-7.78 2.81-2.81c.8-.78.8-2.07 0-2.86zM5.41 20L4 18.59l7.72-7.72 1.47 1.35L5.41 20z\"/>\n",
              "  </svg>\n",
              "      </button>\n",
              "      \n",
              "  <style>\n",
              "    .colab-df-container {\n",
              "      display:flex;\n",
              "      flex-wrap:wrap;\n",
              "      gap: 12px;\n",
              "    }\n",
              "\n",
              "    .colab-df-convert {\n",
              "      background-color: #E8F0FE;\n",
              "      border: none;\n",
              "      border-radius: 50%;\n",
              "      cursor: pointer;\n",
              "      display: none;\n",
              "      fill: #1967D2;\n",
              "      height: 32px;\n",
              "      padding: 0 0 0 0;\n",
              "      width: 32px;\n",
              "    }\n",
              "\n",
              "    .colab-df-convert:hover {\n",
              "      background-color: #E2EBFA;\n",
              "      box-shadow: 0px 1px 2px rgba(60, 64, 67, 0.3), 0px 1px 3px 1px rgba(60, 64, 67, 0.15);\n",
              "      fill: #174EA6;\n",
              "    }\n",
              "\n",
              "    [theme=dark] .colab-df-convert {\n",
              "      background-color: #3B4455;\n",
              "      fill: #D2E3FC;\n",
              "    }\n",
              "\n",
              "    [theme=dark] .colab-df-convert:hover {\n",
              "      background-color: #434B5C;\n",
              "      box-shadow: 0px 1px 3px 1px rgba(0, 0, 0, 0.15);\n",
              "      filter: drop-shadow(0px 1px 2px rgba(0, 0, 0, 0.3));\n",
              "      fill: #FFFFFF;\n",
              "    }\n",
              "  </style>\n",
              "\n",
              "      <script>\n",
              "        const buttonEl =\n",
              "          document.querySelector('#df-55d3e4d7-2e9c-4bc0-9d12-8e03868824b6 button.colab-df-convert');\n",
              "        buttonEl.style.display =\n",
              "          google.colab.kernel.accessAllowed ? 'block' : 'none';\n",
              "\n",
              "        async function convertToInteractive(key) {\n",
              "          const element = document.querySelector('#df-55d3e4d7-2e9c-4bc0-9d12-8e03868824b6');\n",
              "          const dataTable =\n",
              "            await google.colab.kernel.invokeFunction('convertToInteractive',\n",
              "                                                     [key], {});\n",
              "          if (!dataTable) return;\n",
              "\n",
              "          const docLinkHtml = 'Like what you see? Visit the ' +\n",
              "            '<a target=\"_blank\" href=https://colab.research.google.com/notebooks/data_table.ipynb>data table notebook</a>'\n",
              "            + ' to learn more about interactive tables.';\n",
              "          element.innerHTML = '';\n",
              "          dataTable['output_type'] = 'display_data';\n",
              "          await google.colab.output.renderOutput(dataTable, element);\n",
              "          const docLink = document.createElement('div');\n",
              "          docLink.innerHTML = docLinkHtml;\n",
              "          element.appendChild(docLink);\n",
              "        }\n",
              "      </script>\n",
              "    </div>\n",
              "  </div>\n",
              "  "
            ]
          },
          "metadata": {},
          "execution_count": 1136
        }
      ],
      "source": [
        "# создать дополнительный признак - год заключения контракта\n",
        "df['begin_year'] = pd.DatetimeIndex(df['begin_date']).year\n",
        "# группировка информации о начале контракта в разрезе календарного года\n",
        "df_year_counts = df.groupby(['begin_year'])['exit'].agg(['sum', 'count', 'mean'])\n",
        "df_year_counts"
      ]
    },
    {
      "cell_type": "markdown",
      "metadata": {
        "id": "Y_fkM2mEcU7t"
      },
      "source": [
        "**Замечание:** При анализе распределения данных по годам обнаружилось:\n",
        "* доля контрактов, заключенных в 2013-м году несущественна и записи можно удалить\n",
        "* информация о расторжении контрактов в январе-феврале 2020 года еще не внесена в базу данных. Этот период также можно удалить, чтобы избежать искажения в расчетах."
      ]
    },
    {
      "cell_type": "code",
      "execution_count": null,
      "metadata": {
        "id": "oVjVcnkULOPI",
        "colab": {
          "base_uri": "https://localhost:8080/"
        },
        "outputId": "5cf8bb1b-3f75-40fe-929e-7b906372df5e"
      },
      "outputs": [
        {
          "output_type": "execute_result",
          "data": {
            "text/plain": [
              "(6791, 24)"
            ]
          },
          "metadata": {},
          "execution_count": 1137
        }
      ],
      "source": [
        "# удаления начального и конечного отрезков \n",
        "df = df.loc[(df.begin_date > '2013-12-01 00:00:00') & (df.begin_date < '2020-01-01 00:00:00')]\n",
        "df.shape"
      ]
    },
    {
      "cell_type": "markdown",
      "metadata": {
        "id": "ubAzF87GNpJu"
      },
      "source": [
        "<div class=\"alert alert-success\">\n",
        "<h2> Комментарий тимлида <a class=\"tocSkip\"> </h2>\n",
        "\n",
        "<b>Все отлично!👍:</b> аргументировано, согласна"
      ]
    },
    {
      "cell_type": "markdown",
      "metadata": {
        "id": "_pMajyKqnfaX"
      },
      "source": [
        "## Анализ зависимости целевого признака от входных данных"
      ]
    },
    {
      "cell_type": "markdown",
      "metadata": {
        "id": "NyQE1zDcZwIR"
      },
      "source": [
        "### Группировка информации по годам"
      ]
    },
    {
      "cell_type": "code",
      "execution_count": null,
      "metadata": {
        "id": "dYfzerJmfr-t",
        "colab": {
          "base_uri": "https://localhost:8080/",
          "height": 269
        },
        "outputId": "3fc2d244-d9ec-45d5-ebbd-2cb76ded68df"
      },
      "outputs": [
        {
          "output_type": "execute_result",
          "data": {
            "text/plain": [
              "            sum  count      mean\n",
              "begin_year                      \n",
              "2014         98   1344  0.072917\n",
              "2015        123    852  0.144366\n",
              "2016        145    763  0.190039\n",
              "2017        199    845  0.235503\n",
              "2018        315   1030  0.305825\n",
              "2019        981   1957  0.501277"
            ],
            "text/html": [
              "\n",
              "  <div id=\"df-5ad8fba8-a715-47d3-92da-94752e39124d\">\n",
              "    <div class=\"colab-df-container\">\n",
              "      <div>\n",
              "<style scoped>\n",
              "    .dataframe tbody tr th:only-of-type {\n",
              "        vertical-align: middle;\n",
              "    }\n",
              "\n",
              "    .dataframe tbody tr th {\n",
              "        vertical-align: top;\n",
              "    }\n",
              "\n",
              "    .dataframe thead th {\n",
              "        text-align: right;\n",
              "    }\n",
              "</style>\n",
              "<table border=\"1\" class=\"dataframe\">\n",
              "  <thead>\n",
              "    <tr style=\"text-align: right;\">\n",
              "      <th></th>\n",
              "      <th>sum</th>\n",
              "      <th>count</th>\n",
              "      <th>mean</th>\n",
              "    </tr>\n",
              "    <tr>\n",
              "      <th>begin_year</th>\n",
              "      <th></th>\n",
              "      <th></th>\n",
              "      <th></th>\n",
              "    </tr>\n",
              "  </thead>\n",
              "  <tbody>\n",
              "    <tr>\n",
              "      <th>2014</th>\n",
              "      <td>98</td>\n",
              "      <td>1344</td>\n",
              "      <td>0.072917</td>\n",
              "    </tr>\n",
              "    <tr>\n",
              "      <th>2015</th>\n",
              "      <td>123</td>\n",
              "      <td>852</td>\n",
              "      <td>0.144366</td>\n",
              "    </tr>\n",
              "    <tr>\n",
              "      <th>2016</th>\n",
              "      <td>145</td>\n",
              "      <td>763</td>\n",
              "      <td>0.190039</td>\n",
              "    </tr>\n",
              "    <tr>\n",
              "      <th>2017</th>\n",
              "      <td>199</td>\n",
              "      <td>845</td>\n",
              "      <td>0.235503</td>\n",
              "    </tr>\n",
              "    <tr>\n",
              "      <th>2018</th>\n",
              "      <td>315</td>\n",
              "      <td>1030</td>\n",
              "      <td>0.305825</td>\n",
              "    </tr>\n",
              "    <tr>\n",
              "      <th>2019</th>\n",
              "      <td>981</td>\n",
              "      <td>1957</td>\n",
              "      <td>0.501277</td>\n",
              "    </tr>\n",
              "  </tbody>\n",
              "</table>\n",
              "</div>\n",
              "      <button class=\"colab-df-convert\" onclick=\"convertToInteractive('df-5ad8fba8-a715-47d3-92da-94752e39124d')\"\n",
              "              title=\"Convert this dataframe to an interactive table.\"\n",
              "              style=\"display:none;\">\n",
              "        \n",
              "  <svg xmlns=\"http://www.w3.org/2000/svg\" height=\"24px\"viewBox=\"0 0 24 24\"\n",
              "       width=\"24px\">\n",
              "    <path d=\"M0 0h24v24H0V0z\" fill=\"none\"/>\n",
              "    <path d=\"M18.56 5.44l.94 2.06.94-2.06 2.06-.94-2.06-.94-.94-2.06-.94 2.06-2.06.94zm-11 1L8.5 8.5l.94-2.06 2.06-.94-2.06-.94L8.5 2.5l-.94 2.06-2.06.94zm10 10l.94 2.06.94-2.06 2.06-.94-2.06-.94-.94-2.06-.94 2.06-2.06.94z\"/><path d=\"M17.41 7.96l-1.37-1.37c-.4-.4-.92-.59-1.43-.59-.52 0-1.04.2-1.43.59L10.3 9.45l-7.72 7.72c-.78.78-.78 2.05 0 2.83L4 21.41c.39.39.9.59 1.41.59.51 0 1.02-.2 1.41-.59l7.78-7.78 2.81-2.81c.8-.78.8-2.07 0-2.86zM5.41 20L4 18.59l7.72-7.72 1.47 1.35L5.41 20z\"/>\n",
              "  </svg>\n",
              "      </button>\n",
              "      \n",
              "  <style>\n",
              "    .colab-df-container {\n",
              "      display:flex;\n",
              "      flex-wrap:wrap;\n",
              "      gap: 12px;\n",
              "    }\n",
              "\n",
              "    .colab-df-convert {\n",
              "      background-color: #E8F0FE;\n",
              "      border: none;\n",
              "      border-radius: 50%;\n",
              "      cursor: pointer;\n",
              "      display: none;\n",
              "      fill: #1967D2;\n",
              "      height: 32px;\n",
              "      padding: 0 0 0 0;\n",
              "      width: 32px;\n",
              "    }\n",
              "\n",
              "    .colab-df-convert:hover {\n",
              "      background-color: #E2EBFA;\n",
              "      box-shadow: 0px 1px 2px rgba(60, 64, 67, 0.3), 0px 1px 3px 1px rgba(60, 64, 67, 0.15);\n",
              "      fill: #174EA6;\n",
              "    }\n",
              "\n",
              "    [theme=dark] .colab-df-convert {\n",
              "      background-color: #3B4455;\n",
              "      fill: #D2E3FC;\n",
              "    }\n",
              "\n",
              "    [theme=dark] .colab-df-convert:hover {\n",
              "      background-color: #434B5C;\n",
              "      box-shadow: 0px 1px 3px 1px rgba(0, 0, 0, 0.15);\n",
              "      filter: drop-shadow(0px 1px 2px rgba(0, 0, 0, 0.3));\n",
              "      fill: #FFFFFF;\n",
              "    }\n",
              "  </style>\n",
              "\n",
              "      <script>\n",
              "        const buttonEl =\n",
              "          document.querySelector('#df-5ad8fba8-a715-47d3-92da-94752e39124d button.colab-df-convert');\n",
              "        buttonEl.style.display =\n",
              "          google.colab.kernel.accessAllowed ? 'block' : 'none';\n",
              "\n",
              "        async function convertToInteractive(key) {\n",
              "          const element = document.querySelector('#df-5ad8fba8-a715-47d3-92da-94752e39124d');\n",
              "          const dataTable =\n",
              "            await google.colab.kernel.invokeFunction('convertToInteractive',\n",
              "                                                     [key], {});\n",
              "          if (!dataTable) return;\n",
              "\n",
              "          const docLinkHtml = 'Like what you see? Visit the ' +\n",
              "            '<a target=\"_blank\" href=https://colab.research.google.com/notebooks/data_table.ipynb>data table notebook</a>'\n",
              "            + ' to learn more about interactive tables.';\n",
              "          element.innerHTML = '';\n",
              "          dataTable['output_type'] = 'display_data';\n",
              "          await google.colab.output.renderOutput(dataTable, element);\n",
              "          const docLink = document.createElement('div');\n",
              "          docLink.innerHTML = docLinkHtml;\n",
              "          element.appendChild(docLink);\n",
              "        }\n",
              "      </script>\n",
              "    </div>\n",
              "  </div>\n",
              "  "
            ]
          },
          "metadata": {},
          "execution_count": 1138
        }
      ],
      "source": [
        "# группировка информации о начале контракта в разрезе календарного года\n",
        "df_year_counts = df.groupby(['begin_year'])['exit'].agg(['sum', 'count', 'mean']) # , 'mean'\n",
        "df_year_counts"
      ]
    },
    {
      "cell_type": "code",
      "execution_count": null,
      "metadata": {
        "id": "9zXDLRmEfz_6",
        "colab": {
          "base_uri": "https://localhost:8080/",
          "height": 419
        },
        "outputId": "d1d14345-15c9-49a4-fd31-b1e0410a4e8b"
      },
      "outputs": [
        {
          "output_type": "display_data",
          "data": {
            "text/plain": [
              "<Figure size 600x400 with 1 Axes>"
            ],
            "image/png": "[encoded data removed]"
          },
          "metadata": {}
        }
      ],
      "source": [
        "# Распределение количества клиентов по году (столбчатая диаграмма)\n",
        "plt.figure(figsize = (6, 4))\n",
        "plt.bar(df_year_counts.index.astype('str'), df_year_counts['count'], width=0.4) # , width=0.4\n",
        "plt.bar(df_year_counts.index.astype('str'), df_year_counts['sum'], width=0.3) # , width=0.6\n",
        "plt.legend(['Всего', 'Ушли'])\n",
        "#plt.xlim(18, 70)\n",
        "plt.title('Распределение количества клиентов по годам')\n",
        "plt.xlabel('Календарный год')\n",
        "plt.ylabel('Количество клиентов')\n",
        "# plt.xticks(rotation=45)\n",
        "plt.show()"
      ]
    },
    {
      "cell_type": "markdown",
      "metadata": {
        "id": "5EMUyvqOX5K_"
      },
      "source": [
        "**Вывод**: наблюдается высокая лояльность среди клиентов с большим стажем. Половина клиентов, подключившихся в 2019-м году, разорвали контракт с оператором."
      ]
    },
    {
      "cell_type": "markdown",
      "metadata": {
        "id": "faMf_GJWNpJv"
      },
      "source": [
        "<div class=\"alert alert-success\">\n",
        "<h2> Комментарий тимлида <a class=\"tocSkip\"> </h2>\n",
        "\n",
        "<b>Все отлично!👍:</b> отлично, плюс за визуализацию"
      ]
    },
    {
      "cell_type": "code",
      "execution_count": null,
      "metadata": {
        "id": "nmhllQKib3VG",
        "colab": {
          "base_uri": "https://localhost:8080/",
          "height": 436
        },
        "outputId": "13935a40-5585-4cae-f991-27b18988d1ce"
      },
      "outputs": [
        {
          "output_type": "display_data",
          "data": {
            "text/plain": [
              "<Figure size 600x400 with 0 Axes>"
            ]
          },
          "metadata": {}
        },
        {
          "output_type": "display_data",
          "data": {
            "text/plain": [
              "<Figure size 600x400 with 1 Axes>"
            ],
            "image/png": "[encoded data removed]"
          },
          "metadata": {}
        }
      ],
      "source": [
        "# Распределение клиентов по расходам (диаграмма рассеяния)\n",
        "plt.figure(figsize = (6, 4))\n",
        "df.loc[df['exit'] == 1].plot(x='begin_date', y='monthly_charges', kind='scatter', grid=True, alpha=0.3, color=\"g\", figsize=(6, 4)) # , width=0.4\n",
        "plt.legend(['Всего', 'Ушли'])\n",
        "# plt.xlim(18, 80)\n",
        "plt.title('Распределение ущедших клиентов по расходам')\n",
        "plt.xlabel('Календарный год подключения')\n",
        "plt.ylabel('Размер платежа')\n",
        "# plt.xticks(rotation=45)\n",
        "plt.show();"
      ]
    },
    {
      "cell_type": "markdown",
      "metadata": {
        "id": "30LyTITFZY6M"
      },
      "source": [
        "**Вывод**: расходы большинства отключившихся клиентов выше среднего уровня."
      ]
    },
    {
      "cell_type": "markdown",
      "metadata": {
        "id": "UHCpDXbRNpJv"
      },
      "source": [
        "<div class=\"alert alert-success\">\n",
        "<h2> Комментарий тимлида <a class=\"tocSkip\"> </h2>\n",
        "\n",
        "<b>Все отлично!👍:</b> хорошо"
      ]
    },
    {
      "cell_type": "markdown",
      "metadata": {
        "id": "C48U4bb46erq"
      },
      "source": [
        "### Распределение целевого признака относительно `monthly_charges_cut`"
      ]
    },
    {
      "cell_type": "code",
      "execution_count": null,
      "metadata": {
        "id": "q4_Z-Voc9Bci",
        "colab": {
          "base_uri": "https://localhost:8080/",
          "height": 237
        },
        "outputId": "f6dc2703-9ab4-48fe-ece4-74a8e566df81"
      },
      "outputs": [
        {
          "output_type": "execute_result",
          "data": {
            "text/plain": [
              "                     sum  count      mean\n",
              "monthly_charges_cut                      \n",
              "(18.249, 25.25]      140   1364  0.102639\n",
              "(25.25, 60.05]       353   1356  0.260324\n",
              "(60.05, 79.6]        440   1356  0.324484\n",
              "(79.6, 94.55]        491   1358  0.361561\n",
              "(94.55, 118.75]      437   1357  0.322034"
            ],
            "text/html": [
              "\n",
              "  <div id=\"df-5702ff63-81ce-4e03-818b-2a4dc3f9d10d\">\n",
              "    <div class=\"colab-df-container\">\n",
              "      <div>\n",
              "<style scoped>\n",
              "    .dataframe tbody tr th:only-of-type {\n",
              "        vertical-align: middle;\n",
              "    }\n",
              "\n",
              "    .dataframe tbody tr th {\n",
              "        vertical-align: top;\n",
              "    }\n",
              "\n",
              "    .dataframe thead th {\n",
              "        text-align: right;\n",
              "    }\n",
              "</style>\n",
              "<table border=\"1\" class=\"dataframe\">\n",
              "  <thead>\n",
              "    <tr style=\"text-align: right;\">\n",
              "      <th></th>\n",
              "      <th>sum</th>\n",
              "      <th>count</th>\n",
              "      <th>mean</th>\n",
              "    </tr>\n",
              "    <tr>\n",
              "      <th>monthly_charges_cut</th>\n",
              "      <th></th>\n",
              "      <th></th>\n",
              "      <th></th>\n",
              "    </tr>\n",
              "  </thead>\n",
              "  <tbody>\n",
              "    <tr>\n",
              "      <th>(18.249, 25.25]</th>\n",
              "      <td>140</td>\n",
              "      <td>1364</td>\n",
              "      <td>0.102639</td>\n",
              "    </tr>\n",
              "    <tr>\n",
              "      <th>(25.25, 60.05]</th>\n",
              "      <td>353</td>\n",
              "      <td>1356</td>\n",
              "      <td>0.260324</td>\n",
              "    </tr>\n",
              "    <tr>\n",
              "      <th>(60.05, 79.6]</th>\n",
              "      <td>440</td>\n",
              "      <td>1356</td>\n",
              "      <td>0.324484</td>\n",
              "    </tr>\n",
              "    <tr>\n",
              "      <th>(79.6, 94.55]</th>\n",
              "      <td>491</td>\n",
              "      <td>1358</td>\n",
              "      <td>0.361561</td>\n",
              "    </tr>\n",
              "    <tr>\n",
              "      <th>(94.55, 118.75]</th>\n",
              "      <td>437</td>\n",
              "      <td>1357</td>\n",
              "      <td>0.322034</td>\n",
              "    </tr>\n",
              "  </tbody>\n",
              "</table>\n",
              "</div>\n",
              "      <button class=\"colab-df-convert\" onclick=\"convertToInteractive('df-5702ff63-81ce-4e03-818b-2a4dc3f9d10d')\"\n",
              "              title=\"Convert this dataframe to an interactive table.\"\n",
              "              style=\"display:none;\">\n",
              "        \n",
              "  <svg xmlns=\"http://www.w3.org/2000/svg\" height=\"24px\"viewBox=\"0 0 24 24\"\n",
              "       width=\"24px\">\n",
              "    <path d=\"M0 0h24v24H0V0z\" fill=\"none\"/>\n",
              "    <path d=\"M18.56 5.44l.94 2.06.94-2.06 2.06-.94-2.06-.94-.94-2.06-.94 2.06-2.06.94zm-11 1L8.5 8.5l.94-2.06 2.06-.94-2.06-.94L8.5 2.5l-.94 2.06-2.06.94zm10 10l.94 2.06.94-2.06 2.06-.94-2.06-.94-.94-2.06-.94 2.06-2.06.94z\"/><path d=\"M17.41 7.96l-1.37-1.37c-.4-.4-.92-.59-1.43-.59-.52 0-1.04.2-1.43.59L10.3 9.45l-7.72 7.72c-.78.78-.78 2.05 0 2.83L4 21.41c.39.39.9.59 1.41.59.51 0 1.02-.2 1.41-.59l7.78-7.78 2.81-2.81c.8-.78.8-2.07 0-2.86zM5.41 20L4 18.59l7.72-7.72 1.47 1.35L5.41 20z\"/>\n",
              "  </svg>\n",
              "      </button>\n",
              "      \n",
              "  <style>\n",
              "    .colab-df-container {\n",
              "      display:flex;\n",
              "      flex-wrap:wrap;\n",
              "      gap: 12px;\n",
              "    }\n",
              "\n",
              "    .colab-df-convert {\n",
              "      background-color: #E8F0FE;\n",
              "      border: none;\n",
              "      border-radius: 50%;\n",
              "      cursor: pointer;\n",
              "      display: none;\n",
              "      fill: #1967D2;\n",
              "      height: 32px;\n",
              "      padding: 0 0 0 0;\n",
              "      width: 32px;\n",
              "    }\n",
              "\n",
              "    .colab-df-convert:hover {\n",
              "      background-color: #E2EBFA;\n",
              "      box-shadow: 0px 1px 2px rgba(60, 64, 67, 0.3), 0px 1px 3px 1px rgba(60, 64, 67, 0.15);\n",
              "      fill: #174EA6;\n",
              "    }\n",
              "\n",
              "    [theme=dark] .colab-df-convert {\n",
              "      background-color: #3B4455;\n",
              "      fill: #D2E3FC;\n",
              "    }\n",
              "\n",
              "    [theme=dark] .colab-df-convert:hover {\n",
              "      background-color: #434B5C;\n",
              "      box-shadow: 0px 1px 3px 1px rgba(0, 0, 0, 0.15);\n",
              "      filter: drop-shadow(0px 1px 2px rgba(0, 0, 0, 0.3));\n",
              "      fill: #FFFFFF;\n",
              "    }\n",
              "  </style>\n",
              "\n",
              "      <script>\n",
              "        const buttonEl =\n",
              "          document.querySelector('#df-5702ff63-81ce-4e03-818b-2a4dc3f9d10d button.colab-df-convert');\n",
              "        buttonEl.style.display =\n",
              "          google.colab.kernel.accessAllowed ? 'block' : 'none';\n",
              "\n",
              "        async function convertToInteractive(key) {\n",
              "          const element = document.querySelector('#df-5702ff63-81ce-4e03-818b-2a4dc3f9d10d');\n",
              "          const dataTable =\n",
              "            await google.colab.kernel.invokeFunction('convertToInteractive',\n",
              "                                                     [key], {});\n",
              "          if (!dataTable) return;\n",
              "\n",
              "          const docLinkHtml = 'Like what you see? Visit the ' +\n",
              "            '<a target=\"_blank\" href=https://colab.research.google.com/notebooks/data_table.ipynb>data table notebook</a>'\n",
              "            + ' to learn more about interactive tables.';\n",
              "          element.innerHTML = '';\n",
              "          dataTable['output_type'] = 'display_data';\n",
              "          await google.colab.output.renderOutput(dataTable, element);\n",
              "          const docLink = document.createElement('div');\n",
              "          docLink.innerHTML = docLinkHtml;\n",
              "          element.appendChild(docLink);\n",
              "        }\n",
              "      </script>\n",
              "    </div>\n",
              "  </div>\n",
              "  "
            ]
          },
          "metadata": {},
          "execution_count": 1141
        }
      ],
      "source": [
        "# группировка клиентов по затратам\n",
        "df['monthly_charges_cut'] = pd.qcut(df['monthly_charges'],5)\n",
        "# df['monthly_charges_cut'] = df['monthly_charges_cut'].astype('str')\n",
        "df_monthly_charges = df.groupby(['monthly_charges_cut'])['exit'].agg(['sum', 'count', 'mean'])\n",
        "df_monthly_charges"
      ]
    },
    {
      "cell_type": "code",
      "execution_count": null,
      "metadata": {
        "id": "Wg2BPLdH9Bcn",
        "colab": {
          "base_uri": "https://localhost:8080/",
          "height": 498
        },
        "outputId": "c6325c73-ad2f-4b4a-83fa-50d161901262"
      },
      "outputs": [
        {
          "output_type": "display_data",
          "data": {
            "text/plain": [
              "<Figure size 600x400 with 1 Axes>"
            ],
            "image/png": "[encoded data removed]"
          },
          "metadata": {}
        }
      ],
      "source": [
        "# Распределение количества клиентов по затратам (столбчатая диаграмма)\n",
        "plt.figure(figsize = (6, 4))\n",
        "plt.bar(df_monthly_charges.index.astype('str'), df_monthly_charges['count'], width=0.4) # , width=0.4\n",
        "plt.bar(df_monthly_charges.index.astype('str'), df_monthly_charges['sum'], width=0.3) # , width=0.6\n",
        "plt.legend(['Всего', 'Ушли'])\n",
        "#plt.xlim(18, 70)\n",
        "plt.title('Распределение количества клиентов по затратам')\n",
        "plt.xlabel('Ежемесячный платеж')\n",
        "plt.ylabel('Количество')\n",
        "plt.xticks(rotation=45)\n",
        "plt.show()"
      ]
    },
    {
      "cell_type": "markdown",
      "metadata": {
        "id": "Ecg0dWF0ldgd"
      },
      "source": [
        "**Примечание**: создан новый синтетический признак `monthly_charges_cut` для разделения клиентов по расходам."
      ]
    },
    {
      "cell_type": "markdown",
      "metadata": {
        "id": "vEzVyVOgiE0G"
      },
      "source": [
        "### Распределение целевого признака относительно `count_months_cut`"
      ]
    },
    {
      "cell_type": "code",
      "execution_count": null,
      "metadata": {
        "id": "SOn8yqD4C3pA",
        "colab": {
          "base_uri": "https://localhost:8080/",
          "height": 237
        },
        "outputId": "cc4f7c35-8cff-4551-8636-dd3dbc4e568c"
      },
      "outputs": [
        {
          "output_type": "execute_result",
          "data": {
            "text/plain": [
              "                  sum  count      mean\n",
              "count_months_cut                      \n",
              "(59.999, 240.0]   835   1368  0.610380\n",
              "(240.0, 690.0]    460   1419  0.324172\n",
              "(690.0, 1260.0]   285   1325  0.215094\n",
              "(1260.0, 1860.0]  204   1356  0.150442\n",
              "(1860.0, 2190.0]   77   1323  0.058201"
            ],
            "text/html": [
              "\n",
              "  <div id=\"df-bafc0834-5a5c-46ab-82d6-bc176c6fbb1c\">\n",
              "    <div class=\"colab-df-container\">\n",
              "      <div>\n",
              "<style scoped>\n",
              "    .dataframe tbody tr th:only-of-type {\n",
              "        vertical-align: middle;\n",
              "    }\n",
              "\n",
              "    .dataframe tbody tr th {\n",
              "        vertical-align: top;\n",
              "    }\n",
              "\n",
              "    .dataframe thead th {\n",
              "        text-align: right;\n",
              "    }\n",
              "</style>\n",
              "<table border=\"1\" class=\"dataframe\">\n",
              "  <thead>\n",
              "    <tr style=\"text-align: right;\">\n",
              "      <th></th>\n",
              "      <th>sum</th>\n",
              "      <th>count</th>\n",
              "      <th>mean</th>\n",
              "    </tr>\n",
              "    <tr>\n",
              "      <th>count_months_cut</th>\n",
              "      <th></th>\n",
              "      <th></th>\n",
              "      <th></th>\n",
              "    </tr>\n",
              "  </thead>\n",
              "  <tbody>\n",
              "    <tr>\n",
              "      <th>(59.999, 240.0]</th>\n",
              "      <td>835</td>\n",
              "      <td>1368</td>\n",
              "      <td>0.610380</td>\n",
              "    </tr>\n",
              "    <tr>\n",
              "      <th>(240.0, 690.0]</th>\n",
              "      <td>460</td>\n",
              "      <td>1419</td>\n",
              "      <td>0.324172</td>\n",
              "    </tr>\n",
              "    <tr>\n",
              "      <th>(690.0, 1260.0]</th>\n",
              "      <td>285</td>\n",
              "      <td>1325</td>\n",
              "      <td>0.215094</td>\n",
              "    </tr>\n",
              "    <tr>\n",
              "      <th>(1260.0, 1860.0]</th>\n",
              "      <td>204</td>\n",
              "      <td>1356</td>\n",
              "      <td>0.150442</td>\n",
              "    </tr>\n",
              "    <tr>\n",
              "      <th>(1860.0, 2190.0]</th>\n",
              "      <td>77</td>\n",
              "      <td>1323</td>\n",
              "      <td>0.058201</td>\n",
              "    </tr>\n",
              "  </tbody>\n",
              "</table>\n",
              "</div>\n",
              "      <button class=\"colab-df-convert\" onclick=\"convertToInteractive('df-bafc0834-5a5c-46ab-82d6-bc176c6fbb1c')\"\n",
              "              title=\"Convert this dataframe to an interactive table.\"\n",
              "              style=\"display:none;\">\n",
              "        \n",
              "  <svg xmlns=\"http://www.w3.org/2000/svg\" height=\"24px\"viewBox=\"0 0 24 24\"\n",
              "       width=\"24px\">\n",
              "    <path d=\"M0 0h24v24H0V0z\" fill=\"none\"/>\n",
              "    <path d=\"M18.56 5.44l.94 2.06.94-2.06 2.06-.94-2.06-.94-.94-2.06-.94 2.06-2.06.94zm-11 1L8.5 8.5l.94-2.06 2.06-.94-2.06-.94L8.5 2.5l-.94 2.06-2.06.94zm10 10l.94 2.06.94-2.06 2.06-.94-2.06-.94-.94-2.06-.94 2.06-2.06.94z\"/><path d=\"M17.41 7.96l-1.37-1.37c-.4-.4-.92-.59-1.43-.59-.52 0-1.04.2-1.43.59L10.3 9.45l-7.72 7.72c-.78.78-.78 2.05 0 2.83L4 21.41c.39.39.9.59 1.41.59.51 0 1.02-.2 1.41-.59l7.78-7.78 2.81-2.81c.8-.78.8-2.07 0-2.86zM5.41 20L4 18.59l7.72-7.72 1.47 1.35L5.41 20z\"/>\n",
              "  </svg>\n",
              "      </button>\n",
              "      \n",
              "  <style>\n",
              "    .colab-df-container {\n",
              "      display:flex;\n",
              "      flex-wrap:wrap;\n",
              "      gap: 12px;\n",
              "    }\n",
              "\n",
              "    .colab-df-convert {\n",
              "      background-color: #E8F0FE;\n",
              "      border: none;\n",
              "      border-radius: 50%;\n",
              "      cursor: pointer;\n",
              "      display: none;\n",
              "      fill: #1967D2;\n",
              "      height: 32px;\n",
              "      padding: 0 0 0 0;\n",
              "      width: 32px;\n",
              "    }\n",
              "\n",
              "    .colab-df-convert:hover {\n",
              "      background-color: #E2EBFA;\n",
              "      box-shadow: 0px 1px 2px rgba(60, 64, 67, 0.3), 0px 1px 3px 1px rgba(60, 64, 67, 0.15);\n",
              "      fill: #174EA6;\n",
              "    }\n",
              "\n",
              "    [theme=dark] .colab-df-convert {\n",
              "      background-color: #3B4455;\n",
              "      fill: #D2E3FC;\n",
              "    }\n",
              "\n",
              "    [theme=dark] .colab-df-convert:hover {\n",
              "      background-color: #434B5C;\n",
              "      box-shadow: 0px 1px 3px 1px rgba(0, 0, 0, 0.15);\n",
              "      filter: drop-shadow(0px 1px 2px rgba(0, 0, 0, 0.3));\n",
              "      fill: #FFFFFF;\n",
              "    }\n",
              "  </style>\n",
              "\n",
              "      <script>\n",
              "        const buttonEl =\n",
              "          document.querySelector('#df-bafc0834-5a5c-46ab-82d6-bc176c6fbb1c button.colab-df-convert');\n",
              "        buttonEl.style.display =\n",
              "          google.colab.kernel.accessAllowed ? 'block' : 'none';\n",
              "\n",
              "        async function convertToInteractive(key) {\n",
              "          const element = document.querySelector('#df-bafc0834-5a5c-46ab-82d6-bc176c6fbb1c');\n",
              "          const dataTable =\n",
              "            await google.colab.kernel.invokeFunction('convertToInteractive',\n",
              "                                                     [key], {});\n",
              "          if (!dataTable) return;\n",
              "\n",
              "          const docLinkHtml = 'Like what you see? Visit the ' +\n",
              "            '<a target=\"_blank\" href=https://colab.research.google.com/notebooks/data_table.ipynb>data table notebook</a>'\n",
              "            + ' to learn more about interactive tables.';\n",
              "          element.innerHTML = '';\n",
              "          dataTable['output_type'] = 'display_data';\n",
              "          await google.colab.output.renderOutput(dataTable, element);\n",
              "          const docLink = document.createElement('div');\n",
              "          docLink.innerHTML = docLinkHtml;\n",
              "          element.appendChild(docLink);\n",
              "        }\n",
              "      </script>\n",
              "    </div>\n",
              "  </div>\n",
              "  "
            ]
          },
          "metadata": {},
          "execution_count": 1143
        }
      ],
      "source": [
        "# группировка клиентов по затратам\n",
        "df['count_months_cut'] = pd.qcut(df['count_months'],5)\n",
        "# df['count_months_cut'] = df['count_months_cut'].astype('str')\n",
        "df_count_months = df.groupby(['count_months_cut'])['exit'].agg(['sum', 'count', 'mean'])\n",
        "df_count_months"
      ]
    },
    {
      "cell_type": "code",
      "execution_count": null,
      "metadata": {
        "id": "HI4NoGehC3pB",
        "colab": {
          "base_uri": "https://localhost:8080/",
          "height": 505
        },
        "outputId": "2f22319e-57d6-4d85-93c5-ef1d6b316ec9"
      },
      "outputs": [
        {
          "output_type": "display_data",
          "data": {
            "text/plain": [
              "<Figure size 600x400 with 1 Axes>"
            ],
            "image/png": "[encoded data removed]"
          },
          "metadata": {}
        }
      ],
      "source": [
        "# Распределение количества клиентов по стажу (столбчатая диаграмма)\n",
        "plt.figure(figsize = (6, 4))\n",
        "plt.bar(df_count_months.index.astype('str'), df_count_months['count'], width=0.4) # , width=0.4\n",
        "plt.bar(df_count_months.index.astype('str'), df_count_months['sum'], width=0.3) # , width=0.6\n",
        "plt.legend(['Всего', 'Ушли'])\n",
        "#plt.xlim(18, 70)\n",
        "plt.title('Распределение количества клиентов по стажу')\n",
        "plt.xlabel('Продолжительность контракта в месяцах')\n",
        "plt.ylabel('Количество')\n",
        "plt.xticks(rotation=45)\n",
        "plt.show()"
      ]
    },
    {
      "cell_type": "markdown",
      "metadata": {
        "id": "AhtKLMTKmFJZ"
      },
      "source": [
        "**Примечание**: создан новый синтетический признак `count_months_cut` для разделения клиентов по стажу."
      ]
    },
    {
      "cell_type": "markdown",
      "metadata": {
        "id": "sPwfhZsUNpJw"
      },
      "source": [
        "<div class=\"alert alert-success\">\n",
        "<h2> Комментарий тимлида <a class=\"tocSkip\"> </h2>\n",
        "\n",
        "<b>Все отлично!👍:</b> хорошо, здесь можно также проанализировать и другие признаки - будет более полная картина"
      ]
    },
    {
      "cell_type": "markdown",
      "metadata": {
        "id": "KEKwj5RK-Q_V"
      },
      "source": [
        "## Анализ корреляции между признаками с помощью пакета Phik"
      ]
    },
    {
      "cell_type": "code",
      "execution_count": null,
      "metadata": {
        "id": "8UhTTB6uQt0Y"
      },
      "outputs": [],
      "source": [
        "# удалить временнЫе признаки и их производные\n",
        "drop_list = ['begin_date', 'end_date', 'begin_year']\n",
        "df = df.drop(drop_list, axis=1)"
      ]
    },
    {
      "cell_type": "code",
      "execution_count": null,
      "metadata": {
        "id": "yeqbI8yJXCmi",
        "colab": {
          "base_uri": "https://localhost:8080/"
        },
        "outputId": "05b18591-77aa-460d-f808-19b435abb14c"
      },
      "outputs": [
        {
          "output_type": "execute_result",
          "data": {
            "text/plain": [
              "Index(['monthly_charges', 'total_charges', 'count_months'], dtype='object')"
            ]
          },
          "metadata": {},
          "execution_count": 1146
        }
      ],
      "source": [
        "# определить список числовых признаков 'count_months' и признаки типа 'float64'\n",
        "interval_list = df.select_dtypes('float64').columns.tolist() + ['count_months']\n",
        "interval_cols = df[interval_list]\n",
        "interval_cols.columns"
      ]
    },
    {
      "cell_type": "code",
      "execution_count": null,
      "metadata": {
        "id": "b8zCtZrzYfH4",
        "colab": {
          "base_uri": "https://localhost:8080/",
          "height": 624
        },
        "outputId": "91ef9238-867a-41ff-aac9-277d9bd45ec2"
      },
      "outputs": [
        {
          "output_type": "display_data",
          "data": {
            "text/plain": [
              "<Figure size 800x600 with 2 Axes>"
            ],
            "image/png": "[encoded data removed]"
          },
          "metadata": {}
        }
      ],
      "source": [
        "# сформировать матрицу корреляции с учетом числовых признаков\n",
        "#define figure size\n",
        "sns.set(rc={\"figure.figsize\":(8 , 6 )})\n",
        "phik_overview = df.phik_matrix(interval_cols=interval_cols)\n",
        "# отобразить корреляцию на графике\n",
        "sns.heatmap(phik_overview, vmax=1, vmin=0);"
      ]
    },
    {
      "cell_type": "code",
      "execution_count": null,
      "metadata": {
        "id": "mggWjdaJRUQQ",
        "colab": {
          "base_uri": "https://localhost:8080/",
          "height": 299
        },
        "outputId": "2e29ad11-2044-4523-a0fd-47156cb19d3f"
      },
      "outputs": [
        {
          "output_type": "execute_result",
          "data": {
            "text/plain": [
              "                gender  senior_citizen   partner  dependents      type  \\\n",
              "gender             1.0        0.000000  0.000000    0.000000  0.000000   \n",
              "senior_citizen     0.0        1.000000  0.000000    0.000000  0.093023   \n",
              "partner            0.0        0.000000  1.000000    1.000000  0.170928   \n",
              "dependents         0.0        0.000000  1.000000    1.000000  0.170928   \n",
              "type               0.0        0.093023  0.170928    0.170928  1.000000   \n",
              "\n",
              "                paperless_billing  payment_method  monthly_charges  \\\n",
              "gender                   0.000000        0.000000         0.000000   \n",
              "senior_citizen           0.241357        0.287489         0.295346   \n",
              "partner                  0.033289        0.227089         0.188956   \n",
              "dependents               0.033289        0.227089         0.188956   \n",
              "type                     0.115955        0.278897         0.401968   \n",
              "\n",
              "                total_charges      exit  ...  online_backup  \\\n",
              "gender               0.000000  0.000000  ...       0.000000   \n",
              "senior_citizen       0.139043  0.226299  ...       0.094385   \n",
              "partner              0.404718  0.262415  ...       0.202043   \n",
              "dependents           0.404718  0.262415  ...       0.202043   \n",
              "type                 0.496543  0.269936  ...       0.091151   \n",
              "\n",
              "                device_protection  tech_support  streaming_tv  \\\n",
              "gender                   0.000000      0.000000      0.000000   \n",
              "senior_citizen           0.081366      0.101731      0.155227   \n",
              "partner                  0.217731      0.175626      0.170719   \n",
              "dependents               0.217731      0.175626      0.170719   \n",
              "type                     0.128707      0.175792      0.055677   \n",
              "\n",
              "                streaming_movies  internet_inc  multiple_lines  phone_inc  \\\n",
              "gender                  0.000000      0.000000        0.000000   0.000000   \n",
              "senior_citizen          0.178938      0.274579        0.213041   0.000000   \n",
              "partner                 0.161218      0.004241        0.200795   0.022638   \n",
              "dependents              0.161218      0.004241        0.200795   0.022638   \n",
              "type                    0.059627      0.162554        0.056237   0.000000   \n",
              "\n",
              "                monthly_charges_cut  count_months_cut  \n",
              "gender                     0.000000          0.002269  \n",
              "senior_citizen             0.173357          0.000000  \n",
              "partner                    0.094212          0.295540  \n",
              "dependents                 0.094212          0.295540  \n",
              "type                       0.236613          0.559530  \n",
              "\n",
              "[5 rows x 23 columns]"
            ],
            "text/html": [
              "\n",
              "  <div id=\"df-54bd0534-dc01-4478-b888-5900b30c315e\">\n",
              "    <div class=\"colab-df-container\">\n",
              "      <div>\n",
              "<style scoped>\n",
              "    .dataframe tbody tr th:only-of-type {\n",
              "        vertical-align: middle;\n",
              "    }\n",
              "\n",
              "    .dataframe tbody tr th {\n",
              "        vertical-align: top;\n",
              "    }\n",
              "\n",
              "    .dataframe thead th {\n",
              "        text-align: right;\n",
              "    }\n",
              "</style>\n",
              "<table border=\"1\" class=\"dataframe\">\n",
              "  <thead>\n",
              "    <tr style=\"text-align: right;\">\n",
              "      <th></th>\n",
              "      <th>gender</th>\n",
              "      <th>senior_citizen</th>\n",
              "      <th>partner</th>\n",
              "      <th>dependents</th>\n",
              "      <th>type</th>\n",
              "      <th>paperless_billing</th>\n",
              "      <th>payment_method</th>\n",
              "      <th>monthly_charges</th>\n",
              "      <th>total_charges</th>\n",
              "      <th>exit</th>\n",
              "      <th>...</th>\n",
              "      <th>online_backup</th>\n",
              "      <th>device_protection</th>\n",
              "      <th>tech_support</th>\n",
              "      <th>streaming_tv</th>\n",
              "      <th>streaming_movies</th>\n",
              "      <th>internet_inc</th>\n",
              "      <th>multiple_lines</th>\n",
              "      <th>phone_inc</th>\n",
              "      <th>monthly_charges_cut</th>\n",
              "      <th>count_months_cut</th>\n",
              "    </tr>\n",
              "  </thead>\n",
              "  <tbody>\n",
              "    <tr>\n",
              "      <th>gender</th>\n",
              "      <td>1.0</td>\n",
              "      <td>0.000000</td>\n",
              "      <td>0.000000</td>\n",
              "      <td>0.000000</td>\n",
              "      <td>0.000000</td>\n",
              "      <td>0.000000</td>\n",
              "      <td>0.000000</td>\n",
              "      <td>0.000000</td>\n",
              "      <td>0.000000</td>\n",
              "      <td>0.000000</td>\n",
              "      <td>...</td>\n",
              "      <td>0.000000</td>\n",
              "      <td>0.000000</td>\n",
              "      <td>0.000000</td>\n",
              "      <td>0.000000</td>\n",
              "      <td>0.000000</td>\n",
              "      <td>0.000000</td>\n",
              "      <td>0.000000</td>\n",
              "      <td>0.000000</td>\n",
              "      <td>0.000000</td>\n",
              "      <td>0.002269</td>\n",
              "    </tr>\n",
              "    <tr>\n",
              "      <th>senior_citizen</th>\n",
              "      <td>0.0</td>\n",
              "      <td>1.000000</td>\n",
              "      <td>0.000000</td>\n",
              "      <td>0.000000</td>\n",
              "      <td>0.093023</td>\n",
              "      <td>0.241357</td>\n",
              "      <td>0.287489</td>\n",
              "      <td>0.295346</td>\n",
              "      <td>0.139043</td>\n",
              "      <td>0.226299</td>\n",
              "      <td>...</td>\n",
              "      <td>0.094385</td>\n",
              "      <td>0.081366</td>\n",
              "      <td>0.101731</td>\n",
              "      <td>0.155227</td>\n",
              "      <td>0.178938</td>\n",
              "      <td>0.274579</td>\n",
              "      <td>0.213041</td>\n",
              "      <td>0.000000</td>\n",
              "      <td>0.173357</td>\n",
              "      <td>0.000000</td>\n",
              "    </tr>\n",
              "    <tr>\n",
              "      <th>partner</th>\n",
              "      <td>0.0</td>\n",
              "      <td>0.000000</td>\n",
              "      <td>1.000000</td>\n",
              "      <td>1.000000</td>\n",
              "      <td>0.170928</td>\n",
              "      <td>0.033289</td>\n",
              "      <td>0.227089</td>\n",
              "      <td>0.188956</td>\n",
              "      <td>0.404718</td>\n",
              "      <td>0.262415</td>\n",
              "      <td>...</td>\n",
              "      <td>0.202043</td>\n",
              "      <td>0.217731</td>\n",
              "      <td>0.175626</td>\n",
              "      <td>0.170719</td>\n",
              "      <td>0.161218</td>\n",
              "      <td>0.004241</td>\n",
              "      <td>0.200795</td>\n",
              "      <td>0.022638</td>\n",
              "      <td>0.094212</td>\n",
              "      <td>0.295540</td>\n",
              "    </tr>\n",
              "    <tr>\n",
              "      <th>dependents</th>\n",
              "      <td>0.0</td>\n",
              "      <td>0.000000</td>\n",
              "      <td>1.000000</td>\n",
              "      <td>1.000000</td>\n",
              "      <td>0.170928</td>\n",
              "      <td>0.033289</td>\n",
              "      <td>0.227089</td>\n",
              "      <td>0.188956</td>\n",
              "      <td>0.404718</td>\n",
              "      <td>0.262415</td>\n",
              "      <td>...</td>\n",
              "      <td>0.202043</td>\n",
              "      <td>0.217731</td>\n",
              "      <td>0.175626</td>\n",
              "      <td>0.170719</td>\n",
              "      <td>0.161218</td>\n",
              "      <td>0.004241</td>\n",
              "      <td>0.200795</td>\n",
              "      <td>0.022638</td>\n",
              "      <td>0.094212</td>\n",
              "      <td>0.295540</td>\n",
              "    </tr>\n",
              "    <tr>\n",
              "      <th>type</th>\n",
              "      <td>0.0</td>\n",
              "      <td>0.093023</td>\n",
              "      <td>0.170928</td>\n",
              "      <td>0.170928</td>\n",
              "      <td>1.000000</td>\n",
              "      <td>0.115955</td>\n",
              "      <td>0.278897</td>\n",
              "      <td>0.401968</td>\n",
              "      <td>0.496543</td>\n",
              "      <td>0.269936</td>\n",
              "      <td>...</td>\n",
              "      <td>0.091151</td>\n",
              "      <td>0.128707</td>\n",
              "      <td>0.175792</td>\n",
              "      <td>0.055677</td>\n",
              "      <td>0.059627</td>\n",
              "      <td>0.162554</td>\n",
              "      <td>0.056237</td>\n",
              "      <td>0.000000</td>\n",
              "      <td>0.236613</td>\n",
              "      <td>0.559530</td>\n",
              "    </tr>\n",
              "  </tbody>\n",
              "</table>\n",
              "<p>5 rows × 23 columns</p>\n",
              "</div>\n",
              "      <button class=\"colab-df-convert\" onclick=\"convertToInteractive('df-54bd0534-dc01-4478-b888-5900b30c315e')\"\n",
              "              title=\"Convert this dataframe to an interactive table.\"\n",
              "              style=\"display:none;\">\n",
              "        \n",
              "  <svg xmlns=\"http://www.w3.org/2000/svg\" height=\"24px\"viewBox=\"0 0 24 24\"\n",
              "       width=\"24px\">\n",
              "    <path d=\"M0 0h24v24H0V0z\" fill=\"none\"/>\n",
              "    <path d=\"M18.56 5.44l.94 2.06.94-2.06 2.06-.94-2.06-.94-.94-2.06-.94 2.06-2.06.94zm-11 1L8.5 8.5l.94-2.06 2.06-.94-2.06-.94L8.5 2.5l-.94 2.06-2.06.94zm10 10l.94 2.06.94-2.06 2.06-.94-2.06-.94-.94-2.06-.94 2.06-2.06.94z\"/><path d=\"M17.41 7.96l-1.37-1.37c-.4-.4-.92-.59-1.43-.59-.52 0-1.04.2-1.43.59L10.3 9.45l-7.72 7.72c-.78.78-.78 2.05 0 2.83L4 21.41c.39.39.9.59 1.41.59.51 0 1.02-.2 1.41-.59l7.78-7.78 2.81-2.81c.8-.78.8-2.07 0-2.86zM5.41 20L4 18.59l7.72-7.72 1.47 1.35L5.41 20z\"/>\n",
              "  </svg>\n",
              "      </button>\n",
              "      \n",
              "  <style>\n",
              "    .colab-df-container {\n",
              "      display:flex;\n",
              "      flex-wrap:wrap;\n",
              "      gap: 12px;\n",
              "    }\n",
              "\n",
              "    .colab-df-convert {\n",
              "      background-color: #E8F0FE;\n",
              "      border: none;\n",
              "      border-radius: 50%;\n",
              "      cursor: pointer;\n",
              "      display: none;\n",
              "      fill: #1967D2;\n",
              "      height: 32px;\n",
              "      padding: 0 0 0 0;\n",
              "      width: 32px;\n",
              "    }\n",
              "\n",
              "    .colab-df-convert:hover {\n",
              "      background-color: #E2EBFA;\n",
              "      box-shadow: 0px 1px 2px rgba(60, 64, 67, 0.3), 0px 1px 3px 1px rgba(60, 64, 67, 0.15);\n",
              "      fill: #174EA6;\n",
              "    }\n",
              "\n",
              "    [theme=dark] .colab-df-convert {\n",
              "      background-color: #3B4455;\n",
              "      fill: #D2E3FC;\n",
              "    }\n",
              "\n",
              "    [theme=dark] .colab-df-convert:hover {\n",
              "      background-color: #434B5C;\n",
              "      box-shadow: 0px 1px 3px 1px rgba(0, 0, 0, 0.15);\n",
              "      filter: drop-shadow(0px 1px 2px rgba(0, 0, 0, 0.3));\n",
              "      fill: #FFFFFF;\n",
              "    }\n",
              "  </style>\n",
              "\n",
              "      <script>\n",
              "        const buttonEl =\n",
              "          document.querySelector('#df-54bd0534-dc01-4478-b888-5900b30c315e button.colab-df-convert');\n",
              "        buttonEl.style.display =\n",
              "          google.colab.kernel.accessAllowed ? 'block' : 'none';\n",
              "\n",
              "        async function convertToInteractive(key) {\n",
              "          const element = document.querySelector('#df-54bd0534-dc01-4478-b888-5900b30c315e');\n",
              "          const dataTable =\n",
              "            await google.colab.kernel.invokeFunction('convertToInteractive',\n",
              "                                                     [key], {});\n",
              "          if (!dataTable) return;\n",
              "\n",
              "          const docLinkHtml = 'Like what you see? Visit the ' +\n",
              "            '<a target=\"_blank\" href=https://colab.research.google.com/notebooks/data_table.ipynb>data table notebook</a>'\n",
              "            + ' to learn more about interactive tables.';\n",
              "          element.innerHTML = '';\n",
              "          dataTable['output_type'] = 'display_data';\n",
              "          await google.colab.output.renderOutput(dataTable, element);\n",
              "          const docLink = document.createElement('div');\n",
              "          docLink.innerHTML = docLinkHtml;\n",
              "          element.appendChild(docLink);\n",
              "        }\n",
              "      </script>\n",
              "    </div>\n",
              "  </div>\n",
              "  "
            ]
          },
          "metadata": {},
          "execution_count": 1148
        }
      ],
      "source": [
        "# отобразить корреляцию в таблице\n",
        "phik_overview.head()"
      ]
    },
    {
      "cell_type": "code",
      "execution_count": null,
      "metadata": {
        "id": "74e8eacZ2OVD",
        "colab": {
          "base_uri": "https://localhost:8080/",
          "height": 237
        },
        "outputId": "a1c1044a-366b-42cc-8e7c-bb9116635b63"
      },
      "outputs": [
        {
          "output_type": "execute_result",
          "data": {
            "text/plain": [
              "               variable1            variable2  correlation\n",
              "179         internet_inc      monthly_charges     0.998911\n",
              "421      monthly_charges         internet_inc     0.998911\n",
              "252     count_months_cut         count_months     0.998158\n",
              "516         count_months     count_months_cut     0.998158\n",
              "182  monthly_charges_cut      monthly_charges     0.995215\n",
              "490      monthly_charges  monthly_charges_cut     0.995215"
            ],
            "text/html": [
              "\n",
              "  <div id=\"df-39d573bf-41ea-4367-bef0-04c964cc943c\">\n",
              "    <div class=\"colab-df-container\">\n",
              "      <div>\n",
              "<style scoped>\n",
              "    .dataframe tbody tr th:only-of-type {\n",
              "        vertical-align: middle;\n",
              "    }\n",
              "\n",
              "    .dataframe tbody tr th {\n",
              "        vertical-align: top;\n",
              "    }\n",
              "\n",
              "    .dataframe thead th {\n",
              "        text-align: right;\n",
              "    }\n",
              "</style>\n",
              "<table border=\"1\" class=\"dataframe\">\n",
              "  <thead>\n",
              "    <tr style=\"text-align: right;\">\n",
              "      <th></th>\n",
              "      <th>variable1</th>\n",
              "      <th>variable2</th>\n",
              "      <th>correlation</th>\n",
              "    </tr>\n",
              "  </thead>\n",
              "  <tbody>\n",
              "    <tr>\n",
              "      <th>179</th>\n",
              "      <td>internet_inc</td>\n",
              "      <td>monthly_charges</td>\n",
              "      <td>0.998911</td>\n",
              "    </tr>\n",
              "    <tr>\n",
              "      <th>421</th>\n",
              "      <td>monthly_charges</td>\n",
              "      <td>internet_inc</td>\n",
              "      <td>0.998911</td>\n",
              "    </tr>\n",
              "    <tr>\n",
              "      <th>252</th>\n",
              "      <td>count_months_cut</td>\n",
              "      <td>count_months</td>\n",
              "      <td>0.998158</td>\n",
              "    </tr>\n",
              "    <tr>\n",
              "      <th>516</th>\n",
              "      <td>count_months</td>\n",
              "      <td>count_months_cut</td>\n",
              "      <td>0.998158</td>\n",
              "    </tr>\n",
              "    <tr>\n",
              "      <th>182</th>\n",
              "      <td>monthly_charges_cut</td>\n",
              "      <td>monthly_charges</td>\n",
              "      <td>0.995215</td>\n",
              "    </tr>\n",
              "    <tr>\n",
              "      <th>490</th>\n",
              "      <td>monthly_charges</td>\n",
              "      <td>monthly_charges_cut</td>\n",
              "      <td>0.995215</td>\n",
              "    </tr>\n",
              "  </tbody>\n",
              "</table>\n",
              "</div>\n",
              "      <button class=\"colab-df-convert\" onclick=\"convertToInteractive('df-39d573bf-41ea-4367-bef0-04c964cc943c')\"\n",
              "              title=\"Convert this dataframe to an interactive table.\"\n",
              "              style=\"display:none;\">\n",
              "        \n",
              "  <svg xmlns=\"http://www.w3.org/2000/svg\" height=\"24px\"viewBox=\"0 0 24 24\"\n",
              "       width=\"24px\">\n",
              "    <path d=\"M0 0h24v24H0V0z\" fill=\"none\"/>\n",
              "    <path d=\"M18.56 5.44l.94 2.06.94-2.06 2.06-.94-2.06-.94-.94-2.06-.94 2.06-2.06.94zm-11 1L8.5 8.5l.94-2.06 2.06-.94-2.06-.94L8.5 2.5l-.94 2.06-2.06.94zm10 10l.94 2.06.94-2.06 2.06-.94-2.06-.94-.94-2.06-.94 2.06-2.06.94z\"/><path d=\"M17.41 7.96l-1.37-1.37c-.4-.4-.92-.59-1.43-.59-.52 0-1.04.2-1.43.59L10.3 9.45l-7.72 7.72c-.78.78-.78 2.05 0 2.83L4 21.41c.39.39.9.59 1.41.59.51 0 1.02-.2 1.41-.59l7.78-7.78 2.81-2.81c.8-.78.8-2.07 0-2.86zM5.41 20L4 18.59l7.72-7.72 1.47 1.35L5.41 20z\"/>\n",
              "  </svg>\n",
              "      </button>\n",
              "      \n",
              "  <style>\n",
              "    .colab-df-container {\n",
              "      display:flex;\n",
              "      flex-wrap:wrap;\n",
              "      gap: 12px;\n",
              "    }\n",
              "\n",
              "    .colab-df-convert {\n",
              "      background-color: #E8F0FE;\n",
              "      border: none;\n",
              "      border-radius: 50%;\n",
              "      cursor: pointer;\n",
              "      display: none;\n",
              "      fill: #1967D2;\n",
              "      height: 32px;\n",
              "      padding: 0 0 0 0;\n",
              "      width: 32px;\n",
              "    }\n",
              "\n",
              "    .colab-df-convert:hover {\n",
              "      background-color: #E2EBFA;\n",
              "      box-shadow: 0px 1px 2px rgba(60, 64, 67, 0.3), 0px 1px 3px 1px rgba(60, 64, 67, 0.15);\n",
              "      fill: #174EA6;\n",
              "    }\n",
              "\n",
              "    [theme=dark] .colab-df-convert {\n",
              "      background-color: #3B4455;\n",
              "      fill: #D2E3FC;\n",
              "    }\n",
              "\n",
              "    [theme=dark] .colab-df-convert:hover {\n",
              "      background-color: #434B5C;\n",
              "      box-shadow: 0px 1px 3px 1px rgba(0, 0, 0, 0.15);\n",
              "      filter: drop-shadow(0px 1px 2px rgba(0, 0, 0, 0.3));\n",
              "      fill: #FFFFFF;\n",
              "    }\n",
              "  </style>\n",
              "\n",
              "      <script>\n",
              "        const buttonEl =\n",
              "          document.querySelector('#df-39d573bf-41ea-4367-bef0-04c964cc943c button.colab-df-convert');\n",
              "        buttonEl.style.display =\n",
              "          google.colab.kernel.accessAllowed ? 'block' : 'none';\n",
              "\n",
              "        async function convertToInteractive(key) {\n",
              "          const element = document.querySelector('#df-39d573bf-41ea-4367-bef0-04c964cc943c');\n",
              "          const dataTable =\n",
              "            await google.colab.kernel.invokeFunction('convertToInteractive',\n",
              "                                                     [key], {});\n",
              "          if (!dataTable) return;\n",
              "\n",
              "          const docLinkHtml = 'Like what you see? Visit the ' +\n",
              "            '<a target=\"_blank\" href=https://colab.research.google.com/notebooks/data_table.ipynb>data table notebook</a>'\n",
              "            + ' to learn more about interactive tables.';\n",
              "          element.innerHTML = '';\n",
              "          dataTable['output_type'] = 'display_data';\n",
              "          await google.colab.output.renderOutput(dataTable, element);\n",
              "          const docLink = document.createElement('div');\n",
              "          docLink.innerHTML = docLinkHtml;\n",
              "          element.appendChild(docLink);\n",
              "        }\n",
              "      </script>\n",
              "    </div>\n",
              "  </div>\n",
              "  "
            ]
          },
          "metadata": {},
          "execution_count": 1149
        }
      ],
      "source": [
        "# преобразовать матрицу корреляции и отобрать зависимости выше 0.95\n",
        "phik_overview.reset_index().melt(id_vars='index')\\\n",
        "    .rename(columns={'index': 'variable1', \n",
        "                     'variable': 'variable2', \n",
        "                     'value': 'correlation'})\\\n",
        "    .sort_values('correlation', ascending=False)\\\n",
        "    .query('correlation.between(.95, 1, inclusive=False)', \n",
        "           engine='python') # workaround of this bug"
      ]
    },
    {
      "cell_type": "code",
      "execution_count": null,
      "metadata": {
        "id": "rUnjewS1R4fZ",
        "colab": {
          "base_uri": "https://localhost:8080/"
        },
        "outputId": "85ea40c5-ce6c-44c7-b062-4983f30933f7"
      },
      "outputs": [
        {
          "output_type": "execute_result",
          "data": {
            "text/plain": [
              "exit                   1.000000\n",
              "count_months           0.543974\n",
              "payment_method         0.459691\n",
              "monthly_charges        0.355545\n",
              "count_months_cut       0.348945\n",
              "internet_inc           0.341894\n",
              "total_charges          0.327239\n",
              "paperless_billing      0.290088\n",
              "online_security        0.285972\n",
              "tech_support           0.276894\n",
              "type                   0.269936\n",
              "partner                0.262415\n",
              "dependents             0.262415\n",
              "senior_citizen         0.226299\n",
              "internet_service       0.191541\n",
              "monthly_charges_cut    0.167299\n",
              "online_backup          0.150377\n",
              "device_protection      0.128415\n",
              "streaming_tv           0.072473\n",
              "streaming_movies       0.069537\n",
              "multiple_lines         0.031617\n",
              "phone_inc              0.000000\n",
              "gender                 0.000000\n",
              "Name: exit, dtype: float64"
            ]
          },
          "metadata": {},
          "execution_count": 1150
        }
      ],
      "source": [
        "# корреляция с целевым признаком, критических зависимостей нет\n",
        "phik_overview['exit'].sort_values(ascending=False)"
      ]
    },
    {
      "cell_type": "markdown",
      "metadata": {
        "id": "pfJ1hYICsCyX"
      },
      "source": [
        "**Вывод**: утечек целевого признака не обнаружено"
      ]
    },
    {
      "cell_type": "markdown",
      "metadata": {
        "id": "e3EJTo8ANpJx"
      },
      "source": [
        "<div class=\"alert alert-success\">\n",
        "<h2> Комментарий тимлида<a class=\"tocSkip\"> </h2>\n",
        "\n",
        "<b>Все отлично!👍:</b> хорошо\n",
        "        \n",
        "На будущее, полезные ссылки - проверка важности признаков по модели это только один из способов (корреляция в том числе). Используют также аналитические методы проверки гипотез. \n",
        "\n",
        "Есть несколько инструментов для отбора признаков, подробнее можно посмотреть в данной статье (Отбор признаков в задачах машинного обучения): https://habr.com/ru/post/550978/\n",
        "\n",
        "В библиотеке sklearn есть методы mutual_info_regression и mutual_info_classif соответственно для регрессии и классификации.\n",
        "https://scikit-learn.org/stable/modules/generated/sklearn.feature_selection.mutual_info_classif.html#sklearn.feature_selection.mutual_info_classif"
      ]
    },
    {
      "cell_type": "markdown",
      "metadata": {
        "id": "BAks0FItfmM_"
      },
      "source": [
        "## Построение портрета уходящего клиента"
      ]
    },
    {
      "cell_type": "code",
      "execution_count": null,
      "metadata": {
        "id": "mvWILBUMJ4oY",
        "colab": {
          "base_uri": "https://localhost:8080/",
          "height": 357
        },
        "outputId": "9e8fdde0-0083-4b74-c349-26be879f5025"
      },
      "outputs": [
        {
          "output_type": "execute_result",
          "data": {
            "text/plain": [
              "   count_months_cut            type internet_service  internet_inc  phone_inc  \\\n",
              "2   (59.999, 240.0]  Month-to-month              DSL             1          0   \n",
              "3   (59.999, 240.0]  Month-to-month              DSL             1          1   \n",
              "7   (59.999, 240.0]  Month-to-month      Fiber optic             1          1   \n",
              "43   (240.0, 690.0]  Month-to-month      Fiber optic             1          1   \n",
              "\n",
              "    count  sum      mean  \n",
              "2     135   86  0.637037  \n",
              "3     307  166  0.540717  \n",
              "7     646  499  0.772446  \n",
              "43    596  330  0.553691  "
            ],
            "text/html": [
              "\n",
              "  <div id=\"df-1f9f32fd-dd48-4777-b166-508cb8d79569\">\n",
              "    <div class=\"colab-df-container\">\n",
              "      <div>\n",
              "<style scoped>\n",
              "    .dataframe tbody tr th:only-of-type {\n",
              "        vertical-align: middle;\n",
              "    }\n",
              "\n",
              "    .dataframe tbody tr th {\n",
              "        vertical-align: top;\n",
              "    }\n",
              "\n",
              "    .dataframe thead th {\n",
              "        text-align: right;\n",
              "    }\n",
              "</style>\n",
              "<table border=\"1\" class=\"dataframe\">\n",
              "  <thead>\n",
              "    <tr style=\"text-align: right;\">\n",
              "      <th></th>\n",
              "      <th>count_months_cut</th>\n",
              "      <th>type</th>\n",
              "      <th>internet_service</th>\n",
              "      <th>internet_inc</th>\n",
              "      <th>phone_inc</th>\n",
              "      <th>count</th>\n",
              "      <th>sum</th>\n",
              "      <th>mean</th>\n",
              "    </tr>\n",
              "  </thead>\n",
              "  <tbody>\n",
              "    <tr>\n",
              "      <th>2</th>\n",
              "      <td>(59.999, 240.0]</td>\n",
              "      <td>Month-to-month</td>\n",
              "      <td>DSL</td>\n",
              "      <td>1</td>\n",
              "      <td>0</td>\n",
              "      <td>135</td>\n",
              "      <td>86</td>\n",
              "      <td>0.637037</td>\n",
              "    </tr>\n",
              "    <tr>\n",
              "      <th>3</th>\n",
              "      <td>(59.999, 240.0]</td>\n",
              "      <td>Month-to-month</td>\n",
              "      <td>DSL</td>\n",
              "      <td>1</td>\n",
              "      <td>1</td>\n",
              "      <td>307</td>\n",
              "      <td>166</td>\n",
              "      <td>0.540717</td>\n",
              "    </tr>\n",
              "    <tr>\n",
              "      <th>7</th>\n",
              "      <td>(59.999, 240.0]</td>\n",
              "      <td>Month-to-month</td>\n",
              "      <td>Fiber optic</td>\n",
              "      <td>1</td>\n",
              "      <td>1</td>\n",
              "      <td>646</td>\n",
              "      <td>499</td>\n",
              "      <td>0.772446</td>\n",
              "    </tr>\n",
              "    <tr>\n",
              "      <th>43</th>\n",
              "      <td>(240.0, 690.0]</td>\n",
              "      <td>Month-to-month</td>\n",
              "      <td>Fiber optic</td>\n",
              "      <td>1</td>\n",
              "      <td>1</td>\n",
              "      <td>596</td>\n",
              "      <td>330</td>\n",
              "      <td>0.553691</td>\n",
              "    </tr>\n",
              "  </tbody>\n",
              "</table>\n",
              "</div>\n",
              "      <button class=\"colab-df-convert\" onclick=\"convertToInteractive('df-1f9f32fd-dd48-4777-b166-508cb8d79569')\"\n",
              "              title=\"Convert this dataframe to an interactive table.\"\n",
              "              style=\"display:none;\">\n",
              "        \n",
              "  <svg xmlns=\"http://www.w3.org/2000/svg\" height=\"24px\"viewBox=\"0 0 24 24\"\n",
              "       width=\"24px\">\n",
              "    <path d=\"M0 0h24v24H0V0z\" fill=\"none\"/>\n",
              "    <path d=\"M18.56 5.44l.94 2.06.94-2.06 2.06-.94-2.06-.94-.94-2.06-.94 2.06-2.06.94zm-11 1L8.5 8.5l.94-2.06 2.06-.94-2.06-.94L8.5 2.5l-.94 2.06-2.06.94zm10 10l.94 2.06.94-2.06 2.06-.94-2.06-.94-.94-2.06-.94 2.06-2.06.94z\"/><path d=\"M17.41 7.96l-1.37-1.37c-.4-.4-.92-.59-1.43-.59-.52 0-1.04.2-1.43.59L10.3 9.45l-7.72 7.72c-.78.78-.78 2.05 0 2.83L4 21.41c.39.39.9.59 1.41.59.51 0 1.02-.2 1.41-.59l7.78-7.78 2.81-2.81c.8-.78.8-2.07 0-2.86zM5.41 20L4 18.59l7.72-7.72 1.47 1.35L5.41 20z\"/>\n",
              "  </svg>\n",
              "      </button>\n",
              "      \n",
              "  <style>\n",
              "    .colab-df-container {\n",
              "      display:flex;\n",
              "      flex-wrap:wrap;\n",
              "      gap: 12px;\n",
              "    }\n",
              "\n",
              "    .colab-df-convert {\n",
              "      background-color: #E8F0FE;\n",
              "      border: none;\n",
              "      border-radius: 50%;\n",
              "      cursor: pointer;\n",
              "      display: none;\n",
              "      fill: #1967D2;\n",
              "      height: 32px;\n",
              "      padding: 0 0 0 0;\n",
              "      width: 32px;\n",
              "    }\n",
              "\n",
              "    .colab-df-convert:hover {\n",
              "      background-color: #E2EBFA;\n",
              "      box-shadow: 0px 1px 2px rgba(60, 64, 67, 0.3), 0px 1px 3px 1px rgba(60, 64, 67, 0.15);\n",
              "      fill: #174EA6;\n",
              "    }\n",
              "\n",
              "    [theme=dark] .colab-df-convert {\n",
              "      background-color: #3B4455;\n",
              "      fill: #D2E3FC;\n",
              "    }\n",
              "\n",
              "    [theme=dark] .colab-df-convert:hover {\n",
              "      background-color: #434B5C;\n",
              "      box-shadow: 0px 1px 3px 1px rgba(0, 0, 0, 0.15);\n",
              "      filter: drop-shadow(0px 1px 2px rgba(0, 0, 0, 0.3));\n",
              "      fill: #FFFFFF;\n",
              "    }\n",
              "  </style>\n",
              "\n",
              "      <script>\n",
              "        const buttonEl =\n",
              "          document.querySelector('#df-1f9f32fd-dd48-4777-b166-508cb8d79569 button.colab-df-convert');\n",
              "        buttonEl.style.display =\n",
              "          google.colab.kernel.accessAllowed ? 'block' : 'none';\n",
              "\n",
              "        async function convertToInteractive(key) {\n",
              "          const element = document.querySelector('#df-1f9f32fd-dd48-4777-b166-508cb8d79569');\n",
              "          const dataTable =\n",
              "            await google.colab.kernel.invokeFunction('convertToInteractive',\n",
              "                                                     [key], {});\n",
              "          if (!dataTable) return;\n",
              "\n",
              "          const docLinkHtml = 'Like what you see? Visit the ' +\n",
              "            '<a target=\"_blank\" href=https://colab.research.google.com/notebooks/data_table.ipynb>data table notebook</a>'\n",
              "            + ' to learn more about interactive tables.';\n",
              "          element.innerHTML = '';\n",
              "          dataTable['output_type'] = 'display_data';\n",
              "          await google.colab.output.renderOutput(dataTable, element);\n",
              "          const docLink = document.createElement('div');\n",
              "          docLink.innerHTML = docLinkHtml;\n",
              "          element.appendChild(docLink);\n",
              "        }\n",
              "      </script>\n",
              "    </div>\n",
              "  </div>\n",
              "  "
            ]
          },
          "metadata": {},
          "execution_count": 1151
        }
      ],
      "source": [
        "# Анализ клиента в зависимости от набора параметров\n",
        "df_exit = df.groupby(['count_months_cut', 'type', 'internet_service', 'internet_inc', 'phone_inc'], dropna=False)['exit'].agg(['count', 'sum', 'mean']).reset_index()\n",
        "df_exit.loc[df_exit['mean'] > 0.5]"
      ]
    },
    {
      "cell_type": "markdown",
      "metadata": {
        "id": "eTidccuqsGgg"
      },
      "source": [
        "**Вывод**: отключившихся клиентов мы можем увидеть среди:\n",
        "* использующих ежемесячую оплату;\n",
        "* подключившихся менее 8 месяцев назад;\n",
        "* использующих услугу \"Интернет\" любого типа подключения."
      ]
    },
    {
      "cell_type": "markdown",
      "metadata": {
        "id": "Tv7gjWXmNpJx"
      },
      "source": [
        "<div class=\"alert alert-success\">\n",
        "<h2> Комментарий тимлида<a class=\"tocSkip\"> </h2>\n",
        "\n",
        "<b>Все отлично!👍:</b> Отлично!"
      ]
    },
    {
      "cell_type": "markdown",
      "metadata": {
        "id": "Hgo0C5yWGNMu"
      },
      "source": [
        "# Подготовка данных для обучения"
      ]
    },
    {
      "cell_type": "markdown",
      "metadata": {
        "id": "BFrIPHkLtpeY"
      },
      "source": [
        "## Отбор признаков"
      ]
    },
    {
      "cell_type": "code",
      "execution_count": null,
      "metadata": {
        "id": "E8ff3WtsgAZW"
      },
      "outputs": [],
      "source": [
        "# https://github.com/catboost/catboost/issues/606\n",
        "# если оставить переменные с типом category, возникает ошибка\n",
        "# Error : Cannot convert Categorical to numpy.ndarray\n",
        "df['monthly_charges_cut'] = df['monthly_charges_cut'].astype('str')\n",
        "df['count_months_cut'] = df['count_months_cut'].astype('str')\n",
        "# удалить признаки с невысокой важностью\n",
        "# drop_list = ['gender'] + ['device_protection'] + ['paperless_billing']\n",
        "drop_list = ['gender']\n",
        "df = df.drop(drop_list, axis=1)\n",
        "object_columns = df.select_dtypes('object').columns.tolist()\n",
        "# object_columns"
      ]
    },
    {
      "cell_type": "markdown",
      "metadata": {
        "id": "dhrBgFUtNpJx"
      },
      "source": [
        "<div class=\"alert alert-success\">\n",
        "<h2> Комментарий тимлида<a class=\"tocSkip\"> </h2>\n",
        "\n",
        "<b>Все отлично!👍:</b> хорошо, сделан отбор признаков"
      ]
    },
    {
      "cell_type": "markdown",
      "metadata": {
        "id": "LfbOwdHsuXvI"
      },
      "source": [
        "## Разделение выборки на обучающую и тестовую"
      ]
    },
    {
      "cell_type": "code",
      "source": [
        "# разделение по признакам\n",
        "features = df.drop('exit', axis=1)\n",
        "target = df['exit']"
      ],
      "metadata": {
        "id": "39rY3mCvI8Pt"
      },
      "execution_count": null,
      "outputs": []
    },
    {
      "cell_type": "code",
      "execution_count": null,
      "metadata": {
        "id": "l-BhCcPq5W1w"
      },
      "outputs": [],
      "source": [
        "ord_enc = OrdinalEncoder(handle_unknown='error')\n",
        "# OneHotEncoder(handle_unknown='ignore', sparse=False)\n",
        "features[object_columns] = ord_enc.fit_transform(features[object_columns])\n",
        "features[object_columns] = features[object_columns].astype('int')"
      ]
    },
    {
      "cell_type": "code",
      "source": [
        "features.info()"
      ],
      "metadata": {
        "colab": {
          "base_uri": "https://localhost:8080/"
        },
        "id": "RJ-k3W08GzGT",
        "outputId": "1223038b-28ca-4c06-da6a-c0309322fa0e"
      },
      "execution_count": null,
      "outputs": [
        {
          "output_type": "stream",
          "name": "stdout",
          "text": [
            "<class 'pandas.core.frame.DataFrame'>\n",
            "Index: 6791 entries, 5575-GNVDE to 3186-AJIEK\n",
            "Data columns (total 21 columns):\n",
            " #   Column               Non-Null Count  Dtype  \n",
            "---  ------               --------------  -----  \n",
            " 0   senior_citizen       6791 non-null   int64  \n",
            " 1   partner              6791 non-null   int64  \n",
            " 2   dependents           6791 non-null   int64  \n",
            " 3   type                 6791 non-null   int64  \n",
            " 4   paperless_billing    6791 non-null   int64  \n",
            " 5   payment_method       6791 non-null   int64  \n",
            " 6   monthly_charges      6791 non-null   float64\n",
            " 7   total_charges        6791 non-null   float64\n",
            " 8   count_months         6791 non-null   int64  \n",
            " 9   internet_service     6791 non-null   int64  \n",
            " 10  online_security      6791 non-null   int64  \n",
            " 11  online_backup        6791 non-null   int64  \n",
            " 12  device_protection    6791 non-null   int64  \n",
            " 13  tech_support         6791 non-null   int64  \n",
            " 14  streaming_tv         6791 non-null   int64  \n",
            " 15  streaming_movies     6791 non-null   int64  \n",
            " 16  internet_inc         6791 non-null   int64  \n",
            " 17  multiple_lines       6791 non-null   int64  \n",
            " 18  phone_inc            6791 non-null   int64  \n",
            " 19  monthly_charges_cut  6791 non-null   int64  \n",
            " 20  count_months_cut     6791 non-null   int64  \n",
            "dtypes: float64(2), int64(19)\n",
            "memory usage: 1.1+ MB\n"
          ]
        }
      ]
    },
    {
      "cell_type": "code",
      "execution_count": null,
      "metadata": {
        "id": "L0O0F4Uy3eeq",
        "colab": {
          "base_uri": "https://localhost:8080/"
        },
        "outputId": "6c816fdf-6913-4e58-f4ee-805113594c90"
      },
      "outputs": [
        {
          "output_type": "execute_result",
          "data": {
            "text/plain": [
              "((6791, 21), (6791, 18))"
            ]
          },
          "metadata": {},
          "execution_count": 1156
        }
      ],
      "source": [
        "# from sklearn.datasets import load_digits\n",
        "from sklearn.feature_selection import SelectKBest, chi2\n",
        "# X, y = load_digits(return_X_y=True)\n",
        "features.shape\n",
        "\n",
        "features_new = SelectKBest(chi2, k=18).fit_transform(features, target)\n",
        "features.shape, features_new.shape\n"
      ]
    },
    {
      "cell_type": "code",
      "execution_count": null,
      "metadata": {
        "colab": {
          "base_uri": "https://localhost:8080/"
        },
        "id": "hMu5XbGa8efF",
        "outputId": "3c806eaa-6cd0-48ed-f4ed-d1dc2b9b7064"
      },
      "outputs": [
        {
          "output_type": "execute_result",
          "data": {
            "text/plain": [
              "array([0.0000e+00, 0.0000e+00, 0.0000e+00, 1.0000e+00, 0.0000e+00,\n",
              "       3.0000e+00, 5.6950e+01, 1.8895e+03, 1.0500e+03, 1.0000e+00,\n",
              "       0.0000e+00, 1.0000e+00, 0.0000e+00, 0.0000e+00, 0.0000e+00,\n",
              "       1.0000e+00, 1.0000e+00, 4.0000e+00])"
            ]
          },
          "metadata": {},
          "execution_count": 1157
        }
      ],
      "source": [
        "# get_feature_names_out([input_features])\n",
        "features_new[0]"
      ]
    },
    {
      "cell_type": "code",
      "execution_count": null,
      "metadata": {
        "id": "60Ux2LZ-bgcB"
      },
      "outputs": [],
      "source": [
        "# разделение по выборкам\n",
        "features_train, features_test, target_train, target_test = train_test_split(\n",
        "    features, target, test_size=TEST_SIZE, random_state=RANDOM_STATE, stratify=target, shuffle=True)"
      ]
    },
    {
      "cell_type": "markdown",
      "metadata": {
        "id": "teaQYDhDNpJy"
      },
      "source": [
        "<div class=\"alert alert-success\">\n",
        "<h2> Комментарий тимлида<a class=\"tocSkip\"> </h2>\n",
        "\n",
        "<b>Все отлично!👍:</b> верно"
      ]
    },
    {
      "cell_type": "code",
      "execution_count": null,
      "metadata": {
        "colab": {
          "base_uri": "https://localhost:8080/"
        },
        "id": "kgylu4LsfbSe",
        "outputId": "74af00d9-7d2a-4216-80cc-8da7e362279d"
      },
      "outputs": [
        {
          "output_type": "stream",
          "name": "stdout",
          "text": [
            "Размер исходной выбороки, доля \"1\"\n",
            "features      - (6791, 21)\n",
            "target        - (6791,) 27.40%\n",
            "Размеры выборок после разделения, доля \"1\"\n",
            "features_train- (5093, 21)\n",
            "target_train  - (5093,) 27.41%\n",
            "features_test - (1698, 21)\n",
            "target_test   - (1698,) 27.39%\n"
          ]
        }
      ],
      "source": [
        "print('Размер исходной выбороки, доля \"1\"')\n",
        "print('features      -', features.shape)\n",
        "print('target        -', target.shape, '{0:.2%}'.format(target.mean()))\n",
        "print('Размеры выборок после разделения, доля \"1\"')\n",
        "print('features_train-', features_train.shape)\n",
        "print('target_train  -', target_train.shape, '{0:.2%}'.format(target_train.mean()))\n",
        "print('features_test -', features_test.shape)\n",
        "print('target_test   -', target_test.shape, '{0:.2%}'.format(target_test.mean()))"
      ]
    },
    {
      "cell_type": "code",
      "execution_count": null,
      "metadata": {
        "colab": {
          "base_uri": "https://localhost:8080/"
        },
        "id": "WCX1MUp9RfXY",
        "outputId": "486e7508-b29f-4b67-c48e-97c6cb244b81"
      },
      "outputs": [
        {
          "output_type": "execute_result",
          "data": {
            "text/plain": [
              "(['monthly_charges', 'total_charges', 'count_months'],\n",
              " ['senior_citizen',\n",
              "  'partner',\n",
              "  'dependents',\n",
              "  'type',\n",
              "  'paperless_billing',\n",
              "  'payment_method',\n",
              "  'internet_service',\n",
              "  'online_security',\n",
              "  'online_backup',\n",
              "  'device_protection',\n",
              "  'tech_support',\n",
              "  'streaming_tv',\n",
              "  'streaming_movies',\n",
              "  'internet_inc',\n",
              "  'multiple_lines',\n",
              "  'phone_inc',\n",
              "  'monthly_charges_cut',\n",
              "  'count_months_cut'])"
            ]
          },
          "metadata": {},
          "execution_count": 1160
        }
      ],
      "source": [
        "# список категориальных признаков\n",
        "cat_columns = features_train.select_dtypes('object').columns.tolist() + \\\n",
        "              features_train.select_dtypes('int64').columns.tolist()\n",
        "cat_columns.remove('count_months')\n",
        "# проверка списка числовых признаков\n",
        "interval_list, cat_columns"
      ]
    },
    {
      "cell_type": "markdown",
      "metadata": {
        "id": "JheFjoc8cjV2"
      },
      "source": [
        "## Создание списка моделей"
      ]
    },
    {
      "cell_type": "code",
      "execution_count": null,
      "metadata": {
        "id": "7cf106fc"
      },
      "outputs": [],
      "source": [
        "# Создание конвейеров для числовых и категориальных объектов\n",
        "# Для категориальных признаков выполнить следующие действия:\n",
        "# -\tс помощью OrdinalEncoder закодировать числовыми значениями для обучения модели.\n",
        "\n",
        "cat_pipeline = Pipeline(steps=[\n",
        "    # ('one-hot', OrdinalEncoder(handle_unknown='error'))\n",
        "    ('one-hot', OneHotEncoder(handle_unknown='ignore', sparse=False))\n",
        "\n",
        "])\n",
        "\n",
        "# Создать преобразователь столбцов, чтобы применить конвейер для каждого типа столбцов\n",
        "\n",
        "col_trans = ColumnTransformer(transformers=[\n",
        "    ('cat_pipeline', cat_pipeline, object_columns)\n",
        "    ],\n",
        "    remainder='drop',\n",
        "    n_jobs=-1)"
      ]
    },
    {
      "cell_type": "code",
      "execution_count": null,
      "metadata": {
        "id": "zY7hv6Xoc4gD"
      },
      "outputs": [],
      "source": [
        "pipeline_1 = Pipeline(\n",
        "    [\n",
        "        ('skb', SelectKBest(chi2)),\n",
        "        # (\"clf\", CatBoostClassifier(cat_features=cat_columns, random_state=RANDOM_STATE, verbose=0)),\n",
        "        (\"clf\", CatBoostClassifier(random_state=RANDOM_STATE, verbose=0)),\n",
        "\n",
        "    ]\n",
        ")\n",
        "parameter_1 = {\n",
        "    'clf__learning_rate': np.arange(0.1, 0.26, 0.05),\n",
        "    'clf__n_estimators': range(70,76,1),\n",
        "    'clf__max_depth': range(2,6,1),\n",
        "    'skb__k': range(10,19,1),\n",
        "}\n",
        "\n",
        "pipeline_2 = Pipeline(\n",
        "    [\n",
        "        # ('col_trans', col_trans),\n",
        "        ('skb', SelectKBest(chi2)),\n",
        "        (\"clf\", lgb.LGBMClassifier(random_state=RANDOM_STATE)),\n",
        "    ]\n",
        ")\n",
        "parameter_2 = {\n",
        "    'clf__learning_rate': np.arange(0.1, 0.26, 0.05),\n",
        "    'clf__n_estimators': range(30,35,1),\n",
        "    'clf__num_leaves': range(4,9,1),\n",
        "    'clf__max_depth': range(2,5,1),\n",
        "    'skb__k': range(10,19,1),\n",
        "}\n",
        "\n",
        "pipeline_3 = Pipeline(\n",
        "    [\n",
        "        (\"clf\", DummyClassifier(random_state=RANDOM_STATE)),\n",
        "    ]\n",
        ")\n",
        "parameter_3 = {\n",
        "    'clf__strategy': ['most_frequent', 'prior', 'stratified', 'uniform']\n",
        "}"
      ]
    },
    {
      "cell_type": "code",
      "execution_count": null,
      "metadata": {
        "id": "Jt4KWgbpjkwn"
      },
      "outputs": [],
      "source": [
        "model_list = []\n",
        "model_list.append(['CatBoostClassifier', pipeline_1, parameter_1, 0, None])\n",
        "model_list.append(['LGBMClassifier', pipeline_2, parameter_2, 0, None])\n",
        "model_list.append(['DummyClassifier', pipeline_3, parameter_3, 0, None])"
      ]
    },
    {
      "cell_type": "markdown",
      "metadata": {
        "id": "nuMsJwOGkq2h"
      },
      "source": [
        "## Построение конвеера с использованием GridSearchCV"
      ]
    },
    {
      "cell_type": "code",
      "source": [
        "features_train.info()"
      ],
      "metadata": {
        "colab": {
          "base_uri": "https://localhost:8080/"
        },
        "id": "u19FnJleIsqs",
        "outputId": "8e9427d6-9684-4e8c-9cc1-1807a47ee96c"
      },
      "execution_count": null,
      "outputs": [
        {
          "output_type": "stream",
          "name": "stdout",
          "text": [
            "<class 'pandas.core.frame.DataFrame'>\n",
            "Index: 5093 entries, 6556-DBKZF to 4508-OEBEY\n",
            "Data columns (total 21 columns):\n",
            " #   Column               Non-Null Count  Dtype  \n",
            "---  ------               --------------  -----  \n",
            " 0   senior_citizen       5093 non-null   int64  \n",
            " 1   partner              5093 non-null   int64  \n",
            " 2   dependents           5093 non-null   int64  \n",
            " 3   type                 5093 non-null   int64  \n",
            " 4   paperless_billing    5093 non-null   int64  \n",
            " 5   payment_method       5093 non-null   int64  \n",
            " 6   monthly_charges      5093 non-null   float64\n",
            " 7   total_charges        5093 non-null   float64\n",
            " 8   count_months         5093 non-null   int64  \n",
            " 9   internet_service     5093 non-null   int64  \n",
            " 10  online_security      5093 non-null   int64  \n",
            " 11  online_backup        5093 non-null   int64  \n",
            " 12  device_protection    5093 non-null   int64  \n",
            " 13  tech_support         5093 non-null   int64  \n",
            " 14  streaming_tv         5093 non-null   int64  \n",
            " 15  streaming_movies     5093 non-null   int64  \n",
            " 16  internet_inc         5093 non-null   int64  \n",
            " 17  multiple_lines       5093 non-null   int64  \n",
            " 18  phone_inc            5093 non-null   int64  \n",
            " 19  monthly_charges_cut  5093 non-null   int64  \n",
            " 20  count_months_cut     5093 non-null   int64  \n",
            "dtypes: float64(2), int64(19)\n",
            "memory usage: 875.4+ KB\n"
          ]
        }
      ]
    },
    {
      "cell_type": "code",
      "execution_count": null,
      "metadata": {
        "colab": {
          "base_uri": "https://localhost:8080/"
        },
        "id": "Umx2rUEMkzE4",
        "outputId": "3825a4ab-67e6-4ab8-a499-856c68c2a4ea"
      },
      "outputs": [
        {
          "output_type": "stream",
          "name": "stdout",
          "text": [
            "----- ----- -----\n",
            "Модель 1 CatBoostClassifier\n",
            "Fitting 5 folds for each of 864 candidates, totalling 4320 fits\n",
            "Время обучения 522.438 секунд\n",
            "Найдено наилучшее сочетание параметров:\n",
            "clf__learning_rate: 0.1\n",
            "clf__max_depth: 5\n",
            "clf__n_estimators: 70\n",
            "skb__k: 16\n",
            "Метрика ROC-AUC с использованием кросс-валидации: 0.8699\n",
            "----- ----- -----\n",
            "Модель 2 LGBMClassifier\n",
            "Fitting 5 folds for each of 2700 candidates, totalling 13500 fits\n",
            "Время обучения 459.654 секунд\n",
            "Найдено наилучшее сочетание параметров:\n",
            "clf__learning_rate: 0.20000000000000004\n",
            "clf__max_depth: 3\n",
            "clf__n_estimators: 33\n",
            "clf__num_leaves: 8\n",
            "skb__k: 14\n",
            "Метрика ROC-AUC с использованием кросс-валидации: 0.8691\n",
            "----- ----- -----\n",
            "Модель 3 DummyClassifier\n",
            "Fitting 5 folds for each of 4 candidates, totalling 20 fits\n",
            "Время обучения 0.153 секунд\n",
            "Найдено наилучшее сочетание параметров:\n",
            "clf__strategy: stratified\n",
            "Метрика ROC-AUC с использованием кросс-валидации: 0.5007\n"
          ]
        }
      ],
      "source": [
        "for index in range(len(model_list)):\n",
        "    pipeline = model_list[index][1]\n",
        "    parameter = model_list[index][2]\n",
        "    print('----- ----- -----')\n",
        "    print('Модель', index + 1, model_list[index][0])\n",
        "    grid_search = GridSearchCV(pipeline, parameter,\n",
        "        n_jobs=-1,\n",
        "        verbose=2,\n",
        "        scoring = 'roc_auc',\n",
        "        # refit='f1',\n",
        "        cv=5,)\n",
        "\n",
        "    t0 = time()\n",
        "    grid_search.fit(features_train, target_train)\n",
        "    print(f\"Время обучения {time() - t0:.3f} секунд\")\n",
        "\n",
        "    print(\"Найдено наилучшее сочетание параметров:\")\n",
        "    best_parameters = grid_search.best_estimator_.get_params()\n",
        "    for param_name in sorted(parameter.keys()):\n",
        "        print(f\"{param_name}: {best_parameters[param_name]}\")\n",
        "\n",
        "    print(f\"Метрика ROC-AUC с использованием кросс-валидации: {grid_search.best_score_:.4f}\")\n",
        "    model_list[index][3] = grid_search.best_score_\n",
        "    model_list[index][4] = grid_search.best_estimator_"
      ]
    },
    {
      "cell_type": "markdown",
      "metadata": {
        "id": "_NOBS2DuNpJz"
      },
      "source": [
        "<div class=\"alert alert-success\">\n",
        "<h2> Комментарий тимлида<a class=\"tocSkip\"> </h2>\n",
        "\n",
        "<b>Все отлично!👍:</b> отлично, очень удобное обучение моделей с хорошим выводом информации"
      ]
    },
    {
      "cell_type": "markdown",
      "metadata": {
        "id": "E2l5z5zHO79O"
      },
      "source": [
        "## Выбор лучшей модели на кросс-валидации по метрике ROC_AUC"
      ]
    },
    {
      "cell_type": "code",
      "execution_count": null,
      "metadata": {
        "colab": {
          "base_uri": "https://localhost:8080/",
          "height": 143
        },
        "id": "T6IPGTYs-spT",
        "outputId": "e1b3f8b9-7d03-4aad-c548-7c8cbeab0a7f"
      },
      "outputs": [
        {
          "output_type": "execute_result",
          "data": {
            "text/plain": [
              "               Модель  best_score_  \\\n",
              "0  CatBoostClassifier     0.869921   \n",
              "1      LGBMClassifier     0.869092   \n",
              "2     DummyClassifier     0.500657   \n",
              "\n",
              "                                     best_estimator_  \n",
              "0  (SelectKBest(k=16, score_func=<function chi2 a...  \n",
              "1  (SelectKBest(k=14, score_func=<function chi2 a...  \n",
              "2  (DummyClassifier(random_state=270323, strategy...  "
            ],
            "text/html": [
              "\n",
              "  <div id=\"df-45906701-b858-4d62-bef8-12aabd9a3a2a\">\n",
              "    <div class=\"colab-df-container\">\n",
              "      <div>\n",
              "<style scoped>\n",
              "    .dataframe tbody tr th:only-of-type {\n",
              "        vertical-align: middle;\n",
              "    }\n",
              "\n",
              "    .dataframe tbody tr th {\n",
              "        vertical-align: top;\n",
              "    }\n",
              "\n",
              "    .dataframe thead th {\n",
              "        text-align: right;\n",
              "    }\n",
              "</style>\n",
              "<table border=\"1\" class=\"dataframe\">\n",
              "  <thead>\n",
              "    <tr style=\"text-align: right;\">\n",
              "      <th></th>\n",
              "      <th>Модель</th>\n",
              "      <th>best_score_</th>\n",
              "      <th>best_estimator_</th>\n",
              "    </tr>\n",
              "  </thead>\n",
              "  <tbody>\n",
              "    <tr>\n",
              "      <th>0</th>\n",
              "      <td>CatBoostClassifier</td>\n",
              "      <td>0.869921</td>\n",
              "      <td>(SelectKBest(k=16, score_func=&lt;function chi2 a...</td>\n",
              "    </tr>\n",
              "    <tr>\n",
              "      <th>1</th>\n",
              "      <td>LGBMClassifier</td>\n",
              "      <td>0.869092</td>\n",
              "      <td>(SelectKBest(k=14, score_func=&lt;function chi2 a...</td>\n",
              "    </tr>\n",
              "    <tr>\n",
              "      <th>2</th>\n",
              "      <td>DummyClassifier</td>\n",
              "      <td>0.500657</td>\n",
              "      <td>(DummyClassifier(random_state=270323, strategy...</td>\n",
              "    </tr>\n",
              "  </tbody>\n",
              "</table>\n",
              "</div>\n",
              "      <button class=\"colab-df-convert\" onclick=\"convertToInteractive('df-45906701-b858-4d62-bef8-12aabd9a3a2a')\"\n",
              "              title=\"Convert this dataframe to an interactive table.\"\n",
              "              style=\"display:none;\">\n",
              "        \n",
              "  <svg xmlns=\"http://www.w3.org/2000/svg\" height=\"24px\"viewBox=\"0 0 24 24\"\n",
              "       width=\"24px\">\n",
              "    <path d=\"M0 0h24v24H0V0z\" fill=\"none\"/>\n",
              "    <path d=\"M18.56 5.44l.94 2.06.94-2.06 2.06-.94-2.06-.94-.94-2.06-.94 2.06-2.06.94zm-11 1L8.5 8.5l.94-2.06 2.06-.94-2.06-.94L8.5 2.5l-.94 2.06-2.06.94zm10 10l.94 2.06.94-2.06 2.06-.94-2.06-.94-.94-2.06-.94 2.06-2.06.94z\"/><path d=\"M17.41 7.96l-1.37-1.37c-.4-.4-.92-.59-1.43-.59-.52 0-1.04.2-1.43.59L10.3 9.45l-7.72 7.72c-.78.78-.78 2.05 0 2.83L4 21.41c.39.39.9.59 1.41.59.51 0 1.02-.2 1.41-.59l7.78-7.78 2.81-2.81c.8-.78.8-2.07 0-2.86zM5.41 20L4 18.59l7.72-7.72 1.47 1.35L5.41 20z\"/>\n",
              "  </svg>\n",
              "      </button>\n",
              "      \n",
              "  <style>\n",
              "    .colab-df-container {\n",
              "      display:flex;\n",
              "      flex-wrap:wrap;\n",
              "      gap: 12px;\n",
              "    }\n",
              "\n",
              "    .colab-df-convert {\n",
              "      background-color: #E8F0FE;\n",
              "      border: none;\n",
              "      border-radius: 50%;\n",
              "      cursor: pointer;\n",
              "      display: none;\n",
              "      fill: #1967D2;\n",
              "      height: 32px;\n",
              "      padding: 0 0 0 0;\n",
              "      width: 32px;\n",
              "    }\n",
              "\n",
              "    .colab-df-convert:hover {\n",
              "      background-color: #E2EBFA;\n",
              "      box-shadow: 0px 1px 2px rgba(60, 64, 67, 0.3), 0px 1px 3px 1px rgba(60, 64, 67, 0.15);\n",
              "      fill: #174EA6;\n",
              "    }\n",
              "\n",
              "    [theme=dark] .colab-df-convert {\n",
              "      background-color: #3B4455;\n",
              "      fill: #D2E3FC;\n",
              "    }\n",
              "\n",
              "    [theme=dark] .colab-df-convert:hover {\n",
              "      background-color: #434B5C;\n",
              "      box-shadow: 0px 1px 3px 1px rgba(0, 0, 0, 0.15);\n",
              "      filter: drop-shadow(0px 1px 2px rgba(0, 0, 0, 0.3));\n",
              "      fill: #FFFFFF;\n",
              "    }\n",
              "  </style>\n",
              "\n",
              "      <script>\n",
              "        const buttonEl =\n",
              "          document.querySelector('#df-45906701-b858-4d62-bef8-12aabd9a3a2a button.colab-df-convert');\n",
              "        buttonEl.style.display =\n",
              "          google.colab.kernel.accessAllowed ? 'block' : 'none';\n",
              "\n",
              "        async function convertToInteractive(key) {\n",
              "          const element = document.querySelector('#df-45906701-b858-4d62-bef8-12aabd9a3a2a');\n",
              "          const dataTable =\n",
              "            await google.colab.kernel.invokeFunction('convertToInteractive',\n",
              "                                                     [key], {});\n",
              "          if (!dataTable) return;\n",
              "\n",
              "          const docLinkHtml = 'Like what you see? Visit the ' +\n",
              "            '<a target=\"_blank\" href=https://colab.research.google.com/notebooks/data_table.ipynb>data table notebook</a>'\n",
              "            + ' to learn more about interactive tables.';\n",
              "          element.innerHTML = '';\n",
              "          dataTable['output_type'] = 'display_data';\n",
              "          await google.colab.output.renderOutput(dataTable, element);\n",
              "          const docLink = document.createElement('div');\n",
              "          docLink.innerHTML = docLinkHtml;\n",
              "          element.appendChild(docLink);\n",
              "        }\n",
              "      </script>\n",
              "    </div>\n",
              "  </div>\n",
              "  "
            ]
          },
          "metadata": {},
          "execution_count": 1166
        }
      ],
      "source": [
        "df_model = pd.DataFrame(model_list, columns=['Модель', 'Конвеер', 'Параметры', 'best_score_', 'best_estimator_'])\n",
        "df_model = df_model.sort_values(by='best_score_', ascending=False).reset_index()\n",
        "df_model[['Модель', 'best_score_', 'best_estimator_']]"
      ]
    },
    {
      "cell_type": "code",
      "execution_count": null,
      "metadata": {
        "colab": {
          "base_uri": "https://localhost:8080/",
          "height": 424
        },
        "id": "qpcOB3Z1bJWe",
        "outputId": "877285a4-083b-4f5a-8f44-7911bdaa9ad1"
      },
      "outputs": [
        {
          "output_type": "display_data",
          "data": {
            "text/plain": [
              "<Figure size 600x400 with 1 Axes>"
            ],
            "image/png": "[encoded data removed]"
          },
          "metadata": {}
        }
      ],
      "source": [
        "#define figure size\n",
        "sns.set(rc={\"figure.figsize\":(6 , 4 )})\n",
        "#define seaborn background colors\n",
        "sns.set (rc={'axes.facecolor':'black', 'figure.facecolor':'white'})\n",
        "sns.set(rc={'xtick.labelsize':12, 'ytick.labelsize':14})  # размер подписей\n",
        "sp = sns.barplot(data=df_model, x=\"Модель\", y=\"best_score_\");\n",
        "sp.axes.set_title(\"Выбор лучшей модели\", fontsize=16)\n",
        "sp.set_xlabel(\"Модель\", fontsize=12)\n",
        "sp.set_ylabel(\"Метрика ROC-AUC \", fontsize=14);    "
      ]
    },
    {
      "cell_type": "code",
      "execution_count": null,
      "metadata": {
        "colab": {
          "base_uri": "https://localhost:8080/"
        },
        "id": "awh7P1V0XK3D",
        "outputId": "b85777b5-361d-4505-e2fe-b03f003ca734"
      },
      "outputs": [
        {
          "output_type": "stream",
          "name": "stdout",
          "text": [
            "Лучшая модель - SelectKBest(k=16, score_func=<function chi2 at 0x7fb6bc066e50>)\n",
            "Метрика ROC-AUC на кросс-валидации = 0.8699\n"
          ]
        }
      ],
      "source": [
        "best_score = df_model.loc[0, 'best_score_']\n",
        "best_estimator = df_model.loc[0, 'best_estimator_']\n",
        "print('Лучшая модель -',  best_estimator[0])\n",
        "print(f\"Метрика ROC-AUC на кросс-валидации = {best_score:.4f}\")"
      ]
    },
    {
      "cell_type": "markdown",
      "metadata": {
        "id": "MwLGEAIANpJz"
      },
      "source": [
        "<div class=\"alert alert-success\">\n",
        "<h2> Комментарий тимлида<a class=\"tocSkip\"> </h2>\n",
        "\n",
        "<b>Все отлично!👍:</b> хорошо, наглядно"
      ]
    },
    {
      "cell_type": "markdown",
      "metadata": {
        "id": "1-DUKK7gWcJ7"
      },
      "source": [
        "## Тестирование лучшей модели и оценка дополнительных метрик"
      ]
    },
    {
      "cell_type": "code",
      "execution_count": null,
      "metadata": {
        "colab": {
          "base_uri": "https://localhost:8080/"
        },
        "id": "GUCJ5JWW3F2j",
        "outputId": "3f15bd4c-8487-41f3-9cdb-8c50b738225a"
      },
      "outputs": [
        {
          "output_type": "stream",
          "name": "stdout",
          "text": [
            "Значение метрики ROC-AUC = 0.8819\n"
          ]
        }
      ],
      "source": [
        "# сначала оценим метрику ROC-AUC\n",
        "probabilities_test = best_estimator.predict_proba(features_test)\n",
        "probabilities_one_test = probabilities_test[:, 1]\n",
        "roc_auc = roc_auc_score(target_test, best_estimator.predict_proba(features_test)[:, 1])\n",
        "print(f\"Значение метрики ROC-AUC = {roc_auc:.4f}\")"
      ]
    },
    {
      "cell_type": "markdown",
      "metadata": {
        "id": "okGt2LTiNpJz"
      },
      "source": [
        "<div class=\"alert alert-success\">\n",
        "<h2> Комментарий тимлида<a class=\"tocSkip\"> </h2>\n",
        "\n",
        "<b>Все отлично!👍:</b> отличное качество, порог пройден"
      ]
    },
    {
      "cell_type": "code",
      "execution_count": null,
      "metadata": {
        "colab": {
          "base_uri": "https://localhost:8080/",
          "height": 422
        },
        "id": "B-3EPZ5q4KaW",
        "outputId": "e9065201-1e91-439f-cfc8-32f24931918d"
      },
      "outputs": [
        {
          "output_type": "display_data",
          "data": {
            "text/plain": [
              "<Figure size 600x400 with 1 Axes>"
            ],
            "image/png": "[encoded data removed]"
          },
          "metadata": {}
        }
      ],
      "source": [
        "# вывести ROC-кривую (кривую ошибок)\n",
        "fpr, tpr, thresholds = roc_curve(target_test, probabilities_one_test) \n",
        "\n",
        "plt.figure()\n",
        "plt.plot([0, 1], [0, 1], linestyle='--')\n",
        "\n",
        "plt.plot(fpr, tpr)\n",
        "plt.xlim([0.0, 1.0])\n",
        "plt.ylim([0.0, 1.0])\n",
        "plt.xlabel('False Positive Rate')\n",
        "plt.ylabel('True Positive Rate')\n",
        "plt.title('ROC-кривая (кривая ошибок)')\n",
        "plt.grid(which='major', axis='both', color='g', linestyle='-', linewidth=0.1)\n",
        "\n",
        "plt.show() "
      ]
    },
    {
      "cell_type": "code",
      "execution_count": null,
      "metadata": {
        "colab": {
          "base_uri": "https://localhost:8080/"
        },
        "id": "LU5DXcf9e-Ux",
        "outputId": "716297d5-615c-4970-93de-aba54513cf86"
      },
      "outputs": [
        {
          "output_type": "stream",
          "name": "stdout",
          "text": [
            "Метрика F1_score на тестовой выборке  = 0.6296\n",
            "Метрика Accuracy  на тестовой выборке = 0.8233\n"
          ]
        }
      ],
      "source": [
        "# вывод дополнительных метрик\n",
        "predicted_test = best_estimator.predict(features_test)\n",
        "test_f1 = f1_score(target_test, predicted_test)\n",
        "print(f'Метрика F1_score на тестовой выборке  = {test_f1:.4f}')\n",
        "accuracy_test = accuracy_score(target_test, predicted_test)\n",
        "print(f'Метрика Accuracy  на тестовой выборке = {accuracy_test:.4f}')"
      ]
    },
    {
      "cell_type": "code",
      "execution_count": null,
      "metadata": {
        "colab": {
          "base_uri": "https://localhost:8080/",
          "height": 399
        },
        "id": "k3PciV9tFt9U",
        "outputId": "e1215650-96e8-4b53-d962-572295f7b5e6",
        "scrolled": true
      },
      "outputs": [
        {
          "output_type": "display_data",
          "data": {
            "text/plain": [
              "<Figure size 600x400 with 2 Axes>"
            ],
            "image/png": "[encoded data removed]"
          },
          "metadata": {}
        }
      ],
      "source": [
        "# Визуализация матрицы ошибок.\n",
        "# https://scikit-learn.org/stable/modules/generated/sklearn.metrics.ConfusionMatrixDisplay.html\n",
        "cm = confusion_matrix(target_test, predicted_test, labels=best_estimator.classes_)\n",
        "disp = ConfusionMatrixDisplay(confusion_matrix=cm, display_labels=best_estimator.classes_)\n",
        "disp.plot()\n",
        "plt.grid(which='major', axis='both', color='r', linestyle='-', linewidth=0)\n",
        "plt.show()"
      ]
    },
    {
      "cell_type": "code",
      "execution_count": null,
      "metadata": {
        "colab": {
          "base_uri": "https://localhost:8080/"
        },
        "id": "FikqZgWeAH3m",
        "outputId": "ee656f39-87dc-45d2-fcbd-a79c8a9772a8"
      },
      "outputs": [
        {
          "output_type": "execute_result",
          "data": {
            "text/plain": [
              "array([[1143,   90],\n",
              "       [ 210,  255]])"
            ]
          },
          "metadata": {},
          "execution_count": 1173
        }
      ],
      "source": [
        "cm"
      ]
    },
    {
      "cell_type": "code",
      "execution_count": null,
      "metadata": {
        "colab": {
          "base_uri": "https://localhost:8080/"
        },
        "id": "tJd9kLmKo-Ph",
        "outputId": "1f150c42-dfd0-4ed1-9240-be3b031e482c"
      },
      "outputs": [
        {
          "output_type": "stream",
          "name": "stdout",
          "text": [
            "              precision    recall  f1-score   support\n",
            "\n",
            "           0       0.84      0.93      0.88      1233\n",
            "           1       0.74      0.55      0.63       465\n",
            "\n",
            "    accuracy                           0.82      1698\n",
            "   macro avg       0.79      0.74      0.76      1698\n",
            "weighted avg       0.82      0.82      0.81      1698\n",
            "\n"
          ]
        }
      ],
      "source": [
        "# текстовый отчет, показывающий основные метрики классификации\n",
        "# sklearn.metrics.classification_report\n",
        "# https://scikit-learn.org/stable/modules/generated/sklearn.metrics.classification_report.html\n",
        "from sklearn.metrics import classification_report\n",
        "print(classification_report(target_test, best_estimator.predict(features_test)))"
      ]
    },
    {
      "cell_type": "markdown",
      "metadata": {
        "id": "sFBjU-FwNpJ0"
      },
      "source": [
        "<div class=\"alert alert-success\">\n",
        "<h2> Комментарий тимлида<a class=\"tocSkip\"> </h2>\n",
        "\n",
        "<b>Все отлично!👍:</b> хороший анализ модели"
      ]
    },
    {
      "cell_type": "markdown",
      "metadata": {
        "id": "gX5MiTFEwknh"
      },
      "source": [
        "## Анализ важности признаков"
      ]
    },
    {
      "cell_type": "code",
      "execution_count": null,
      "metadata": {
        "colab": {
          "base_uri": "https://localhost:8080/",
          "height": 601
        },
        "id": "sLgVmTGtnmT7",
        "outputId": "ec0b0bfe-042d-4491-d659-16bd2ddbd1be"
      },
      "outputs": [
        {
          "output_type": "display_data",
          "data": {
            "text/plain": [
              "<Figure size 600x600 with 1 Axes>"
            ],
            "image/png": "[encoded data removed]"
          },
          "metadata": {}
        }
      ],
      "source": [
        "# Важность перестановки для оценки признаков - графическая форма\n",
        "# https://scikit-learn.org/stable/modules/generated/sklearn.inspection.permutation_importance.html\n",
        "# https://scikit-learn.org/stable/modules/permutation_importance.html#permutation-importance\n",
        "sns.set(rc={\"figure.figsize\":( 6 , 6 )})\n",
        "r = permutation_importance(best_estimator, features_test, target_test, n_repeats=30, random_state=RANDOM_STATE, n_jobs=2)\n",
        "feature_names = features_test.columns\n",
        "fig, ax = plt.subplots()\n",
        "sorted_idx = r.importances_mean.argsort()\n",
        "ax.boxplot(\n",
        "    r.importances[sorted_idx].T, vert=False, labels=feature_names[sorted_idx]\n",
        ")\n",
        "ax.set_title(\"Важность перестановки каждого признака\", fontsize=16)\n",
        "ax.set_ylabel(\"Features\")\n",
        "fig.tight_layout()\n",
        "plt.show()"
      ]
    },
    {
      "cell_type": "code",
      "execution_count": null,
      "metadata": {
        "colab": {
          "base_uri": "https://localhost:8080/"
        },
        "id": "uI_HjDT6k-xz",
        "outputId": "7e6e1a6e-b930-48b2-9590-d9f4bf244140"
      },
      "outputs": [
        {
          "output_type": "stream",
          "name": "stdout",
          "text": [
            "Важность перестановки для оценки признаков\n",
            "count_months        0.055 +/- 0.005\n",
            "monthly_charges     0.021 +/- 0.005\n",
            "type                0.020 +/- 0.005\n",
            "internet_inc        0.007 +/- 0.003\n"
          ]
        }
      ],
      "source": [
        "# Важность перестановки для оценки признаков - табличная форма\n",
        "print('Важность перестановки для оценки признаков')\n",
        "for i in r.importances_mean.argsort()[::-1]:\n",
        "    if r.importances_mean[i] - 2 * r.importances_std[i] > 0:\n",
        "        print(f\"{features_test.columns[i]:<20}\"\n",
        "              f\"{r.importances_mean[i]:.3f}\"\n",
        "              f\" +/- {r.importances_std[i]:.3f}\")\n"
      ]
    },
    {
      "cell_type": "markdown",
      "metadata": {
        "id": "NiKccqKdNpJ0"
      },
      "source": [
        "<div class=\"alert alert-success\">\n",
        "<h2> Комментарий тимлида <a class=\"tocSkip\"> </h2>\n",
        "\n",
        "<b>Все отлично!👍:</b> плюс за раздел, понятно как модель принимает решение. В будущем можно оставить наиболее значимые признаки и посмотреть на качество модели."
      ]
    },
    {
      "cell_type": "markdown",
      "metadata": {
        "id": "EY1KtVZMNpJ0"
      },
      "source": [
        "<div style=\"border:solid Chocolate 2px; padding: 40px\">\n",
        "\n",
        "<h2>✔️ Заключение тимлида: <a class=\"tocSkip\"> </h2> \n",
        "    \n",
        "<b>Александр</b>,  хорошо, по метрике отличный результат, порог пройден, поздравляю! Можно приступать к отчету."
      ]
    },
    {
      "cell_type": "markdown",
      "metadata": {
        "id": "zIxGzRn3N5hG"
      },
      "source": [
        "\n",
        "\n",
        "---\n",
        "\n",
        "\n",
        "\n",
        "---\n",
        "\n",
        "\n",
        "\n",
        "---\n",
        "\n"
      ]
    }
  ],
  "metadata": {
    "ExecuteTimeLog": [
      {
        "duration": 1266,
        "start_time": "2023-03-29T12:36:43.774Z"
      },
      {
        "duration": 2404,
        "start_time": "2023-03-29T12:36:48.870Z"
      },
      {
        "duration": 144,
        "start_time": "2023-03-29T12:36:56.531Z"
      },
      {
        "duration": 14,
        "start_time": "2023-03-29T12:48:42.270Z"
      },
      {
        "duration": 13,
        "start_time": "2023-03-29T12:48:56.265Z"
      },
      {
        "duration": 12,
        "start_time": "2023-03-29T12:49:44.185Z"
      },
      {
        "duration": 15,
        "start_time": "2023-03-29T12:49:57.058Z"
      },
      {
        "duration": 9,
        "start_time": "2023-03-29T12:50:01.723Z"
      },
      {
        "duration": 11,
        "start_time": "2023-03-29T12:50:10.226Z"
      },
      {
        "duration": 5,
        "start_time": "2023-03-29T12:55:28.327Z"
      },
      {
        "duration": 5,
        "start_time": "2023-03-29T12:55:33.908Z"
      },
      {
        "duration": 4,
        "start_time": "2023-03-29T12:55:46.601Z"
      },
      {
        "duration": 9,
        "start_time": "2023-03-29T12:56:53.159Z"
      },
      {
        "duration": 3,
        "start_time": "2023-03-29T12:57:06.354Z"
      },
      {
        "duration": 4,
        "start_time": "2023-03-29T12:57:13.009Z"
      },
      {
        "duration": 75,
        "start_time": "2023-03-29T12:57:31.678Z"
      },
      {
        "duration": 94,
        "start_time": "2023-03-29T13:05:39.696Z"
      },
      {
        "duration": 5,
        "start_time": "2023-03-29T13:05:43.170Z"
      },
      {
        "duration": 4,
        "start_time": "2023-03-29T13:05:43.844Z"
      },
      {
        "duration": 7,
        "start_time": "2023-03-29T13:05:44.381Z"
      },
      {
        "duration": 21,
        "start_time": "2023-03-29T13:05:44.440Z"
      },
      {
        "duration": 12,
        "start_time": "2023-03-29T13:05:44.484Z"
      },
      {
        "duration": 9,
        "start_time": "2023-03-29T13:05:45.031Z"
      },
      {
        "duration": 11,
        "start_time": "2023-03-29T13:05:45.618Z"
      },
      {
        "duration": 6,
        "start_time": "2023-03-29T13:05:45.959Z"
      },
      {
        "duration": 7,
        "start_time": "2023-03-29T13:05:46.484Z"
      },
      {
        "duration": 4,
        "start_time": "2023-03-29T13:05:46.756Z"
      },
      {
        "duration": 7,
        "start_time": "2023-03-29T13:05:47.667Z"
      },
      {
        "duration": 66,
        "start_time": "2023-03-29T13:05:47.989Z"
      },
      {
        "duration": 7,
        "start_time": "2023-03-29T13:05:48.542Z"
      },
      {
        "duration": 66,
        "start_time": "2023-03-29T13:05:48.887Z"
      },
      {
        "duration": 13,
        "start_time": "2023-03-29T13:05:49.509Z"
      },
      {
        "duration": 13,
        "start_time": "2023-03-29T13:05:50.658Z"
      },
      {
        "duration": 20,
        "start_time": "2023-03-29T13:05:50.927Z"
      },
      {
        "duration": 17,
        "start_time": "2023-03-29T13:05:51.249Z"
      },
      {
        "duration": 15,
        "start_time": "2023-03-29T13:05:53.015Z"
      },
      {
        "duration": 93,
        "start_time": "2023-03-29T13:05:53.353Z"
      },
      {
        "duration": 7,
        "start_time": "2023-03-29T13:05:54.555Z"
      },
      {
        "duration": 99,
        "start_time": "2023-03-29T13:05:55.024Z"
      },
      {
        "duration": 11,
        "start_time": "2023-03-29T13:05:58.138Z"
      },
      {
        "duration": 4,
        "start_time": "2023-03-29T13:06:02.969Z"
      },
      {
        "duration": 166,
        "start_time": "2023-03-29T13:06:05.607Z"
      },
      {
        "duration": 27,
        "start_time": "2023-03-29T13:06:11.079Z"
      },
      {
        "duration": 16,
        "start_time": "2023-03-29T13:07:36.583Z"
      },
      {
        "duration": 10,
        "start_time": "2023-03-29T13:08:03.525Z"
      },
      {
        "duration": 15,
        "start_time": "2023-03-29T13:08:04.343Z"
      },
      {
        "duration": 7,
        "start_time": "2023-03-29T13:08:04.880Z"
      },
      {
        "duration": 7,
        "start_time": "2023-03-29T13:08:04.942Z"
      },
      {
        "duration": 5,
        "start_time": "2023-03-29T13:08:04.977Z"
      },
      {
        "duration": 6,
        "start_time": "2023-03-29T13:08:05.036Z"
      },
      {
        "duration": 128,
        "start_time": "2023-03-29T13:08:05.076Z"
      },
      {
        "duration": 7,
        "start_time": "2023-03-29T13:08:05.678Z"
      },
      {
        "duration": 4,
        "start_time": "2023-03-29T13:08:06.184Z"
      },
      {
        "duration": 25,
        "start_time": "2023-03-29T13:08:06.249Z"
      },
      {
        "duration": 126,
        "start_time": "2023-03-29T13:08:06.278Z"
      },
      {
        "duration": 0,
        "start_time": "2023-03-29T13:08:06.406Z"
      },
      {
        "duration": 17,
        "start_time": "2023-03-29T13:08:06.939Z"
      },
      {
        "duration": 16,
        "start_time": "2023-03-29T13:08:07.541Z"
      },
      {
        "duration": 11,
        "start_time": "2023-03-29T13:08:07.577Z"
      },
      {
        "duration": 10,
        "start_time": "2023-03-29T13:08:07.608Z"
      },
      {
        "duration": 4,
        "start_time": "2023-03-29T13:08:07.634Z"
      },
      {
        "duration": 8,
        "start_time": "2023-03-29T13:08:08.262Z"
      },
      {
        "duration": 4,
        "start_time": "2023-03-29T13:08:08.775Z"
      },
      {
        "duration": 245,
        "start_time": "2023-03-29T13:08:08.830Z"
      },
      {
        "duration": 13,
        "start_time": "2023-03-29T13:08:09.077Z"
      },
      {
        "duration": 12,
        "start_time": "2023-03-29T13:08:10.220Z"
      },
      {
        "duration": 7,
        "start_time": "2023-03-29T13:08:10.241Z"
      },
      {
        "duration": 7,
        "start_time": "2023-03-29T13:08:10.714Z"
      },
      {
        "duration": 5,
        "start_time": "2023-03-29T13:08:11.222Z"
      },
      {
        "duration": 7,
        "start_time": "2023-03-29T13:08:11.248Z"
      },
      {
        "duration": 90,
        "start_time": "2023-03-29T13:08:11.280Z"
      },
      {
        "duration": 12,
        "start_time": "2023-03-29T13:08:11.373Z"
      },
      {
        "duration": 4,
        "start_time": "2023-03-29T14:21:08.378Z"
      },
      {
        "duration": 1396,
        "start_time": "2023-03-29T14:21:08.384Z"
      },
      {
        "duration": 418,
        "start_time": "2023-03-29T14:21:09.782Z"
      },
      {
        "duration": 5,
        "start_time": "2023-03-29T14:21:10.202Z"
      },
      {
        "duration": 5,
        "start_time": "2023-03-29T14:21:10.209Z"
      },
      {
        "duration": 9,
        "start_time": "2023-03-29T14:21:10.215Z"
      },
      {
        "duration": 12,
        "start_time": "2023-03-29T14:21:10.226Z"
      },
      {
        "duration": 11,
        "start_time": "2023-03-29T14:21:10.240Z"
      },
      {
        "duration": 7,
        "start_time": "2023-03-29T14:21:10.252Z"
      },
      {
        "duration": 6,
        "start_time": "2023-03-29T14:21:10.261Z"
      },
      {
        "duration": 4,
        "start_time": "2023-03-29T14:21:10.269Z"
      },
      {
        "duration": 8,
        "start_time": "2023-03-29T14:21:10.274Z"
      },
      {
        "duration": 4,
        "start_time": "2023-03-29T14:21:10.285Z"
      },
      {
        "duration": 10,
        "start_time": "2023-03-29T14:21:10.291Z"
      },
      {
        "duration": 95,
        "start_time": "2023-03-29T14:21:10.302Z"
      },
      {
        "duration": 6,
        "start_time": "2023-03-29T14:21:10.399Z"
      },
      {
        "duration": 79,
        "start_time": "2023-03-29T14:21:10.407Z"
      },
      {
        "duration": 13,
        "start_time": "2023-03-29T14:21:10.488Z"
      },
      {
        "duration": 12,
        "start_time": "2023-03-29T14:21:10.502Z"
      },
      {
        "duration": 31,
        "start_time": "2023-03-29T14:21:10.516Z"
      },
      {
        "duration": 12,
        "start_time": "2023-03-29T14:21:10.549Z"
      },
      {
        "duration": 14,
        "start_time": "2023-03-29T14:21:10.562Z"
      },
      {
        "duration": 113,
        "start_time": "2023-03-29T14:21:10.578Z"
      },
      {
        "duration": 7,
        "start_time": "2023-03-29T14:21:10.692Z"
      },
      {
        "duration": 99,
        "start_time": "2023-03-29T14:21:10.700Z"
      },
      {
        "duration": 9,
        "start_time": "2023-03-29T14:21:10.800Z"
      },
      {
        "duration": 8,
        "start_time": "2023-03-29T14:21:10.811Z"
      },
      {
        "duration": 145,
        "start_time": "2023-03-29T14:21:10.820Z"
      },
      {
        "duration": 8,
        "start_time": "2023-03-29T14:21:10.967Z"
      },
      {
        "duration": 14,
        "start_time": "2023-03-29T14:21:10.977Z"
      },
      {
        "duration": 9,
        "start_time": "2023-03-29T14:21:10.992Z"
      },
      {
        "duration": 13,
        "start_time": "2023-03-29T14:21:11.002Z"
      },
      {
        "duration": 25,
        "start_time": "2023-03-29T14:21:11.017Z"
      },
      {
        "duration": 10,
        "start_time": "2023-03-29T14:21:11.044Z"
      },
      {
        "duration": 105,
        "start_time": "2023-03-29T14:21:11.056Z"
      },
      {
        "duration": 6,
        "start_time": "2023-03-29T14:21:11.163Z"
      },
      {
        "duration": 4,
        "start_time": "2023-03-29T14:21:11.172Z"
      },
      {
        "duration": 27,
        "start_time": "2023-03-29T14:21:11.178Z"
      },
      {
        "duration": 224,
        "start_time": "2023-03-29T14:21:11.207Z"
      },
      {
        "duration": 0,
        "start_time": "2023-03-29T14:21:11.440Z"
      },
      {
        "duration": 0,
        "start_time": "2023-03-29T14:21:11.442Z"
      },
      {
        "duration": 0,
        "start_time": "2023-03-29T14:21:11.443Z"
      },
      {
        "duration": 0,
        "start_time": "2023-03-29T14:21:11.444Z"
      },
      {
        "duration": 0,
        "start_time": "2023-03-29T14:21:11.445Z"
      },
      {
        "duration": 0,
        "start_time": "2023-03-29T14:21:11.446Z"
      },
      {
        "duration": 0,
        "start_time": "2023-03-29T14:21:11.447Z"
      },
      {
        "duration": 0,
        "start_time": "2023-03-29T14:21:11.449Z"
      },
      {
        "duration": 0,
        "start_time": "2023-03-29T14:21:11.450Z"
      },
      {
        "duration": 0,
        "start_time": "2023-03-29T14:21:11.451Z"
      },
      {
        "duration": 0,
        "start_time": "2023-03-29T14:21:11.452Z"
      },
      {
        "duration": 0,
        "start_time": "2023-03-29T14:21:11.453Z"
      },
      {
        "duration": 0,
        "start_time": "2023-03-29T14:21:11.454Z"
      },
      {
        "duration": 0,
        "start_time": "2023-03-29T14:21:11.455Z"
      },
      {
        "duration": 0,
        "start_time": "2023-03-29T14:21:11.456Z"
      },
      {
        "duration": 0,
        "start_time": "2023-03-29T14:21:11.457Z"
      },
      {
        "duration": 0,
        "start_time": "2023-03-29T14:21:11.458Z"
      },
      {
        "duration": 137,
        "start_time": "2023-03-29T14:22:39.070Z"
      },
      {
        "duration": 96,
        "start_time": "2023-03-29T14:23:31.980Z"
      },
      {
        "duration": 3,
        "start_time": "2023-03-29T14:24:55.402Z"
      },
      {
        "duration": 14,
        "start_time": "2023-03-29T14:24:55.406Z"
      },
      {
        "duration": 105,
        "start_time": "2023-03-29T14:24:55.422Z"
      },
      {
        "duration": 4,
        "start_time": "2023-03-29T14:24:55.529Z"
      },
      {
        "duration": 15,
        "start_time": "2023-03-29T14:24:55.534Z"
      },
      {
        "duration": 10,
        "start_time": "2023-03-29T14:24:55.550Z"
      },
      {
        "duration": 32,
        "start_time": "2023-03-29T14:24:55.562Z"
      },
      {
        "duration": 15,
        "start_time": "2023-03-29T14:24:55.596Z"
      },
      {
        "duration": 8,
        "start_time": "2023-03-29T14:24:55.613Z"
      },
      {
        "duration": 5,
        "start_time": "2023-03-29T14:24:55.623Z"
      },
      {
        "duration": 9,
        "start_time": "2023-03-29T14:24:55.629Z"
      },
      {
        "duration": 7,
        "start_time": "2023-03-29T14:24:55.639Z"
      },
      {
        "duration": 14,
        "start_time": "2023-03-29T14:24:55.647Z"
      },
      {
        "duration": 19,
        "start_time": "2023-03-29T14:24:55.662Z"
      },
      {
        "duration": 69,
        "start_time": "2023-03-29T14:24:55.683Z"
      },
      {
        "duration": 6,
        "start_time": "2023-03-29T14:24:55.754Z"
      },
      {
        "duration": 65,
        "start_time": "2023-03-29T14:24:55.761Z"
      },
      {
        "duration": 20,
        "start_time": "2023-03-29T14:24:55.827Z"
      },
      {
        "duration": 14,
        "start_time": "2023-03-29T14:24:55.849Z"
      },
      {
        "duration": 19,
        "start_time": "2023-03-29T14:24:55.864Z"
      },
      {
        "duration": 16,
        "start_time": "2023-03-29T14:24:55.885Z"
      },
      {
        "duration": 21,
        "start_time": "2023-03-29T14:24:55.902Z"
      },
      {
        "duration": 81,
        "start_time": "2023-03-29T14:24:55.925Z"
      },
      {
        "duration": 5,
        "start_time": "2023-03-29T14:24:56.010Z"
      },
      {
        "duration": 155,
        "start_time": "2023-03-29T14:24:56.016Z"
      },
      {
        "duration": 8,
        "start_time": "2023-03-29T14:24:56.173Z"
      },
      {
        "duration": 4,
        "start_time": "2023-03-29T14:24:56.183Z"
      },
      {
        "duration": 135,
        "start_time": "2023-03-29T14:24:56.189Z"
      },
      {
        "duration": 15,
        "start_time": "2023-03-29T14:24:56.326Z"
      },
      {
        "duration": 13,
        "start_time": "2023-03-29T14:24:56.343Z"
      },
      {
        "duration": 6,
        "start_time": "2023-03-29T14:24:56.358Z"
      },
      {
        "duration": 14,
        "start_time": "2023-03-29T14:24:56.365Z"
      },
      {
        "duration": 5,
        "start_time": "2023-03-29T14:24:56.381Z"
      },
      {
        "duration": 7,
        "start_time": "2023-03-29T14:24:56.387Z"
      },
      {
        "duration": 115,
        "start_time": "2023-03-29T14:24:56.395Z"
      },
      {
        "duration": 6,
        "start_time": "2023-03-29T14:24:56.512Z"
      },
      {
        "duration": 5,
        "start_time": "2023-03-29T14:24:56.520Z"
      },
      {
        "duration": 36,
        "start_time": "2023-03-29T14:24:56.526Z"
      },
      {
        "duration": 113,
        "start_time": "2023-03-29T14:24:56.564Z"
      },
      {
        "duration": 97,
        "start_time": "2023-03-29T14:24:56.679Z"
      },
      {
        "duration": 14,
        "start_time": "2023-03-29T14:24:56.777Z"
      },
      {
        "duration": 21,
        "start_time": "2023-03-29T14:24:56.793Z"
      },
      {
        "duration": 11,
        "start_time": "2023-03-29T14:24:56.815Z"
      },
      {
        "duration": 15,
        "start_time": "2023-03-29T14:24:56.827Z"
      },
      {
        "duration": 3,
        "start_time": "2023-03-29T14:24:56.844Z"
      },
      {
        "duration": 5,
        "start_time": "2023-03-29T14:24:56.849Z"
      },
      {
        "duration": 6,
        "start_time": "2023-03-29T14:24:56.855Z"
      },
      {
        "duration": 228,
        "start_time": "2023-03-29T14:24:56.862Z"
      },
      {
        "duration": 11,
        "start_time": "2023-03-29T14:24:57.092Z"
      },
      {
        "duration": 17,
        "start_time": "2023-03-29T14:24:57.105Z"
      },
      {
        "duration": 22,
        "start_time": "2023-03-29T14:24:57.124Z"
      },
      {
        "duration": 8,
        "start_time": "2023-03-29T14:24:57.147Z"
      },
      {
        "duration": 3,
        "start_time": "2023-03-29T14:24:57.157Z"
      },
      {
        "duration": 10,
        "start_time": "2023-03-29T14:24:57.162Z"
      },
      {
        "duration": 74,
        "start_time": "2023-03-29T14:24:57.174Z"
      },
      {
        "duration": 11,
        "start_time": "2023-03-29T14:24:57.249Z"
      },
      {
        "duration": 1303,
        "start_time": "2023-03-29T20:27:58.126Z"
      },
      {
        "duration": 419,
        "start_time": "2023-03-29T20:27:59.683Z"
      }
    ],
    "colab": {
      "provenance": [],
      "include_colab_link": true
    },
    "kernelspec": {
      "display_name": "Python 3 (ipykernel)",
      "language": "python",
      "name": "python3"
    },
    "language_info": {
      "codemirror_mode": {
        "name": "ipython",
        "version": 3
      },
      "file_extension": ".py",
      "mimetype": "text/x-python",
      "name": "python",
      "nbconvert_exporter": "python",
      "pygments_lexer": "ipython3",
      "version": "3.9.5"
    },
    "toc": {
      "base_numbering": 1,
      "nav_menu": {},
      "number_sections": true,
      "sideBar": true,
      "skip_h1_title": true,
      "title_cell": "Table of Contents",
      "title_sidebar": "Contents",
      "toc_cell": false,
      "toc_position": {},
      "toc_section_display": true,
      "toc_window_display": false
    }
  },
  "nbformat": 4,
  "nbformat_minor": 0
}